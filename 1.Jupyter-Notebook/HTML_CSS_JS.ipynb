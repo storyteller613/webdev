{
 "cells": [
  {
   "cell_type": "markdown",
   "metadata": {
    "collapsed": true
   },
   "source": [
    "**Contents:**\n",
    "* [Basic Tags](#0)\n",
    "* [HTML Boilerplate and Comments](#1)\n",
    "* [HTML Attributes](#2)\n",
    "* [CSS Basics](#3)\n",
    "* [Text and Fonts](#4)\n",
    "* [Box Model](#5)\n",
    "* [Bootstrap](#6)\n",
    "* [JavaScript](#7)\n",
    "* [Javascript Basics: Control Flow](#8)\n",
    "* [Functions](#9)\n",
    "* [Array](#10)\n",
    "* [JavaScript Basics: Objects](#11)\n",
    "* [DOM: Document Object Model](#12)\n",
    "* [](#13)\n",
    "* [](#14)\n",
    "* [](#15)\n",
    "* [](#16)\n",
    "* [](#17)\n",
    "* [](#18)\n",
    "* [](#19)\n",
    "* [](#20)"
   ]
  },
  {
   "cell_type": "markdown",
   "metadata": {},
   "source": [
    "**Basic Tags:**\n",
    "* [The General Rule](#0.0)\n",
    "* [Common Tags](#0.1)\n",
    "* [Closing tags](#0.2)\n",
    "* [Self-closing tags](#0.3)\n",
    "* [Attributes](#0.4)\n",
    "* [](#0.5)\n",
    "* [](#0.6)\n",
    "* [](#0.7)\n",
    "* [](#0.8)\n",
    "* [](#0.9)\n",
    "* [](#0.10)"
   ]
  },
  {
   "cell_type": "markdown",
   "metadata": {},
   "source": [
    "**HTML Boilerplate and Comments:**\n",
    "* [Common Tags](#1.0)\n",
    "* [Divs & Spans](#1.1)\n",
    "* [](#1.2)\n",
    "* [](#1.3)\n",
    "* [](#1.4)\n",
    "* [](#1.5)"
   ]
  },
  {
   "cell_type": "markdown",
   "metadata": {},
   "source": [
    "**HTML Attributes:**\n",
    "* [Images](#2.0)\n",
    "* [Links](#2.1)\n",
    "* [HTML Tables](#2.2)\n",
    "* [Form Tag](#2.3)\n",
    "* [The <input> Tag](#2.4)\n",
    "* [Simple Form, Labels, Simple Validation](#2.5)\n",
    "* [Radio button, Drop down menu, textarea, form Exercise](#2.6)\n",
    "* [](#2.7)\n",
    "* [](#2.8)\n",
    "* [](#2.9)\n",
    "* [](#2.10)"
   ]
  },
  {
   "cell_type": "markdown",
   "metadata": {},
   "source": [
    "**CSS:**\n",
    "* [CSS Basics: selector, key value pairs, link tag + css file](#3.0)\n",
    "* [CSS Colors](#3.1)\n",
    "* [CSS:Color and Background](#3.2)\n",
    "* [CSS:Selectors Basics Todo list](#3.3)\n",
    "* [CSS:More Advanced Selectors: star, descendent selector, adjacent selector, attribute selector, Nth of a type](#3.4)\n",
    "* [](#3.5)\n",
    "* [](#3.6)\n",
    "* [](#3.7)\n",
    "* [](#3.8)\n",
    "* [](#3.9)\n",
    "* [](#3.10)"
   ]
  },
  {
   "cell_type": "markdown",
   "metadata": {},
   "source": [
    "**Text and Fonts:**\n",
    "* [font-family](#4.0)\n",
    "* [font-size](#4.1)\n",
    "* [font-weight](#4.2)\n",
    "* [line-height](#4.3)\n",
    "* [text-align](#4.4)\n",
    "* [ext-decoration](#4.5)"
   ]
  },
  {
   "cell_type": "markdown",
   "metadata": {},
   "source": [
    "**Box Model:**\n",
    "* [boxmodel.html](#5.0)\n",
    "* [style.css](#5.1)\n",
    "* [](#5.2)\n",
    "* [](#5.3)\n",
    "* [](#5.4)\n",
    "* [](#5.5)"
   ]
  },
  {
   "cell_type": "markdown",
   "metadata": {},
   "source": [
    "**Bootstrap:**\n",
    "* [Forms & Inputs:](#6.0)\n",
    "* [](#6.1)\n",
    "* [](#6.2)\n",
    "* [](#6.3)\n",
    "* [](#6.4)\n",
    "* [](#6.5)"
   ]
  },
  {
   "cell_type": "markdown",
   "metadata": {},
   "source": [
    "**JavaScript:**\n",
    "* [Primitives Datatypes](#7.0)\n",
    "* [Variables](#7.1)\n",
    "* [Null and Undefined](#7.2)\n",
    "* [Useful Built-In Methods](#7.3)\n",
    "* [Writing JavaScript in a Separate File](#7.4)\n",
    "* [Age Calculator](#7.5)\n",
    "* [](#7.6)\n",
    "* [](#7.7)\n",
    "* [](#7.8)\n",
    "* [](#7.9)\n",
    "* [](#7.10)"
   ]
  },
  {
   "cell_type": "markdown",
   "metadata": {},
   "source": [
    "**Javascript Basics: Control Flow:**\n",
    "* [Conditionals:](#8.0)\n",
    "* [While Loops:](#8.1)\n",
    "* [For loops](#8.2)\n",
    "* [](#8.3)\n",
    "* [](#8.4)\n",
    "* [](#8.5)\n",
    "* [](#8.6)\n",
    "* [](#8.7)\n",
    "* [](#8.8)\n",
    "* [](#8.9)\n",
    "* [](#8.10)"
   ]
  },
  {
   "cell_type": "markdown",
   "metadata": {},
   "source": [
    "**Functions:**\n",
    "* [Arguments](#9.0)\n",
    "* [The Return Keyword](#9.1)\n",
    "* [JS Scope](#9.2)\n",
    "* [High Order Functions Code Along:](#9.3)\n",
    "* [](#9.4)\n",
    "* [](#9.5)\n",
    "* [](#9.6)\n",
    "* [](#9.7)\n",
    "* [](#9.8)\n",
    "* [](#9.9)\n",
    "* [](#9.10)"
   ]
  },
  {
   "cell_type": "markdown",
   "metadata": {},
   "source": [
    "**Array:**\n",
    "* [Array methods:](#10.0)\n",
    "* [Shift and Unshift:](#10.1)\n",
    "* [IndexOf](#10.2)\n",
    "* [Slice:](#10.3)\n",
    "* [Array Iteration:](#10.4)\n",
    "* [.forEach:](#10.5)\n",
    "* [Array Problem Set](#10.6)\n",
    "* [updating data:](#10.7)\n",
    "* [](#10.8)\n",
    "* [](#10.9)\n",
    "* [](#10.10)"
   ]
  },
  {
   "cell_type": "markdown",
   "metadata": {},
   "source": [
    "**JavaScript Basics: Objects:**\n",
    "* [Creating obejcts:](#11.0)\n",
    "* [Objects can hold all sorts of data](#11.1)\n",
    "* [Array with Object:](#11.2)\n",
    "* [Make the program more concise: add a function](#11.3)\n",
    "* [Adding Methods to Objects](#11.4)\n",
    "* [The Keyword This:](#11.5)\n",
    "* [](#11.6)\n",
    "* [](#11.7)\n",
    "* [](#11.8)\n",
    "* [](#11.9)\n",
    "* [](#11.10)"
   ]
  },
  {
   "cell_type": "markdown",
   "metadata": {},
   "source": [
    "**DOM: Document Object Model:**\n",
    "* [Select and Manipulate:](#12.0)\n",
    "* [Important Selector Methods:](#12.1)\n",
    "* [getElementByClassName: takes a string argument and returns a list of elements that have a matching class](#12.2)\n",
    "* [getElementsByTagName: returns a list of all elements of a given tag name, like li or h1](#12.3)\n",
    "* [querySelector: returns the first element that matchese a given CSS-style selector](#12.4)\n",
    "* [querySelectorAll: returns a list of elements that matches a given CSS-style selector](#12.5)\n",
    "* [DOM Manipulation](#12.6)\n",
    "* [Manipulating Text and Content](#12.7)\n",
    "* [Attributes: ](#12.8)\n",
    "* [](#12.9)\n",
    "* [](#12.10)"
   ]
  },
  {
   "cell_type": "markdown",
   "metadata": {},
   "source": [
    "<a id='0'></a>\n",
    "## Basic Tags"
   ]
  },
  {
   "cell_type": "markdown",
   "metadata": {},
   "source": [
    "<a id='0.0'></a>\n",
    "### The General Rule"
   ]
  },
  {
   "cell_type": "markdown",
   "metadata": {},
   "source": [
    "<tagName> Some content </tagName>"
   ]
  },
  {
   "cell_type": "markdown",
   "metadata": {},
   "source": [
    "<a id='0.1'></a>\n",
    "### Common Tags"
   ]
  },
  {
   "cell_type": "markdown",
   "metadata": {},
   "source": [
    "<h1>I'm a header </h1>\n",
    "<h2>I'm a slightly smaller header </h2>\n",
    "<h6>I'm the smallest header </h6>\n",
    "\n",
    "<p>I'm a paragraph</p>\n",
    "\n",
    "<button>I'm a button!</button>\n",
    "\n",
    "<!--unordered list -->\n",
    "<ul>\n",
    "\t<li>List Item 1</li>\n",
    "\t<li>List Item 2</li>\n",
    "</ul>\n",
    "\n",
    "<!--ordered list -->\n",
    "<ol>\n",
    "\t<li>List Item 1</li>\n",
    "\t<li>List Item 2</li>\n",
    "</ol>"
   ]
  },
  {
   "cell_type": "markdown",
   "metadata": {},
   "source": [
    "<a id='0.2'></a>\n",
    "### Closing tags"
   ]
  },
  {
   "cell_type": "markdown",
   "metadata": {},
   "source": [
    "<h1>I need a closing tag </h1>\n",
    "\n",
    "<p>Me too!</p>"
   ]
  },
  {
   "cell_type": "markdown",
   "metadata": {},
   "source": [
    "<a id='0.3'></a>\n",
    "### Self-closing tags"
   ]
  },
  {
   "cell_type": "markdown",
   "metadata": {},
   "source": [
    "<!-- No closing tag or inner text needed -->\n",
    "\n",
    "<img src=\"corgi.png\">\n",
    "\n",
    "<link href=\"style.css\">\n",
    "\n",
    "<!-- Don't worry about what these tags do yet -->"
   ]
  },
  {
   "cell_type": "markdown",
   "metadata": {},
   "source": [
    "<a id='0.4'></a>\n",
    "### Attributes"
   ]
  },
  {
   "cell_type": "markdown",
   "metadata": {},
   "source": [
    "Adding Additional Information To Tags\n",
    "\n",
    "<tag name=\"value\"></tag>\n",
    "\n",
    "Image:\n",
    "<img src=\"corgi.png\">\n",
    "\n",
    "Paragraph:\n",
    "<p class=\"selected\">woof woof</p>\n",
    "\n",
    "Link:\n",
    "<a href=\"www.google.com\">Click me to go to Google</a>\n",
    "\n",
    "<link rel=\"stylesheet\" type=\"text/css\" href=\"style.css\">\n"
   ]
  },
  {
   "cell_type": "markdown",
   "metadata": {},
   "source": [
    "<a id='1'></a>\n",
    "## HTML Boilerplate and Comments"
   ]
  },
  {
   "cell_type": "markdown",
   "metadata": {},
   "source": [
    "**HTML Boilerplate and Comments:**\n",
    "* [Common Tags](#1.0)\n",
    "* [Divs & Spans](#1.1)\n",
    "* [](#1.2)\n",
    "* [](#1.3)\n",
    "* [](#1.4)\n",
    "* [](#1.5)"
   ]
  },
  {
   "cell_type": "markdown",
   "metadata": {},
   "source": [
    "<!DOCTYPE html>\n",
    "<html>\n",
    "<head>\n",
    "\n",
    "<!-- This is a comment.-->\n",
    "<!-- metadata goes in head -->\n",
    "\n",
    "\t<title>My first page.</title>\n",
    "</head>\n",
    "<body>\n",
    "\n",
    "<!-- content goes in the body -->\n",
    "\t<h1>This is my first tag!!!</h1>\n",
    "\n",
    "</body>\n",
    "</html>"
   ]
  },
  {
   "cell_type": "markdown",
   "metadata": {},
   "source": [
    "<a id='1.0'></a>\n",
    "### Common Tags"
   ]
  },
  {
   "cell_type": "markdown",
   "metadata": {},
   "source": [
    "<!DOCTYPE html>\n",
    "<html>\n",
    "<head>\n",
    "\n",
    "<!-- This is a comment.-->\n",
    "<!-- metadata goes in head -->\n",
    "\n",
    "\t<title>My first page.</title>\n",
    "</head>\n",
    "<body>\n",
    "\n",
    "<!-- content goes in the body -->\n",
    "\t<h1>This is my first tag!!!</h1>\n",
    "\t<h2>This is an h2!!!</h2>\n",
    "\t<h3>This is an h3!!!</h3>\n",
    "\t<h4>This is an h4!!!</h4>\n",
    "\t<h5>This is an h5!!!</h5>\n",
    "\t<h6>This is an h6!!!</h6>\n",
    "\n",
    "\t<p>This is some text blah blah</p>\n",
    "\t<p>blah blah</p>\n",
    "</body>\n",
    "</html>"
   ]
  },
  {
   "cell_type": "markdown",
   "metadata": {},
   "source": [
    "<a id='1.1'></a>\n",
    "### Divs & Spans\n",
    "\n",
    "Divs\n",
    "-grouped in a container\n",
    "-generic box/container\n",
    "-block level element\n",
    "\n",
    "Spans\n",
    "-generic container\n",
    "-inline container"
   ]
  },
  {
   "cell_type": "markdown",
   "metadata": {},
   "source": [
    "<!DOCTYPE html>\n",
    "<html>\n",
    "<head>\n",
    "\t<title></title>\n",
    "</head>\n",
    "<body>\n",
    "\n",
    "<div>\n",
    "\n",
    "<h1>fadkkjfndkl</h1>\n",
    "\n",
    "<p>Lorem <span>ipsum dolor sit</span> amet, consectetur adipisicing elit, sed do eiusmod\n",
    "tempor incididunt ut labore et dolore magna aliqua. Ut enim ad minim veniam,\n",
    "quis nostrud exercitation ullamco laboris nisi ut aliquip ex ea commodo\n",
    "consequat. Duis aute irure dolor in reprehenderit in voluptate velit esse\n",
    "cillum dolore eu fugiat nulla pariatur. Excepteur sint occaecat cupidatat non\n",
    "proident, sunt in culpa qui officia deserunt mollit anim id est laborum.</p>\n",
    "\n",
    "</div>\n",
    "\n",
    "Lorem ipsum dolor sit amet, consectetur adipisicing elit, sed do eiusmod\n",
    "tempor incididunt ut labore et dolore magna aliqua. Ut enim ad minim veniam,\n",
    "quis nostrud exercitation ullamco laboris nisi ut aliquip ex ea commodo\n",
    "consequat. Duis aute irure dolor in reprehenderit in voluptate velit esse\n",
    "cillum dolore eu fugiat nulla pariatur. Excepteur sint occaecat cupidatat non\n",
    "proident, sunt in culpa qui officia deserunt mollit anim id est laborum.\n",
    "</body>\n",
    "</html>"
   ]
  },
  {
   "cell_type": "markdown",
   "metadata": {},
   "source": [
    "<a id='2'></a>\n",
    "## HTML Attributes"
   ]
  },
  {
   "cell_type": "markdown",
   "metadata": {},
   "source": [
    "**HTML Attributes:**\n",
    "* [Images](#2.0)\n",
    "* [Links](#2.1)\n",
    "* [HTML Tables](#2.2)\n",
    "* [Form Tag](#2.3)\n",
    "* [The input Tag:<input>](#2.4)\n",
    "* [Simple Form, Labels, Simple Validation](#2.5)\n",
    "* [Radio button, Drop down menu, textarea, form Exercise](#2.6)\n",
    "* [](#2.7)\n",
    "* [](#2.8)\n",
    "* [](#2.9)\n",
    "* [](#2.10)"
   ]
  },
  {
   "cell_type": "markdown",
   "metadata": {},
   "source": [
    "<a id='2.0'></a>\n",
    "### Images"
   ]
  },
  {
   "cell_type": "raw",
   "metadata": {},
   "source": [
    "<img src=\"corgi.png\">"
   ]
  },
  {
   "cell_type": "markdown",
   "metadata": {},
   "source": [
    "<a id='2.1'></a>\n",
    "### Links"
   ]
  },
  {
   "cell_type": "raw",
   "metadata": {},
   "source": [
    "<a href=\"url\">Link Text</a>"
   ]
  },
  {
   "cell_type": "raw",
   "metadata": {},
   "source": [
    "<tagName> Some Content </tagName>\n",
    "\n",
    "<a href=\"url\">Link Text</a>\n",
    "\n",
    "<a  href=\"www.google.com\">Click me to go to Google</a>\n",
    "\n",
    "<a href=\"www.reddit.com\">Click me to go to Reddit</a>\n",
    "\n",
    "<h1>I'm a header </h1>\n",
    "<h2>I'm a slightly smaller header </h2>\n",
    "<h6>I'm the smallest header </h6>\n",
    "\n",
    "<p>I'm a paragraph</p>\n",
    "\n",
    "<button>I'm a button!</button>\n",
    "\n",
    "<ul>\n",
    "\t<li>List Item 1</li>\n",
    "\t<li>List Item 2</li>\n",
    "</ul>\n",
    "\n",
    "\n",
    "<ol>\n",
    "\t<li>List Item 1</li>\n",
    "\t<li>List Item 2</li>\n",
    "</ol>\n",
    "\n",
    "Closing tags:\n",
    "\n",
    "<h1>I need a closing tag </h1>\n",
    "\n",
    "<p>Me too!</p>\n",
    "\n",
    "Self-Closing Tags:\n",
    "\n",
    "<!-- No closing tag or inner text needed -->\n",
    "\n",
    "<img src=\"corgi.png\">\n",
    "\n",
    "<link href=\"style.css\">\n",
    "\n",
    "<!-- Don't worry about what these tags do yet -->"
   ]
  },
  {
   "cell_type": "markdown",
   "metadata": {},
   "source": [
    "<a id='2.2'></a>\n",
    "### HTML Tables"
   ]
  },
  {
   "cell_type": "raw",
   "metadata": {},
   "source": [
    "<!DOCTYPE html>\n",
    "<html>\n",
    "<head>\n",
    "\t<title>pokemon chart</title>\n",
    "</head>\n",
    "<body>\n",
    "\n",
    "<h2>First Gen Pokemon Chart</h2>\n",
    "\n",
    "</head>\n",
    "<body>\n",
    "<table border=\"1\">\n",
    "<thead>\n",
    "\t<tr>\n",
    "\t\t<th>Image</th>\n",
    "\t\t<th>Name</th>\n",
    "\t\t<th>Type</th>\n",
    "\t\t<th>Evovles to</th>\n",
    "\t</tr>\n",
    "</thead>\n",
    "\n",
    "<tbody>\n",
    "<!-- Bulbaseur -->\n",
    "\t<tr>\n",
    "\t\t<td><img width=\"50\" src=\"http://img4.wikia.nocookie.net/__cb20140328190757/pokemon/images/thumb/2/21/001Bulbasaur.png/200px-001Bulbasaur.png\"></td>\n",
    "\t\t<td>Bulbasaur</td>\n",
    "\t\t<td>Grass/Poison</td>\n",
    "\t\t<td><a href=\"http://pokemon.wikia.com/wiki/Ivysaur\">Ivysaur</a></td>\n",
    "\t\t\n",
    "\t</tr>\n",
    "<!-- Charmander -->\n",
    "\t<tr>\n",
    "\t\t<td><img width=\"50\" src=\"http://img4.wikia.nocookie.net/__cb20140724195345/pokemon/images/thumb/7/73/004Charmander.png/200px-004Charmander.png\"></td>\n",
    "\t\t<td>Charmander</td>\n",
    "\t\t<td>Fire</td>\n",
    "\t\t<td><a href=\"http://pokemon.wikia.com/wiki/Charmeleon\">Charmeleon</a></td>\n",
    "\t</tr>\n",
    "<!-- Squirtle -->\n",
    "\t<tr>\n",
    "\t\t<td><img width=\"50\" src=\"http://img1.wikia.nocookie.net/__cb20140328191525/pokemon/images/thumb/3/39/007Squirtle.png/200px-007Squirtle.png\"></td>\n",
    "\t\t<td>Squirtle</td>\n",
    "\t\t<td>Water</td>\n",
    "\t\t<td><a href=\"http://pokemon.wikia.com/wiki/Wartortle\">Wartortle</a></td>\n",
    "\t</tr>\n",
    "</tbody>\n",
    "</table>\n",
    "\n",
    "</body>\n",
    "</html>"
   ]
  },
  {
   "cell_type": "markdown",
   "metadata": {},
   "source": [
    "### HTML Forms: Getting User Input"
   ]
  },
  {
   "cell_type": "markdown",
   "metadata": {},
   "source": [
    "<a id='2.3'></a>\n",
    "### Form Tag"
   ]
  },
  {
   "cell_type": "raw",
   "metadata": {},
   "source": [
    "<form action=\"/my-form-submitting-page\" mathod=\"post\">\n",
    "\t<!-- All our inputs will go in here -->\n",
    "</form>\n",
    "\n",
    "-action: the URL to send form data to\n",
    "-method: the type of HTTP request\n",
    "*get request: searching, retrieving data, get info\n",
    "*post request: sending data, i.e. add to database, posted to server"
   ]
  },
  {
   "cell_type": "markdown",
   "metadata": {},
   "source": [
    "<a id='2.4'></a>\n",
    "### The Input Tag: <input>"
   ]
  },
  {
   "cell_type": "raw",
   "metadata": {},
   "source": [
    "<input type=\"text\">\n",
    "<input type=\"date\">\n",
    "<input type=\"color\">\n",
    "<input type=\"file\">\n",
    "<input type=\"checkbox\">"
   ]
  },
  {
   "cell_type": "raw",
   "metadata": {},
   "source": [
    "<!DOCTYPE html>\n",
    "<html>\n",
    "<head>\n",
    "\t<title>Form Demo</title>\n",
    "</head>\n",
    "<body>\n",
    "\n",
    "<h1>Login</h1>\n",
    "\n",
    "<!-- action - where the form send data to -->\n",
    "<!-- method - what HTTP method (get/post) -->\n",
    "\n",
    "<form action=\"http://wikipedia.org\" method=\"GET\">\n",
    "\t<input name=\"username\" type=\"text\" placeholder=\"username\">\n",
    "\t<input name=\"passwor\td\" type=\"password\" placeholder=\"password\">\n",
    "\t<input type=\"submit\">\n",
    "\t<!-- <button>Submit</button> -->\n",
    "</form>\n",
    "</body>\n",
    "</html>"
   ]
  },
  {
   "cell_type": "markdown",
   "metadata": {},
   "source": [
    "<a id='2.5'></a>\n",
    "### Simple Form, Labels, Simple Validation"
   ]
  },
  {
   "cell_type": "raw",
   "metadata": {},
   "source": [
    "<form action=\"/sign-in-url\" method=\"post\">\n",
    "\t<label>Username: <input type=\"text\"></label>\n",
    "\t<label>Password: <input type=\"password\"></label>\n",
    "\t<button>Login</button>\n",
    "</form>\n",
    "\n",
    "Simple Validation:\n",
    "not empty: required"
   ]
  },
  {
   "cell_type": "raw",
   "metadata": {},
   "source": [
    "<!DOCTYPE html>\n",
    "<html>\n",
    "<head>\n",
    "\t<title>Form Demo</title>\n",
    "</head>\n",
    "<body>\n",
    "\n",
    "<h1>Login</h1>\n",
    "\n",
    "<!-- action - where the form send data to -->\n",
    "<!-- method - what HTTP method (get/post) -->\n",
    "\n",
    "<form action=\"http://wikipedia.org\" method=\"GET\">\n",
    "\t<label>\n",
    "\t\tUsername:\n",
    "\t<input name=\"username\" type=\"email\" placeholder=\"username\" required>\n",
    "\t</label>\n",
    "\n",
    "\t<label>\n",
    "\t\tPassword:\n",
    "\t<input name=\"passwor\td\" type=\"password\" placeholder=\"password\" required>\n",
    "\t</label>\n",
    "\n",
    "\t<input type=\"submit\">\n",
    "\t<!-- <button>Submit</button> -->\n",
    "\n",
    "</form>\n",
    "\n",
    "<!-- <form action=\"http://www.wikipedia.org\">\n",
    "\t<label for=\"username\">Username:</label>\n",
    "\t<input id=\"username\" name=\"username\" type=\"text\" placeholder=\"username\">\n",
    "\n",
    "\t<label>Password:</label>\n",
    "\t<input id=\"password\" name=\"password\" type=\"password\" placeholder=\"password\">\n",
    "\t\n",
    "\t<input type=\"submit\">\n",
    "</form> -->\n",
    "\n",
    "</body>\n",
    "</html>"
   ]
  },
  {
   "cell_type": "markdown",
   "metadata": {},
   "source": [
    "<a id='2.6'></a>\n",
    "## Radio button, Drop down menu, textarea, form Exercise"
   ]
  },
  {
   "cell_type": "raw",
   "metadata": {},
   "source": [
    "radio button:\n",
    "\n",
    "<input type=\"radio\">\n",
    "<input type=\"checkbox\">\n",
    "\n",
    "select tag: drop down menu\n",
    "\n",
    "<select name=\"name_dropdown\"> \n",
    "\t<option value=\"happy\">:)</option>\n",
    "</select>\n",
    "\n",
    "<textarea>\n",
    "<textarea name= \"paragraph\" rows=\"100\" cols=\"50\">\n",
    "</textarea>"
   ]
  },
  {
   "cell_type": "raw",
   "metadata": {},
   "source": [
    "<!DOCTYPE html>\n",
    "<html>\n",
    "<head>\n",
    "\t<title>Register</title>\n",
    "</head>\n",
    "<body>\n",
    "\n",
    "<h1>Register</h1>\n",
    "\n",
    "<form >\n",
    "\t<label>\n",
    "\t\tFirst Name:\n",
    "\t<input name=\"first_name\" type=\"text\" placeholder=\"John\" required>\n",
    "\t</label>\n",
    "\t<label>\n",
    "\t\tLast Name:\n",
    "\t<input name=\"last_name\" type=\"text\" placeholder=\"Smith\" required>\n",
    "\t</label>\n",
    "<div>\n",
    "\t<label for=\"Female\">Female:</label>\n",
    "\t<input name=\"gender\" id=\"Female\" type=\"radio\" value=\"female\">\n",
    "\t<label for=\"Male\">Male:</label>\n",
    "\t<input name=\"gender\" id=\"Male\" type=\"radio\" value=\"male\">\n",
    "\t<label for=\"Other\">Other:</label>\n",
    "\t<input name=\"gender\" id=\"Other\" type=\"radio\" value=\"other\">\n",
    "</div>\n",
    "<div>\n",
    "\t<label>\n",
    "\t\tEmail:\n",
    "\t<input name=\"email\" type=\"email\" placeholder=\"your email\" required>\n",
    "\t</label>\n",
    "\n",
    "\t<label>\n",
    "\t\tPassword:\n",
    "\t<input name=\"password\" type=\"password\" placeholder=\"your password\" pattern=\".{5,10}\" rquired title=\"Password must be betweetn 5 and 10 characters\"required>\n",
    "\t</label>\n",
    "</div>\n",
    "<div>\n",
    "\t<p>Birthday:</p>\n",
    "\t<select name=\"Month\">\n",
    "\t\t<option>Month</option>\n",
    "\t\t<option value=1>January</option>\n",
    "\t\t<option value=2>February</option>\n",
    "\t\t<option value=3>March</option>\n",
    "\t</select>\n",
    "\t<select name=\"Day\">\n",
    "\t\t<option>Day</option>\n",
    "\t\t<option value=1>1</option>\n",
    "\t\t<option value=2>2</option>\n",
    "\t\t<option value=3>3</option>\n",
    "\t</select>\n",
    "\t\t<select name=\"Year\">\n",
    "\t\t<option>Year</option>\n",
    "\t\t<option value=2018>2018</option>\n",
    "\t\t<option value=2017>2017</option>\n",
    "\t\t<option value=2016>2016</option>\n",
    "\t</select>\n",
    "</div>\n",
    "<div>\n",
    "\t<label for=\"agreed\">I agree to the terms and conditions: </label>\n",
    "\t<input id=\"agreed\" name=\"agreed\" type=\"checkbox\">\n",
    "</div>\n",
    "\n",
    "\n",
    "\t<input type=\"submit\">\n",
    "\t<!-- <button>Submit</button> -->\n",
    "\n",
    "</form>\n",
    "\n",
    "\n",
    "\n",
    "</body>\n",
    "</html>"
   ]
  },
  {
   "cell_type": "code",
   "execution_count": null,
   "metadata": {
    "collapsed": true
   },
   "outputs": [],
   "source": []
  },
  {
   "cell_type": "markdown",
   "metadata": {},
   "source": [
    "<a id='3'></a>\n",
    "## CSS:"
   ]
  },
  {
   "cell_type": "markdown",
   "metadata": {},
   "source": [
    "**CSS:**\n",
    "* [CSS Basics: selector, key value pairs, link tag + css file](#3.0)\n",
    "* [CSS Colors](#3.1)\n",
    "* [CSS:Color and Background](#3.2)\n",
    "* [CSS:Selectors Basics Todo list](#3.3)\n",
    "* [CSS:More Advanced Selectors: star, descendent selector, adjacent selector, attribute selector, Nth of a type](#3.4)\n",
    "* [](#3.5)\n",
    "* [](#3.6)\n",
    "* [](#3.7)\n",
    "* [](#3.8)\n",
    "* [](#3.9)\n",
    "* [](#3.10)"
   ]
  },
  {
   "cell_type": "markdown",
   "metadata": {},
   "source": [
    "<a id='3.0'></a>\n",
    "### CSS Basics: selector, key value pairs, link tag + css file"
   ]
  },
  {
   "cell_type": "raw",
   "metadata": {},
   "source": [
    "selector {\n",
    "    property: value;\n",
    "    anotherproperty: value;\n",
    "}"
   ]
  },
  {
   "cell_type": "raw",
   "metadata": {},
   "source": [
    "style tag:\n",
    "\n",
    "<head>\n",
    "    <style type=\"text/css\">\n",
    "        li {\n",
    "            color:red;\n",
    "        }\n",
    "    </style>\n",
    "</head>"
   ]
  },
  {
   "cell_type": "raw",
   "metadata": {},
   "source": [
    "PREFERRED METHOD\n",
    "\n",
    "Using the <link> tag & separate CSS file:\n",
    "\n",
    "<head>\n",
    "\t<title>Demo Page</title>\n",
    "\t<link rel=\"stylesheet\" type=\"text/css\" href=\"name_csss_file.css\">\n",
    "</head>"
   ]
  },
  {
   "cell_type": "raw",
   "metadata": {},
   "source": [
    "/*Make All h1's purple and 56px font*/\n",
    "h1 {\n",
    "\tcolor: purple;\n",
    "\tfont-size: 56px;\n",
    "}\n",
    "\n",
    "/*Give All img's a 3px red border*/\n",
    "\n",
    "img {\n",
    "\tborder-color: red;\n",
    "\tborder-width: 3px;\n",
    "}\n",
    "\n"
   ]
  },
  {
   "cell_type": "markdown",
   "metadata": {},
   "source": [
    "<a id='3.1'></a>\n",
    "## CSS Colors:\n",
    "\n",
    "www.colorpicker.com"
   ]
  },
  {
   "cell_type": "raw",
   "metadata": {},
   "source": [
    "colours.neilorangepeal.com\n",
    "\n",
    "#_ _ _ _ _ _ _\n",
    "1st 2#s how much red in the color\n",
    "2nd 2#s how much green in the color\n",
    "3rd 2#s how much blue in the color\n",
    "\n",
    "\n",
    "\n",
    "RGB: 3 channels: Red, Green, & Blue. Each ranges from 0 - 255\n",
    "\n",
    "h1 {\n",
    "\tcolor: rgb(0,255,0);\n",
    "}\n",
    "\n",
    "h2 {\n",
    "\tcolor: rgb(100, 0, 100);\n",
    "}\n",
    "\n",
    "h3 {\n",
    "\tcolor: rgb(11, 99, 150);\n",
    "}\n",
    "\n",
    "RGBA: Just like RGB, but with an alpah(transparency) channel ranges from 0.0 - 1.0"
   ]
  },
  {
   "cell_type": "markdown",
   "metadata": {},
   "source": [
    "<a id='3.2'></a>\n",
    "## CSS:Color and Background:"
   ]
  },
  {
   "cell_type": "raw",
   "metadata": {},
   "source": [
    "use 'color' to set text color and 'background' for background color\n",
    "\n",
    "body {\n",
    "\tbackground: #951516;\n",
    "}\n",
    "\n",
    "div{\n",
    "\tbackground: #3498db;\n",
    "}\n",
    "\n",
    "p{\n",
    "\tcolor: #ecf0f1;\n",
    "}"
   ]
  },
  {
   "cell_type": "markdown",
   "metadata": {},
   "source": [
    "<a id='3.3'></a>\n",
    "## CSS:Selectors Basics Todo list:"
   ]
  },
  {
   "cell_type": "raw",
   "metadata": {},
   "source": [
    "selector {\n",
    "\tproperty: value;\n",
    "}"
   ]
  },
  {
   "cell_type": "markdown",
   "metadata": {},
   "source": [
    "### todollst.html:"
   ]
  },
  {
   "cell_type": "raw",
   "metadata": {},
   "source": [
    "<!DOCTYPE html>\n",
    "<html>\n",
    "<head>\n",
    "\t<title>Todo List</title>\n",
    "\t<link rel=\"stylesheet\" type=\"text/css\" href=\"todos.css\">\n",
    "</head>\n",
    "<body>\n",
    "\n",
    "<h1>Todo List</h1>\n",
    "\n",
    "<ul>\n",
    "\t<li class=\"completed\">\n",
    "\t\t<input type=\"checkbox\" checked>\n",
    "\t\tWalk Rusty\n",
    "\t</li>\n",
    "\t<li class=\"completed\" >\n",
    "\t\t<input type=\"checkbox\" checked>\n",
    "\t\tBuy Groceries\n",
    "\t</li>\n",
    "\t<li id=\"special\">\n",
    "\t\t<input type=\"checkbox\">\n",
    "\t\tFinish Recording CSS Videos\n",
    "\t</li>\n",
    "</ul>\n",
    "\n",
    "</body>\n",
    "</html>"
   ]
  },
  {
   "cell_type": "markdown",
   "metadata": {},
   "source": [
    "### todos.css"
   ]
  },
  {
   "cell_type": "raw",
   "metadata": {},
   "source": [
    "body {\n",
    "\tbackground: orange;\n",
    "}\n",
    "\n",
    "li {\n",
    "\tborder: 2px solid red;\n",
    "}\n",
    "\n",
    "#special{\n",
    "\tbackground: yellow\n",
    "}\n",
    "\n",
    ".completed{\n",
    "\ttext-decoration: line-through;\n",
    "}"
   ]
  },
  {
   "cell_type": "markdown",
   "metadata": {},
   "source": [
    "<a id='3.4'></a>\n",
    "### More Advanced Selectors: star, descendent selector, adjacent selector, attribute selector, Nth of a type"
   ]
  },
  {
   "cell_type": "raw",
   "metadata": {},
   "source": [
    "REVIEW:\n",
    "\n",
    "Elements\n",
    "li {\n",
    "}\n",
    "\n",
    "class\n",
    ".hello {\n",
    "}\n",
    "\n",
    "#name {\n",
    "}"
   ]
  },
  {
   "cell_type": "raw",
   "metadata": {},
   "source": [
    "STAR: select everything on the page\n",
    "\n",
    "Star-apply to all elements on the page\n",
    "* {\n",
    "\tborder: 1px solid lightgrey;\n",
    "}"
   ]
  },
  {
   "cell_type": "raw",
   "metadata": {},
   "source": [
    "DESCENDENT SELECTOR: two or more selectors\n",
    "\n",
    "select everything that has an a tag inside an li that is inside a ul\n",
    "ul li a {\n",
    "\tcolor: red;\n",
    "}"
   ]
  },
  {
   "cell_type": "raw",
   "metadata": {},
   "source": [
    "ADJACENT SELECTOR: sibling\n",
    "\n",
    "h4 + ul{\n",
    "\tborder: 4px solid red;\n",
    "}"
   ]
  },
  {
   "cell_type": "raw",
   "metadata": {},
   "source": [
    "ATTRIBUTE SELECTOR:\n",
    "\n",
    "a[href=\"http://google.com\"] {\n",
    "\tbackground: blue;\n",
    "}\n",
    "\n",
    "inputp[type=\"text\"] {\n",
    "\tbackground: blue;\n",
    "}"
   ]
  },
  {
   "cell_type": "raw",
   "metadata": {},
   "source": [
    "Nth OF TYPE:\n",
    "\n",
    "ul:nth-of-type(3){\n",
    "\tbackground: purple;\n",
    "}\n",
    "\n",
    "li:nth-of-type(even){\n",
    "\tbackground: purple;\n",
    "}"
   ]
  },
  {
   "cell_type": "markdown",
   "metadata": {},
   "source": [
    "### DEMO.html:"
   ]
  },
  {
   "cell_type": "raw",
   "metadata": {},
   "source": [
    "<!DOCTYPE html>\n",
    "<html>\n",
    "<head>\n",
    "\t<title>Selectors Demo</title>\n",
    "\t<link rel=\"stylesheet\" type=\"text/css\" href=\"selectors.css\">\n",
    "</head>\n",
    "<body>\n",
    "\n",
    "<h1>Selector Demo</h1>\n",
    "<a href=\"http://www.google.com\">Click Me For Google</a>\n",
    "\n",
    "<ul>\n",
    "\t<li>Apples</li>\n",
    "\t<li>Oranges</li>\n",
    "\t<li>Bananas</li>\n",
    "</ul>\n",
    "\n",
    "<h4>Popular Sites</h4>\n",
    "\n",
    "<ul>\n",
    "\t<li>Carrots</li>\n",
    "\t<li>Peas</li>\n",
    "\t<li>Asparagus</li>\n",
    "\t\t<li>Carrots</li>\n",
    "\t<li>Peas</li>\n",
    "\t<li>Asparagus</li>\n",
    "\t\t<li>Carrots</li>\n",
    "\t<li>Peas</li>\n",
    "\t<li>Asparagus</li>\n",
    "</ul>\n",
    "\n",
    "<h4>Popular Sites</h4>\n",
    "\n",
    "\n",
    "<ul>\n",
    "\t<li>\n",
    "\t\t<a href=\"http://www.google.com\">Google</a>\n",
    "\t</li>\n",
    "\t<li>\n",
    "\t\t<a href=\"http://www.facebook.com\">Facebook</a>\n",
    "\t</li>\n",
    "\t<li>\n",
    "\t\t<a href=\"http://www.reddit.com\">Reddit</a>\n",
    "\t</li>\n",
    "</ul>\n",
    "\n",
    "</body>\n",
    "</html>"
   ]
  },
  {
   "cell_type": "markdown",
   "metadata": {},
   "source": [
    "### SELECTORS.CSS"
   ]
  },
  {
   "cell_type": "code",
   "execution_count": null,
   "metadata": {
    "collapsed": true
   },
   "outputs": [],
   "source": [
    "/*Element*/\n",
    "li {\n",
    "\n",
    "}\n",
    "/*class*/\n",
    ".hello {\n",
    "\n",
    "}\n",
    "/*id*/\n",
    "#name {\n",
    "\n",
    "}\n",
    "\n",
    "/*Star*/\n",
    "\n",
    "* {\n",
    "\tborder: 1px solid lightgrey;\n",
    "}\n",
    "\n",
    "/*Descendant Selector*/\n",
    "\n",
    "li a {\n",
    "\tcolor: red;\n",
    "}\n",
    "\n",
    "/*Adjacent Selector*/\n",
    "\n",
    "h4 + ul {\n",
    "\tborder: 4px solid red;\n",
    "}\n",
    "\n",
    "\n",
    "/*Attribute Selector*/\n",
    "\n",
    "a[href=\"http://www.google.com\"] {\n",
    "\tbackground: blue;\n",
    "}\n",
    "\n",
    "/*nth of type*/\n",
    "\n",
    "li:nth-of-type(odd){\n",
    "\tbackground: purple;\n",
    "}"
   ]
  },
  {
   "cell_type": "markdown",
   "metadata": {},
   "source": [
    "<a id='3.5'></a>\n",
    "## Specificity and the Cascade"
   ]
  },
  {
   "cell_type": "raw",
   "metadata": {},
   "source": [
    "specificity.keegan.st\n",
    "\n",
    "Type Selectors: least specificity\n",
    "\n",
    "li {\n",
    "}\n",
    "\n",
    "li a{\n",
    "}\n",
    "\n",
    "most specific\n",
    "li+a{\n",
    "}\n",
    "\n",
    "Class, Attribute, and Pseudo-Clas Selectors-10* more specific\n",
    "\n",
    "Class:\n",
    ".hello{\n",
    "}\n",
    "\n",
    "Attribute:\n",
    "input[type=\"text\"]{\n",
    "}\n",
    "\n",
    "Pseudo-Clas Selectors:\n",
    "a:hover\n",
    "\n",
    "input:checked\n",
    "\n",
    "ID Selectors:(most specific)\n",
    "\n",
    "#hello\n"
   ]
  },
  {
   "cell_type": "markdown",
   "metadata": {},
   "source": [
    "<a id='3.6'></a>\n",
    "### Selectors Practice Exercise"
   ]
  },
  {
   "cell_type": "markdown",
   "metadata": {},
   "source": [
    "### CSS Code"
   ]
  },
  {
   "cell_type": "raw",
   "metadata": {},
   "source": [
    "/* Style the HTML elements according to the following instructions. \n",
    "DO NOT ALTER THE EXISTING HTML TO DO THIS.  WRITE ONLY CSS!\n",
    "\n",
    "/* Give the <body> element a background of #bdc3c7*/\n",
    "body {\n",
    "\tbackground: #bdc3c7;\n",
    "}\n",
    "\n",
    "/* Make the <h1> element #9b59b6*/\n",
    "h1 {\n",
    "\tcolor: #9b59b6;\n",
    "}\n",
    "\n",
    "/* Make all <h2> elements orange */\n",
    "h2 {\n",
    "\tcolor: orange;\n",
    "}\n",
    "\n",
    "/* Make all <li> elements blue(pick your own hexadecimal blue)*/ \n",
    "li {\n",
    "\tcolor: #0000ff;\n",
    "}\n",
    "\n",
    "/*Change the background on every paragraph to be yellow*/\n",
    "p {\n",
    "\tbackground: yellow;\n",
    "}\n",
    "\n",
    "/*Make all inputs have a 3px red border*/\n",
    "input {\n",
    "\tborder: 3px solid red ;\n",
    "}\n",
    "\n",
    "/* Give everything with the class 'hello' a white background*/\n",
    ".hello {\n",
    "\tbackground: white;\n",
    "}\n",
    "\n",
    "/* Give the element with id 'special' a 2px solid blue border(pick your own rgb blue)*/\n",
    "#special {\n",
    "\tborder: 2px solid rgb(0,100,200);\n",
    "}\n",
    "\n",
    "/*Make all the <p>'s that are nested inside of divs 25px font(font-size: 25px)*/\n",
    "div p {\n",
    "\tfont-size: 25px;\n",
    "}\n",
    "\n",
    "/*Make only inputs with type 'text' have a gray background*/\n",
    "input[type=\"text\"] {\n",
    "\tbackground: gray;\n",
    "}\n",
    "\n",
    "/* Give both <p>'s inside the 3rd <div> a pink background*/\n",
    "div:nth-of-type(3) p{\n",
    "\tbackground: pink;\n",
    "}\n",
    "\n",
    "/* Give the 2nd <p> inside the 3rd <div> a 5px white border*/\n",
    "div:nth-of-type(3) p:nth-of-type(2){\n",
    "\tborder: 5px solid white;\n",
    "}\n",
    "\n",
    "/* Make the <em> in the 3rd <div> element white and 20px font(font-size:20px)*/\n",
    "div:nth-of-type(3) em{\n",
    "\tcolor: white;\n",
    "\tfont-size:20px;\n",
    "}\n",
    "\n",
    "\n",
    "/*BONUS CHALLENGES*/\n",
    "/*You may need to research some other selectors and properties*/\n",
    "\n",
    "/*Make all \"checked\" checkboxes have a left margin of 50px(margin-left: 50px)*/\n",
    "input:checked{\n",
    "\tmargin-left: 50px\n",
    "}\n",
    "\n",
    "/* Make the <label> elements all UPPERCASE without changing the HTML(definitely look this one up*/\n",
    "label {\n",
    "\ttext-transform: uppercase;\n",
    "}\n",
    "\n",
    "/*Make the first letter of the element with id 'special' green and 100px font size(font-size: 100)*/\n",
    "#special:first-letter{\n",
    "\tcolor: green;\n",
    "\tfont-size: 100px;\n",
    "}\n",
    "\n",
    "/*Make the <h1> element's color change to blue when hovered over */\n",
    "\n",
    "h1:hover {\n",
    "\tcolor:blue;\n",
    "} \n",
    "\n",
    "/*Make the <a> element's that have been visited gray */\n",
    "a:visited {\n",
    "\tcolor:gray;\n",
    "}\n",
    "\n"
   ]
  },
  {
   "cell_type": "markdown",
   "metadata": {},
   "source": [
    "### HTML Code"
   ]
  },
  {
   "cell_type": "raw",
   "metadata": {},
   "source": [
    "<html>\n",
    "<head>\n",
    "  <meta charset=\"UTF-8\">\n",
    "  <title>Selectors Exercise</title>\n",
    "  <link rel=\"stylesheet\" type=\"text/css\" href=\"selectors.css\">\n",
    "</head>\n",
    "<body>\n",
    "  <h1>Selectors Exercise</h1>\n",
    "\n",
    "<p>PARAGRAPH NOT INSIDE A DIV</p>\n",
    "\n",
    "<div>\n",
    "  <p class=\"hello\">I am a paragraph with a class</p>\n",
    "  <p id=\"special\">I am a paragraph with an ID</p>\n",
    "\n",
    "  <h2>I am an awesome h2</h2>\n",
    "  \n",
    "  \n",
    "  <p>Roof party yr hella synth, Wes Anderson narwhal four dollar toast before they sold out retro lo-fi. Austin iPhone pop-up farm-to-table, PBR&B McSweeney's ennui messenger bag distillery before they sold out Portland wolf fanny pack YOLO. Locavore slow-carb trust fund farm-to-table. Pinterest gastropub lo-fi, McSweeney's trust fund VHS shabby chic ugh Austin twee. Messenger bag banjo lumbersexual, whatever 3 wolf moon XOXO normcore. Pug fanny pack 3 wolf moon, typewriter organic chia mustache scenester seitan shabby chic Blue Bottle salvia ugh iPhone. Fanny pack Williamsburg direct trade, cold-pressed disrupt flannel listicle health goth asymmetrical freegan mixtape street art pour-over whatever.</p>\n",
    "\n",
    "</div>\n",
    "\n",
    "<div>\n",
    "  <h2>Things I need to do</h2>\n",
    "\n",
    "  <ul>\n",
    "    <li>Walk Dog <input type=\"checkbox\" checked> </li>\n",
    "    <li>Feed Dog <input type=\"checkbox\" checked> </li>\n",
    "    <li>Wash Dog <input type=\"checkbox\"></li>\n",
    "  </ul>\n",
    "</div>\n",
    "\n",
    "<div>\n",
    "  <h2>I am another awesome h2</h2>\n",
    "\n",
    "  <p>Cardigan Tumblr mlkshk, fap tilde 3 wolf moon Portland. Heirloom health goth taxidermy blog lo-fi selfies, post-ironic master cleanse fingerstache normcore. Kickstarter plaid twee, bespoke single-origin coffee sustainable lo-fi vinyl Pinterest pork belly <em>cronut skateboard</em> 3 wolf moon. Normcore single-origin coffee salvia, bespoke Austin swag Godard before they sold out kogi disrupt locavore. Lumbersexual Shoreditch Vice, artisan American Apparel master cleanse yr salvia vegan. Bespoke letterpress heirloom kale chips deep v four loko. Lomo sustainable put a bird on it trust fund post-ironic</p>\n",
    "\n",
    "  <p>I'm the second paragraph inside this div!</p>\n",
    "</div>\n",
    "\n",
    "<p>PARAGRAPH NOT INSIDE A DIV</p>\n",
    "\n",
    "\n",
    "<div>\n",
    "  <h2>A less awesome h2</h2>\n",
    "\n",
    "  <p>Roof party yr hella synth, Wes Anderson narwhal four dollar toast before they sold out retro lo-fi. Austin iPhone pop-up farm-to-table, PBR&B McSweeney's ennui messenger bag distillery before they sold out Portland wolf fanny pack YOLO. Locavore slow-carb trust fund farm-to-table. Pinterest gastropub lo-fi, McSweeney's trust fund VHS shabby chic ugh Austin twee. Messenger bag banjo lumbersexual, whatever 3 wolf moon XOXO normcore. Pug fanny pack 3 wolf moon, typewriter organic chia mustache scenester seitan shabby chic Blue Bottle salvia ugh iPhone. Fanny pack Williamsburg direct trade, cold-pressed disrupt flannel listicle health goth asymmetrical freegan mixtape street art pour-over whatever</p>\n",
    "\n",
    "  <p>One last paragraph here!</p>\n",
    "\n",
    "  <a href=\"http://www.facebook.com\">I am a link to facebook</a>\n",
    "  <a href=\"http://www.facebook.com\">I am another link to facebook</a>\n",
    "  <br>\n",
    "\n",
    "  <input type=\"text\" name=\"name\" /><label> Name</label><br/>\n",
    "  <input type=\"password\" name=\"password\" /><label> Password</label><br/>\n",
    "\n",
    "</div>\n",
    "\n",
    "<p>PARAGRAPH NOT INSIDE A DIV</p>\n",
    "\n",
    "</body>\n",
    "</html>"
   ]
  },
  {
   "cell_type": "markdown",
   "metadata": {},
   "source": [
    "<a id='4'></a>\n",
    "## Text and Fonts:"
   ]
  },
  {
   "cell_type": "markdown",
   "metadata": {},
   "source": [
    "**Text and Fonts:**\n",
    "* [font-family](#4.0)\n",
    "* [font-size](#4.1)\n",
    "* [font-weight](#4.2)\n",
    "* [line-height](#4.3)\n",
    "* [text-align](#4.4)\n",
    "* [ext-decoration](#4.5)"
   ]
  },
  {
   "cell_type": "raw",
   "metadata": {},
   "source": [
    "https://baconipsum.com/\n",
    "https://www.cssfontstack.com/\n",
    "\n",
    "\n",
    "\n",
    "fonts.html:\n",
    "\n",
    "<!DOCTYPE html>\n",
    "<html>\n",
    "<head>\n",
    "\t<title>Fonts</title>\n",
    "\t<link rel=\"stylesheet\" type=\"text/css\" href=\"styles.css\">\n",
    "\t<link href=\"https://fonts.googleapis.com/css?family=Roboto|Shrikhand\" rel=\"stylesheet\">\n",
    "</head>\n",
    "<body>\n",
    "\n",
    "<h1>Fonts Demo Page</h1>\n",
    "\n",
    "khjkjljlkjl;j jlkjlkjk\n",
    "\n",
    "<p>Bacon ipsum dolor amet doner landjaeger flank buffalo boudin venison, brisket beef ribs meatloaf ground round shankle spare ribs bresaola kevin. Venison tail chicken salami, swine sirloin rump <span>strip steak</span> pork loin pork ground round meatball fatback burgdoggen. Flank shankle short loin leberkas pork belly shank frankfurter, brisket swine. Shankle pig tail pork chop turkey, ham alcatra andouille t-bone short loin salami. Bacon frankfurter alcatra tail, shoulder meatball porchetta kevin rump andouille chicken boudin.\n",
    "</p>\n",
    "\n",
    "<p>\n",
    "Cupim bacon hamburger, corned beef swine buffalo picanha chicken flank spare ribs meatball sirloin biltong. Landjaeger turkey chuck t-bone beef prosciutto shoulder cow turducken frankfurter. Filet mignon porchetta boudin flank meatball kevin. Cow ham short ribs tenderloin jerky, jowl ball tip cupim alcatra bresaola capicola brisket. Sirloin leberkas buffalo swine, rump picanha meatloaf burgdoggen hamburger corned beef jerky. Prosciutto rump tenderloin hamburger venison. Short ribs pig spare ribs sausage brisket ribeye prosciutto boudin pork belly.</p>\n",
    "\n",
    "</body>\n",
    "</html>\n",
    "\n",
    "style.css:\n",
    "\n"
   ]
  },
  {
   "cell_type": "markdown",
   "metadata": {},
   "source": [
    "<a id='4.0'></a>\n",
    "### font-family"
   ]
  },
  {
   "cell_type": "code",
   "execution_count": null,
   "metadata": {
    "collapsed": true
   },
   "outputs": [],
   "source": [
    "p {\n",
    "\tfont-family: Shrikhand;\n",
    "}\n",
    "\n",
    "h1 {\n",
    "\tfont-family: Roboto;\n",
    "}"
   ]
  },
  {
   "cell_type": "markdown",
   "metadata": {},
   "source": [
    "<a id='4.1'></a>\n",
    "### font-size"
   ]
  },
  {
   "cell_type": "code",
   "execution_count": null,
   "metadata": {
    "collapsed": true
   },
   "outputs": [],
   "source": [
    "body {\n",
    "\tfont-size: 10px\n",
    "}\n",
    "\n",
    "h1 {\n",
    "\tfont-size: 5.0em;\n",
    "}\n",
    "\n",
    "p {\n",
    "\tfont-size: 2.0em;\n",
    "}\n",
    "\n",
    "span {\n",
    "\tfont-size: 2.0em /*relative size*/\n",
    "}"
   ]
  },
  {
   "cell_type": "markdown",
   "metadata": {},
   "source": [
    "<a id='4.2'></a>\n",
    "### font-weight"
   ]
  },
  {
   "cell_type": "code",
   "execution_count": null,
   "metadata": {
    "collapsed": true
   },
   "outputs": [],
   "source": [
    "p{\n",
    "\tfont-weight: bold;\n",
    "}"
   ]
  },
  {
   "cell_type": "markdown",
   "metadata": {},
   "source": [
    "<a id='4.3'></a>\n",
    "### line-height"
   ]
  },
  {
   "cell_type": "code",
   "execution_count": null,
   "metadata": {
    "collapsed": true
   },
   "outputs": [],
   "source": [
    "p {\n",
    "\tline-height: 1.5;\n",
    "}"
   ]
  },
  {
   "cell_type": "markdown",
   "metadata": {},
   "source": [
    "<a id='4.4'></a>\n",
    "### text-align"
   ]
  },
  {
   "cell_type": "code",
   "execution_count": null,
   "metadata": {
    "collapsed": true
   },
   "outputs": [],
   "source": [
    "h1 {\n",
    "\ttext-align: right;\n",
    "}\n",
    "\n",
    "p {\n",
    "\ttext-align: center;\n",
    "}"
   ]
  },
  {
   "cell_type": "markdown",
   "metadata": {},
   "source": [
    "<a id='4.5'></a>\n",
    "### text-decoration"
   ]
  },
  {
   "cell_type": "code",
   "execution_count": null,
   "metadata": {
    "collapsed": true
   },
   "outputs": [],
   "source": [
    "p {\n",
    "\ttext-decoration: underline;\n",
    "}\n",
    "\n",
    "h1 {\n",
    "\ttext-decoration: line-through;\n",
    "}"
   ]
  },
  {
   "cell_type": "markdown",
   "metadata": {},
   "source": [
    "<a id='5'></a>\n",
    "## Intro to Box Model:\n",
    "-content\n",
    "-padding\n",
    "-border\n",
    "-margin"
   ]
  },
  {
   "cell_type": "markdown",
   "metadata": {},
   "source": [
    "**Box Model:**\n",
    "* [boxmodel.html](#5.0)\n",
    "* [style.css](#5.1)\n",
    "* [](#5.2)\n",
    "* [](#5.3)\n",
    "* [](#5.4)\n",
    "* [](#5.5)"
   ]
  },
  {
   "cell_type": "markdown",
   "metadata": {},
   "source": [
    "<a id='5.0'></a>\n",
    "### boxmodel.html"
   ]
  },
  {
   "cell_type": "markdown",
   "metadata": {},
   "source": [
    "<!DOCTYPE html>\n",
    "<html>\n",
    "<head>\n",
    "\t<title>Box Model</title>\n",
    "\t<link rel=\"stylesheet\" type=\"text/css\" href=\"style.css\">\n",
    "</head>\n",
    "<body>\n",
    "<p>I am a paragraph</p>\n",
    "<p>I am a paragraph</p>\n",
    "</body>\n",
    "</html>\n",
    "\n"
   ]
  },
  {
   "cell_type": "markdown",
   "metadata": {},
   "source": [
    "<a id='5.1'></a>\n",
    "### style.css:"
   ]
  },
  {
   "cell_type": "code",
   "execution_count": null,
   "metadata": {
    "collapsed": true
   },
   "outputs": [],
   "source": [
    "p {\n",
    "/*Content - Width and Heights*/\n",
    "\n",
    "/*width: 200px;*/\n",
    "width: 50%;\n",
    "/*height: 300px;*/\n",
    "\n",
    "/*Borders*/\n",
    "\n",
    "border: 2px solid blue;\n",
    "\n",
    "/*Paddings*/\n",
    "\n",
    "/*padding: 10px;*/\n",
    "/*padding-right: 40px;*/\n",
    "padding-left: 40px;\n",
    "\n",
    "/*Margin*/\n",
    "/*margin: 100px;*/\n",
    "/*margin-top: 500px;*/\n",
    "/*margin: 20px, 40px, 500px, 100px; /*top, right, bottom, left*/*/\n",
    "margin: 0 auto 0 auto;\n",
    "}"
   ]
  },
  {
   "cell_type": "markdown",
   "metadata": {},
   "source": [
    "<a id='5.2'></a>\n",
    "### Blog:"
   ]
  },
  {
   "cell_type": "markdown",
   "metadata": {},
   "source": [
    "#### Blog.html\n",
    "\n",
    "https://css-tricks.com/examples/hrs/"
   ]
  },
  {
   "cell_type": "raw",
   "metadata": {},
   "source": [
    "<!DOCTYPE html>\n",
    "<html>\n",
    "<head>\n",
    "\t<title>Blog</title>\n",
    "\n",
    "\t<link href=\"https://fonts.googleapis.com/css?family=Source+Sans+Pro:400,700\" rel=\"stylesheet\">\n",
    "\n",
    "\t<link rel=\"stylesheet\" type=\"text/css\" href=\"blog.css\">\n",
    "\n",
    "</head>\n",
    "<body>\n",
    "\n",
    "<div class=\"post\">\n",
    "\n",
    "\t<div class=\"date\">November 23 2015  </div>\n",
    "\t\n",
    "\t<h2>This Is My First Article</h2>\n",
    "\n",
    "\t<p class=\"quote\">Shoulder swine beef ribs strip steak bacon hamburger pancetta venison pig shankle buffalo jerky capicola pork doner. Boudin ribeye pancetta fatback shoulder bresaola leberkas landjaeger pork sausage burgdoggen. Pig boudin cow picanha. Sausage leberkas tail pork chop, shankle swine corned beef beef ribs sirloin bacon boudin strip steak. Strip steak kevin shank, jowl pig tri-tip flank. Salami kielbasa rump sirloin capicola leberkas. Pork chop hamburger landjaeger tri-tip tail flank.</p>\n",
    "\n",
    "\t<p>Bacon ipsum dolor amet cupim short loin bacon biltong leberkas, pancetta ground round landjaeger ham alcatra pork belly cow. Pork loin picanha pork doner t-bone. Tenderloin cow salami, pork loin andouille shankle ribeye. Tri-tip prosciutto ribeye chicken flank landjaeger pork chop sausage picanha venison kevin salami swine shoulder meatball. Ribeye pork chop rump chicken ground round shoulder. Leberkas ball tip porchetta pork loin, short loin drumstick chuck bacon bresaola biltong filet mignon short ribs andouille.</p>\n",
    "\n",
    "\t<p>Spare ribs porchetta leberkas turducken cow, shankle pancetta fatback pig filet mignon chuck. Pig kielbasa ribeye jowl ham meatball bresaola bacon. Short ribs beef ribs flank, pork loin t-bone tail sausage ham hock boudin alcatra meatloaf kevin. Venison kevin picanha hamburger chuck, ribeye meatball andouille short loin fatback bacon porchetta short ribs. Tenderloin alcatra drumstick porchetta beef andouille.</p>\n",
    "\n",
    "\t<hr>\n",
    "</div>\n",
    "\n",
    "\n",
    "\n",
    "<div class=\"post\">\n",
    "\t<div class=\"date\">December 11, 2015</div>\n",
    "\n",
    "\t<h2>This is another article</h2>\n",
    "\n",
    "\t<p class=\"quote\">\n",
    "\t\tShoulder swine beef ribs strip steak bacon hamburger pancetta venison pig shankle buffalo jerky capicola pork doner. Boudin ribeye pancetta fatback shoulder bresaola leberkas landjaeger pork sausage burgdoggen. Pig boudin cow picanha. Sausage leberkas tail pork chop, shankle swine corned beef beef ribs sirloin bacon boudin strip steak. Strip steak kevin shank, jowl pig tri-tip flank. Salami kielbasa rump sirloin capicola leberkas. Pork chop hamburger landjaeger tri-tip tail flank.\n",
    "\t</p>\n",
    "\n",
    "\t<p>Bacon ipsum dolor amet cupim short loin bacon biltong leberkas, pancetta ground round landjaeger ham alcatra pork belly cow. Pork loin picanha pork doner t-bone. Tenderloin cow salami, pork loin andouille shankle ribeye. Tri-tip prosciutto ribeye chicken flank landjaeger pork chop sausage picanha venison kevin salami swine shoulder meatball. Ribeye pork chop rump chicken ground round shoulder. Leberkas ball tip porchetta pork loin, short loin drumstick chuck bacon bresaola biltong filet mignon short ribs andouille.</p>\n",
    "\n",
    "\t<p>Spare ribs porchetta leberkas turducken cow, shankle pancetta fatback pig filet mignon chuck. Pig kielbasa ribeye jowl ham meatball bresaola bacon. Short ribs beef ribs flank, pork loin t-bone tail sausage ham hock boudin alcatra meatloaf kevin. Venison kevin picanha hamburger chuck, ribeye meatball andouille short loin fatback bacon porchetta short ribs. Tenderloin alcatra drumstick porchetta beef andouille.</p>\n",
    "\n",
    "</div>\n",
    "\n",
    "</body>\n",
    "</html>\n",
    "\n"
   ]
  },
  {
   "cell_type": "markdown",
   "metadata": {},
   "source": [
    "#### blog.css:"
   ]
  },
  {
   "cell_type": "code",
   "execution_count": null,
   "metadata": {
    "collapsed": true
   },
   "outputs": [],
   "source": [
    "\n",
    "\n",
    "body {\n",
    "\tborder: 20px solid #bdc3c7;\n",
    "\tpadding: 20px;\n",
    "\tmax-width: 700px;\n",
    "\twidth: 80%;\n",
    "\tmargin: 20px auto;\n",
    "\tfont-family: Source Sans Pro;\n",
    "}\n",
    "\n",
    ".quote {\n",
    "\tborder-left: 5px solid #bdc3c7;\n",
    "\tpadding-left: 5px;\n",
    "}\n",
    "\n",
    ".date{\n",
    "\tcolor: #3498db;\n",
    "\ttext-transform: uppercase;\n",
    "\tletter-spacing: .2rem;\n",
    "}\n",
    "\n",
    "h2 {\n",
    "\tcolor: #2c3e50;\n",
    "\tfont-size: 2.0rem;\n",
    "}\n",
    "\n",
    "\n",
    "hr {\n",
    "    border: 0;\n",
    "    height: 1px;\n",
    "    background-image: linear-gradient(to right, rgba(0, 0, 0, 0), rgba(0, 0, 0, 0.75), rgba(0, 0, 0, 0));\n",
    "}\n",
    "\n",
    ".post {\n",
    "\tmargin-bottom: 20px;\n",
    "}"
   ]
  },
  {
   "cell_type": "markdown",
   "metadata": {},
   "source": [
    "<a id='6'></a>\n",
    "## Bootstrap"
   ]
  },
  {
   "cell_type": "markdown",
   "metadata": {},
   "source": [
    "**Bootstrap:**\n",
    "* [Forms & Inputs:](#6.0)\n",
    "* [](#6.1)\n",
    "* [](#6.2)\n",
    "* [](#6.3)\n",
    "* [](#6.4)\n",
    "* [](#6.5)"
   ]
  },
  {
   "cell_type": "markdown",
   "metadata": {},
   "source": [
    "<a id='6.0'></a>\n",
    "### Forms & Inputs:"
   ]
  },
  {
   "cell_type": "markdown",
   "metadata": {},
   "source": [
    "#### Basic.html"
   ]
  },
  {
   "cell_type": "raw",
   "metadata": {},
   "source": [
    "<!DOCTYPE html>\n",
    "<html>\n",
    "<head>\n",
    "\t<title>Bootstrap Basics</title>\n",
    "\t<link rel=\"stylesheet\" type=\"text/css\" href=\"bootstrap.css\">\n",
    "\t<style type=\"text/css\">\n",
    "\t\t.btn-danger {\n",
    "\t\t\tbackground: orange;\n",
    "\t\t}\n",
    "\t</style>\n",
    "</head>\n",
    "<body>\n",
    "\n",
    "\n",
    "\n",
    "<div class=\"container\">\n",
    "\t<div class=\"jumbotron\">\n",
    "\t\t<h1>This is a jumbotron</h1>\n",
    "\t\t<p>afjdlafjdlakfjdk fjdlskfjd dflkjadkfjdl dlafjdlkfj fldkfjdlk nlfkdjlkf ljkjkl</p>\n",
    "\t\t<button class=\"btn btn-success btn-lg\">Hi there</button>\n",
    "\t</div>\n",
    "\n",
    "\t<h1>Bootstrap Basics</h1>\n",
    "<button class=\"btn btn-danger btn-xs\">CLICK ME</button>\n",
    "<button class=\"btn btn-success btn-xs active\">CLICK ME</button>\n",
    "<button class=\"btn btn-success btn-xs disabled = \"disabled\">CLICK ME</button>\n",
    "\n",
    "<a href=\"http://www.getboostrap.com\" class=\"btn btn-info btn-lg\">Boostrap Docs</a>\n",
    "\n",
    "<form>\n",
    "  <div class=\"form-group\">\n",
    "    <label for=\"exampleInputEmail1\">Email address</label>\n",
    "    <input type=\"email\" class=\"form-control\" id=\"exampleInputEmail1\" placeholder=\"Email\">\n",
    "  </div>\n",
    "  <div class=\"form-group\">\n",
    "    <label for=\"exampleInputPassword1\">Password</label>\n",
    "    <input type=\"password\" class=\"form-control\" id=\"exampleInputPassword1\" placeholder=\"Password\">\n",
    "  </div>\n",
    "  <div class=\"form-group\">\n",
    "    <label for=\"exampleInputFile\">File input</label>\n",
    "    <input type=\"file\" id=\"exampleInputFile\">\n",
    "    <p class=\"help-block\">Example block-level help text here.</p>\n",
    "  </div>\n",
    "  <div class=\"checkbox\">\n",
    "    <label>\n",
    "      <input type=\"checkbox\"> Check me out\n",
    "    </label>\n",
    "  </div>\n",
    "  <button type=\"submit\" class=\"btn btn-default\">Submit</button>\n",
    "</form>\n",
    "\n",
    "</div>\n",
    "\n",
    "\n",
    "</body>\n",
    "</html>\n"
   ]
  },
  {
   "cell_type": "markdown",
   "metadata": {
    "collapsed": true
   },
   "source": [
    "<a id='7'></a>\n",
    "## JavaScript"
   ]
  },
  {
   "cell_type": "markdown",
   "metadata": {},
   "source": [
    "**JavaScript:**\n",
    "* [Primitives Datatypes](#7.0)\n",
    "* [Variables](#7.1)\n",
    "* [Null and Undefined](#7.2)\n",
    "* [Useful Built-In Methods](#7.3)\n",
    "* [Writing JavaScript in a Separate File](#7.4)\n",
    "* [Age Calculator](#7.5)\n",
    "* [](#7.6)\n",
    "* [](#7.7)\n",
    "* [](#7.8)\n",
    "* [](#7.9)\n",
    "* [](#7.10)"
   ]
  },
  {
   "cell_type": "markdown",
   "metadata": {},
   "source": [
    "<a id='7.0'></a>\n",
    "### 5 Primitives Datatypes "
   ]
  },
  {
   "cell_type": "code",
   "execution_count": null,
   "metadata": {
    "collapsed": true
   },
   "outputs": [],
   "source": [
    "//numbers\n",
    "4\n",
    "9.3\n",
    "-10"
   ]
  },
  {
   "cell_type": "code",
   "execution_count": null,
   "metadata": {
    "collapsed": true
   },
   "outputs": [],
   "source": [
    "//strings\n",
    "\"Hello World\""
   ]
  },
  {
   "cell_type": "code",
   "execution_count": null,
   "metadata": {
    "collapsed": true
   },
   "outputs": [],
   "source": [
    "//booleans\n",
    "true\n",
    "false"
   ]
  },
  {
   "cell_type": "code",
   "execution_count": null,
   "metadata": {
    "collapsed": true
   },
   "outputs": [],
   "source": [
    "//null and undefined\n",
    "null\n",
    "undefined"
   ]
  },
  {
   "cell_type": "code",
   "execution_count": null,
   "metadata": {
    "collapsed": true
   },
   "outputs": [],
   "source": [
    "//Concatenation\n",
    "\"charlie\" + \" brown\""
   ]
  },
  {
   "cell_type": "code",
   "execution_count": null,
   "metadata": {
    "collapsed": true
   },
   "outputs": [],
   "source": [
    "//Escape Characters start with \"\\\"\n",
    "\"Singin \\\"Do wah diddy, diddy, dum diddy do\\\" \"\n",
    "\"This is a backslash \\\\\""
   ]
  },
  {
   "cell_type": "code",
   "execution_count": null,
   "metadata": {
    "collapsed": true
   },
   "outputs": [],
   "source": [
    "//Strings have a length property\n",
    "\"hello world\".length"
   ]
  },
  {
   "cell_type": "code",
   "execution_count": null,
   "metadata": {
    "collapsed": true
   },
   "outputs": [],
   "source": [
    "//Access individual characters using [] and an index\n",
    "\"hello\"[0] //\"h\"\n",
    "\"hello\"[4] //\"o\""
   ]
  },
  {
   "cell_type": "markdown",
   "metadata": {},
   "source": [
    "<a id='7.1'></a>\n",
    "### Variables"
   ]
  },
  {
   "cell_type": "code",
   "execution_count": null,
   "metadata": {
    "collapsed": true
   },
   "outputs": [],
   "source": [
    "//Variables are simply the containers that store values\n",
    "//They follow this pattern:\n",
    "var yourVariableName = yourValue;"
   ]
  },
  {
   "cell_type": "code",
   "execution_count": 2,
   "metadata": {
    "collapsed": true
   },
   "outputs": [],
   "source": [
    "//They can store all of the values we've seen\n",
    "var name = \"Rusty\";\n",
    "var secretName = 73;\n",
    "var isAdorable = true;"
   ]
  },
  {
   "cell_type": "code",
   "execution_count": 5,
   "metadata": {},
   "outputs": [
    {
     "data": {
      "text/plain": [
       "'hello there Rusty'"
      ]
     },
     "execution_count": 5,
     "metadata": {},
     "output_type": "execute_result"
    }
   ],
   "source": [
    "//Recall the stored value by calling the variable name\n",
    "var name = \"Rusty\";\n",
    "\"hello there \" + name"
   ]
  },
  {
   "cell_type": "code",
   "execution_count": 6,
   "metadata": {},
   "outputs": [
    {
     "data": {
      "text/plain": [
       "50"
      ]
     },
     "execution_count": 6,
     "metadata": {},
     "output_type": "execute_result"
    }
   ],
   "source": [
    "var num = 37;\n",
    "num + 3 + 10"
   ]
  },
  {
   "cell_type": "code",
   "execution_count": 7,
   "metadata": {},
   "outputs": [
    {
     "data": {
      "text/plain": [
       "'Bob'"
      ]
     },
     "execution_count": 7,
     "metadata": {},
     "output_type": "execute_result"
    }
   ],
   "source": [
    "//We can also update existing variables\n",
    "var name = \"Robert\";\n",
    "name = \"Bob\";"
   ]
  },
  {
   "cell_type": "markdown",
   "metadata": {},
   "source": [
    "<a id='7.2'></a>\n",
    "### Null and Undefined"
   ]
  },
  {
   "cell_type": "code",
   "execution_count": 8,
   "metadata": {
    "collapsed": true
   },
   "outputs": [],
   "source": [
    "//The two other primitives are null and undefined\n",
    "\n",
    "//Variables that are declared but not \n",
    "//initialized are undefined\n",
    "//The following variables are undefined:\n",
    "var name;\n",
    "var age;"
   ]
  },
  {
   "cell_type": "code",
   "execution_count": 9,
   "metadata": {},
   "outputs": [
    {
     "data": {
      "text/plain": [
       "null"
      ]
     },
     "execution_count": 9,
     "metadata": {},
     "output_type": "execute_result"
    }
   ],
   "source": [
    "//null is \"explicitly nothin\"\n",
    "var currentPlayer = \"charlie\";\n",
    "currentPlayer = null;"
   ]
  },
  {
   "cell_type": "markdown",
   "metadata": {},
   "source": [
    "<a id='7.3'></a>\n",
    "### Useful Built-In Methods"
   ]
  },
  {
   "cell_type": "code",
   "execution_count": null,
   "metadata": {
    "collapsed": true
   },
   "outputs": [],
   "source": [
    "clear() /clears console"
   ]
  },
  {
   "cell_type": "code",
   "execution_count": null,
   "metadata": {
    "collapsed": true
   },
   "outputs": [],
   "source": [
    "alert(\"Hello there!!\");\n",
    "alert(123456);\n",
    "alert(198 * 345);"
   ]
  },
  {
   "cell_type": "code",
   "execution_count": null,
   "metadata": {
    "collapsed": true
   },
   "outputs": [],
   "source": [
    "console.log(\"hello from the console!\");"
   ]
  },
  {
   "cell_type": "code",
   "execution_count": null,
   "metadata": {
    "collapsed": true
   },
   "outputs": [],
   "source": [
    "var userName = prompt(\"what is your name?\");"
   ]
  },
  {
   "cell_type": "raw",
   "metadata": {},
   "source": [
    "<!DOCTYPE html>\n",
    "<html>\n",
    "<head>\n",
    "\t<title>Script Demo</title>\n",
    "\t<script src=\"script.js\"></script>\n",
    "</head>\n",
    "<body>\n",
    "<h1>Including JS Files</h1>\n",
    "\n",
    "</body>\n",
    "<html>\t"
   ]
  },
  {
   "cell_type": "markdown",
   "metadata": {},
   "source": [
    "<a id='7.4'></a>\n",
    "### Writing JavaScript in a Separate File\n",
    "\n",
    "console.log(\"text\"): print something to the console\n",
    "prompt(\"text\"): ask user for input\n",
    "alert(\"text\"): pop up text"
   ]
  },
  {
   "cell_type": "markdown",
   "metadata": {},
   "source": [
    "<a id='7.5'></a>\n",
    "### Age Calculator"
   ]
  },
  {
   "cell_type": "markdown",
   "metadata": {},
   "source": [
    "#### calc.js"
   ]
  },
  {
   "cell_type": "code",
   "execution_count": null,
   "metadata": {
    "collapsed": true
   },
   "outputs": [],
   "source": [
    "var age = prompt(\"How old are you\");\n",
    "var days = age*365.25;\n",
    "alert(age + \" years is roughly \" + days + \" days\");"
   ]
  },
  {
   "cell_type": "markdown",
   "metadata": {},
   "source": [
    "#### age_calc.html"
   ]
  },
  {
   "cell_type": "raw",
   "metadata": {},
   "source": [
    "<!DOCTYPE html>\n",
    "<html>\n",
    "<head>\n",
    "\t<title>Age Calculator</title>\n",
    "\t<script type=\"text/javascript\" src=\"calc.js\"></script>\n",
    "</head>\n",
    "<body>\n",
    "\n",
    "<h1>Age Calculator</h1>\n",
    "\n",
    "<h3>Enter your age and find out how many days you've been alive</h3>\n",
    "\n",
    "</body>\n",
    "</html>"
   ]
  },
  {
   "cell_type": "markdown",
   "metadata": {},
   "source": [
    "<a id='8'></a>\n",
    "## Javascript Basics: Control Flow"
   ]
  },
  {
   "cell_type": "markdown",
   "metadata": {},
   "source": [
    "**Javascript Basics: Control Flow:**\n",
    "* [Conditionals:](#8.0)\n",
    "* [While Loops:](#8.1)\n",
    "* [For loops](#8.2)\n",
    "* [](#8.3)\n",
    "* [](#8.4)\n",
    "* [](#8.5)\n",
    "* [](#8.6)\n",
    "* [](#8.7)\n",
    "* [](#8.8)\n",
    "* [](#8.9)\n",
    "* [](#8.10)"
   ]
  },
  {
   "cell_type": "raw",
   "metadata": {},
   "source": [
    "Boolean Logic:\n",
    "== value\n",
    "=== value & type"
   ]
  },
  {
   "cell_type": "raw",
   "metadata": {},
   "source": [
    "Logical Operators:\n",
    "&& AND\n",
    "|| OR"
   ]
  },
  {
   "cell_type": "raw",
   "metadata": {},
   "source": [
    "Falsy Values:\n",
    "-false\n",
    "-0\n",
    "-\"\""
   ]
  },
  {
   "cell_type": "raw",
   "metadata": {},
   "source": [
    "null\n",
    "-undefined\n",
    "-NAN"
   ]
  },
  {
   "cell_type": "markdown",
   "metadata": {},
   "source": [
    "<a id='8.0'></a>\n",
    "### Conditionals:\n",
    "if\n",
    "else if\n",
    "else"
   ]
  },
  {
   "cell_type": "markdown",
   "metadata": {},
   "source": [
    "<a id='8.1'></a>\n",
    "### While Loops:"
   ]
  },
  {
   "cell_type": "code",
   "execution_count": 3,
   "metadata": {},
   "outputs": [
    {
     "name": "stdout",
     "output_type": "stream",
     "text": [
      "count is: 1\n",
      "count is: 2\n",
      "count is: 3\n",
      "count is: 4\n",
      "count is: 5\n"
     ]
    },
    {
     "data": {
      "text/plain": [
       "6"
      ]
     },
     "execution_count": 3,
     "metadata": {},
     "output_type": "execute_result"
    }
   ],
   "source": [
    "var count = 1;\n",
    "\n",
    "while(count <6) {\n",
    "\tconsole.log(\"count is: \" + count);\n",
    "\tcount+=1;\n",
    "}"
   ]
  },
  {
   "cell_type": "code",
   "execution_count": 2,
   "metadata": {},
   "outputs": [
    {
     "name": "stdout",
     "output_type": "stream",
     "text": [
      "h\n",
      "e\n",
      "l\n",
      "l\n",
      "o\n"
     ]
    },
    {
     "data": {
      "text/plain": [
       "5"
      ]
     },
     "execution_count": 2,
     "metadata": {},
     "output_type": "execute_result"
    }
   ],
   "source": [
    "var str = \"hello\";\n",
    "var count = 0;\n",
    "\n",
    "while(count < str.length) {\n",
    "\tconsole.log(str[count]);\n",
    "\tcount +=1;\n",
    "}"
   ]
  },
  {
   "cell_type": "code",
   "execution_count": 4,
   "metadata": {},
   "outputs": [
    {
     "name": "stdout",
     "output_type": "stream",
     "text": [
      "1\n",
      "3\n",
      "5\n",
      "7\n",
      "9\n"
     ]
    },
    {
     "data": {
      "text/plain": [
       "11"
      ]
     },
     "execution_count": 4,
     "metadata": {},
     "output_type": "execute_result"
    }
   ],
   "source": [
    "var num = 1;\n",
    "\n",
    "while(num <= 10) {\n",
    "\tconsole.log(num);\n",
    "\tnum += 2;\n",
    "}"
   ]
  },
  {
   "cell_type": "code",
   "execution_count": 5,
   "metadata": {},
   "outputs": [
    {
     "name": "stdout",
     "output_type": "stream",
     "text": [
      "4\n",
      "8\n",
      "12\n",
      "16\n",
      "20\n"
     ]
    },
    {
     "data": {
      "text/plain": [
       "21"
      ]
     },
     "execution_count": 5,
     "metadata": {},
     "output_type": "execute_result"
    }
   ],
   "source": [
    "var num = 1\n",
    "\n",
    "while(num <= 20) {\n",
    "\tif(num % 4 === 0){\n",
    "\tconsole.log(num);\n",
    "\t}\n",
    "\tnum +=1;\n",
    "}"
   ]
  },
  {
   "cell_type": "code",
   "execution_count": null,
   "metadata": {
    "collapsed": true
   },
   "outputs": [],
   "source": [
    "var number = -10\n",
    "\n",
    "while (number <20) {\n",
    "\tconsole.log(num)\n",
    "\tnum +=1\n",
    "}"
   ]
  },
  {
   "cell_type": "markdown",
   "metadata": {},
   "source": [
    "<a id='8.2'></a>\n",
    "### For loops\n",
    "\n",
    "for(init; condition; step) {\n",
    "\t//run some code\n",
    "}"
   ]
  },
  {
   "cell_type": "code",
   "execution_count": null,
   "metadata": {
    "collapsed": true
   },
   "outputs": [],
   "source": [
    "for(var count = 0; count<6; count++){\n",
    "\tconsole.log(count);\n",
    "}"
   ]
  },
  {
   "cell_type": "code",
   "execution_count": null,
   "metadata": {
    "collapsed": true
   },
   "outputs": [],
   "source": [
    "var str = \"hello\";\n",
    "\n",
    "for(var i=0; i < str.length; i++{\n",
    "\tconsole.log(str[i]);\n",
    "\t"
   ]
  },
  {
   "cell_type": "code",
   "execution_count": null,
   "metadata": {
    "collapsed": true
   },
   "outputs": [],
   "source": [
    "console.log(\"Print all numbers between -10 and 19\");\n",
    "for(var i = -10; i<20; i++){\n",
    "\tconsole.log(i);\n",
    "}"
   ]
  },
  {
   "cell_type": "code",
   "execution_count": null,
   "metadata": {
    "collapsed": true
   },
   "outputs": [],
   "source": [
    "// i+=2 method\n",
    "console.log(\"Print all odd numbers between 10 and 40\");\n",
    " for(var i = 10; i<=40; i+=2){\n",
    " \tconsole.log(i);\n",
    "}\n",
    "\n",
    "// if method\n",
    "console.log(\"Print all odd numbers between 10 and 40\");\n",
    " for(var i = 10; i<=40; i+=1){\n",
    " \tif(i % 2 !== 0){\n",
    " \t\tconsole.log(i)\n",
    " \t}\n",
    "}"
   ]
  },
  {
   "cell_type": "code",
   "execution_count": null,
   "metadata": {
    "collapsed": true
   },
   "outputs": [],
   "source": [
    "console.log(\"Print all odd numbers between 300 and 333\");\n",
    "for(var i = 300; i <=333; i+=1){\n",
    "\tif(i % 2 !== 0){\n",
    "\t\tconsole.log(i)\n",
    "\t}\n",
    "}"
   ]
  },
  {
   "cell_type": "code",
   "execution_count": null,
   "metadata": {
    "collapsed": true
   },
   "outputs": [],
   "source": [
    "console.log(\"Print all numbers divisible by 5 AND 3 between 5 and 50\");\n",
    " for(var i = 5; i<=50; i+=1){\n",
    " \tif (i%5 === 0 && i%3 ===0){\n",
    " \tconsole.log(i);\n",
    " \t}\n",
    "}"
   ]
  },
  {
   "cell_type": "markdown",
   "metadata": {},
   "source": [
    "<a id='9'></a>\n",
    "## Functions"
   ]
  },
  {
   "cell_type": "markdown",
   "metadata": {},
   "source": [
    "**Functions:**\n",
    "* [Arguments](#9.0)\n",
    "* [The Return Keyword](#9.1)\n",
    "* [JS Scope](#9.2)\n",
    "* [High Order Functions Code Along:](#9.3)\n",
    "* [](#9.4)\n",
    "* [](#9.5)\n",
    "* [](#9.6)\n",
    "* [](#9.7)\n",
    "* [](#9.8)\n",
    "* [](#9.9)\n",
    "* [](#9.10)"
   ]
  },
  {
   "cell_type": "code",
   "execution_count": null,
   "metadata": {
    "collapsed": true
   },
   "outputs": [],
   "source": [
    "function doSomething() {\n",
    "\tconsole.log(\"HELLO WORLD\");\n",
    "}\n",
    "\n",
    "doSomething()"
   ]
  },
  {
   "cell_type": "code",
   "execution_count": null,
   "metadata": {
    "collapsed": true
   },
   "outputs": [],
   "source": [
    "function singSong() {\n",
    "\tconsole.log(\"Twinkle, twinkle, little star,\");\n",
    "\tconsole.log(\"How I wonder what you are!\");\n",
    "\tconsole.log(\"Up above the world so high,\");\n",
    "\tconsole.log(\"Like a diamond in the sky\");\n",
    "}\n",
    "\n",
    "singSong()"
   ]
  },
  {
   "cell_type": "markdown",
   "metadata": {},
   "source": [
    "<a id='9.0'></a>\n",
    "### Arguments"
   ]
  },
  {
   "cell_type": "code",
   "execution_count": null,
   "metadata": {
    "collapsed": true
   },
   "outputs": [],
   "source": [
    "function square(num) {\n",
    "    console.log(num*num);\n",
    "}\n",
    "\n",
    "square(10);\n",
    "square(3);"
   ]
  },
  {
   "cell_type": "code",
   "execution_count": null,
   "metadata": {
    "collapsed": true
   },
   "outputs": [],
   "source": [
    "function sayHello(name) {\n",
    "\tconsole.log(\"Hello there \" + name +\"!\")\n",
    "}\n",
    "\n",
    "sayHello(\"Rusty\")"
   ]
  },
  {
   "cell_type": "markdown",
   "metadata": {},
   "source": [
    "<a id='9.1'></a>\n",
    "### The Return Keyword"
   ]
  },
  {
   "cell_type": "code",
   "execution_count": null,
   "metadata": {
    "collapsed": true
   },
   "outputs": [],
   "source": [
    "//this function capitalizes the first char in a string:\n",
    "\n",
    "function capitalize(str) {\n",
    "    if(typeof str === \"number\") {\n",
    "        return \"that's not a string!\"\n",
    "    }\n",
    "    return str.charAt(0).toUpperCase() + str.slice(1);\n",
    "}\n",
    "\n",
    "var num = 37;\n",
    "var capital = capitalize(num)"
   ]
  },
  {
   "cell_type": "code",
   "execution_count": 4,
   "metadata": {},
   "outputs": [
    {
     "data": {
      "text/plain": [
       "'Paris'"
      ]
     },
     "execution_count": 4,
     "metadata": {},
     "output_type": "execute_result"
    }
   ],
   "source": [
    "function capitalize(str) {\n",
    "    if(typeof str === \"number\") {\n",
    "        return \"that's not a string!\"\n",
    "    }\n",
    "    return str.charAt(0).toUpperCase() + str.slice(1);\n",
    "}\n",
    "\n",
    "var city = \"paris\";\n",
    "var capital = capitalize(city);\n",
    "capital;"
   ]
  },
  {
   "cell_type": "code",
   "execution_count": 3,
   "metadata": {},
   "outputs": [
    {
     "data": {
      "text/plain": [
       "'Hello'"
      ]
     },
     "execution_count": 3,
     "metadata": {},
     "output_type": "execute_result"
    }
   ],
   "source": [
    "//function expression\n",
    "var capitalize = function(str) {\n",
    "    return str.charAt(0).toUpperCase() + str.slice(1);\n",
    "}\n",
    "\n",
    "capitalize(\"hello\")"
   ]
  },
  {
   "cell_type": "code",
   "execution_count": 2,
   "metadata": {
    "collapsed": true
   },
   "outputs": [],
   "source": [
    "//function declaration\n",
    "function capitalize(str) {\n",
    "    return str.charAt(0).toUpperCase() + str.slice(1);\n",
    "}"
   ]
  },
  {
   "cell_type": "code",
   "execution_count": 1,
   "metadata": {},
   "outputs": [
    {
     "data": {
      "text/plain": [
       "30"
      ]
     },
     "execution_count": 1,
     "metadata": {},
     "output_type": "execute_result"
    }
   ],
   "source": [
    "function test(x,y) {\n",
    "    return y - x;\n",
    "}\n",
    "\n",
    "test(10,40)"
   ]
  },
  {
   "cell_type": "code",
   "execution_count": 5,
   "metadata": {},
   "outputs": [
    {
     "data": {
      "text/plain": [
       "80"
      ]
     },
     "execution_count": 5,
     "metadata": {},
     "output_type": "execute_result"
    }
   ],
   "source": [
    "function test(x) {\n",
    "\treturn x*2;\n",
    "\tconsole.log(x);\n",
    "\treturn x/2;\n",
    "}\n",
    "\n",
    "test(40);"
   ]
  },
  {
   "cell_type": "code",
   "execution_count": 13,
   "metadata": {},
   "outputs": [
    {
     "data": {
      "text/plain": [
       "true"
      ]
     },
     "execution_count": 13,
     "metadata": {},
     "output_type": "execute_result"
    }
   ],
   "source": [
    "function isEven(num) {\n",
    "    if (num%2 === 0) {\n",
    "        return true; \n",
    "    } else {\n",
    "        return false;\n",
    "    }\n",
    "}\n",
    "\n",
    "isEven(4)"
   ]
  },
  {
   "cell_type": "code",
   "execution_count": 14,
   "metadata": {},
   "outputs": [
    {
     "data": {
      "text/plain": [
       "false"
      ]
     },
     "execution_count": 14,
     "metadata": {},
     "output_type": "execute_result"
    }
   ],
   "source": [
    "isEven(21)"
   ]
  },
  {
   "cell_type": "code",
   "execution_count": 17,
   "metadata": {
    "collapsed": true
   },
   "outputs": [],
   "source": [
    "function isEven(num){\n",
    "    return num%2 === 0;\n",
    "}"
   ]
  },
  {
   "cell_type": "code",
   "execution_count": 28,
   "metadata": {},
   "outputs": [
    {
     "data": {
      "text/plain": [
       "24"
      ]
     },
     "execution_count": 28,
     "metadata": {},
     "output_type": "execute_result"
    }
   ],
   "source": [
    "function factorial(num){\n",
    "\tvar result =1;\n",
    "\tfor (var i=1; i <= num; i++){\n",
    "\t\tresult = result*i\n",
    "\t}\n",
    "    return result\n",
    "}\n",
    "\n",
    "factorial(4)"
   ]
  },
  {
   "cell_type": "code",
   "execution_count": 2,
   "metadata": {},
   "outputs": [
    {
     "data": {
      "text/plain": [
       "1"
      ]
     },
     "execution_count": 2,
     "metadata": {},
     "output_type": "execute_result"
    }
   ],
   "source": [
    "factorial(0)"
   ]
  },
  {
   "cell_type": "code",
   "execution_count": 1,
   "metadata": {
    "collapsed": true
   },
   "outputs": [],
   "source": [
    "function factorial(num){\n",
    "    if (num === 0){\n",
    "        return 1;\n",
    "    }\n",
    "\tvar result =num;\n",
    "\tfor (var i=num-1; i >= 1; i--){\n",
    "\t\tresult = result*i\n",
    "\t}\n",
    "\treturn result;\n",
    "}"
   ]
  },
  {
   "cell_type": "code",
   "execution_count": 4,
   "metadata": {},
   "outputs": [
    {
     "data": {
      "text/plain": [
       "'hello_world'"
      ]
     },
     "execution_count": 4,
     "metadata": {},
     "output_type": "execute_result"
    }
   ],
   "source": [
    "function kebabToSnake(string){\n",
    "\tvar newStr = string.replace(/-/g, \"_\");\n",
    "\treturn newStr;\n",
    "}    \n",
    "kebabToSnake(\"hello-world\")"
   ]
  },
  {
   "cell_type": "markdown",
   "metadata": {},
   "source": [
    "<a id='9.2'></a>\n",
    "### JS Scope"
   ]
  },
  {
   "cell_type": "code",
   "execution_count": 7,
   "metadata": {},
   "outputs": [
    {
     "data": {
      "text/plain": [
       "true"
      ]
     },
     "execution_count": 7,
     "metadata": {},
     "output_type": "execute_result"
    }
   ],
   "source": [
    "var num = 8;\n",
    "function doMathMath() {\n",
    "\tnum += 1\n",
    "\tif(num % 5 == 0) {\n",
    "\t\treturn true\n",
    "\t} else {\n",
    "\t\treturn false\n",
    "\t}\n",
    "}\n",
    "\n",
    "num += 1\n",
    "doMath()"
   ]
  },
  {
   "cell_type": "markdown",
   "metadata": {},
   "source": [
    "<a id='9.3'></a>\n",
    "### High Order Functions Code Along:\n",
    "\n",
    "setInterval(anotherFunc, interval in miliseconds)"
   ]
  },
  {
   "cell_type": "code",
   "execution_count": null,
   "metadata": {
    "collapsed": true
   },
   "outputs": [],
   "source": [
    "function sing(){\n",
    "\tconsole.log(\"twinkle twinkle...\");\n",
    "\tconsole.log(\"how i wonder...\");\n",
    "}\n",
    "\n",
    "setInterval(sing, 1000);\n",
    "\n",
    "clearInterval(#);"
   ]
  },
  {
   "cell_type": "markdown",
   "metadata": {},
   "source": [
    "<a id='10'></a>\n",
    "## Array"
   ]
  },
  {
   "cell_type": "markdown",
   "metadata": {},
   "source": [
    "**Array:**\n",
    "* [Array methods:](#10.0)\n",
    "* [Shift and Unshift:](#10.1)\n",
    "* [IndexOf](#10.2)\n",
    "* [Slice:](#10.3)\n",
    "* [Array Iteration:](#10.4)\n",
    "* [.forEach:](#10.5)\n",
    "* [Array Problem Set](#10.6)\n",
    "* [updating data:](#10.7)\n",
    "* [](#10.8)\n",
    "* [](#10.9)\n",
    "* [](#10.10)"
   ]
  },
  {
   "cell_type": "code",
   "execution_count": null,
   "metadata": {
    "collapsed": true
   },
   "outputs": [],
   "source": [
    "var friends = [\"Charlie\", \"Liz\", \"David\", \"Mattias\"];"
   ]
  },
  {
   "cell_type": "code",
   "execution_count": null,
   "metadata": {
    "collapsed": true
   },
   "outputs": [],
   "source": [
    "//We can initialize an empty array two ways:\n",
    "var friends = []; //no friends\n",
    "var friends = new Array() //uncommon"
   ]
  },
  {
   "cell_type": "code",
   "execution_count": null,
   "metadata": {
    "collapsed": true
   },
   "outputs": [],
   "source": [
    "//Arrays can hold any type of data\n",
    "var random_collection = [49, true, \"Hermione\", null];"
   ]
  },
  {
   "cell_type": "code",
   "execution_count": null,
   "metadata": {
    "collapsed": true
   },
   "outputs": [],
   "source": [
    "//Arrays have a length property\n",
    "var nums = [45, 37, 89, 24];\n",
    "nums.length"
   ]
  },
  {
   "cell_type": "markdown",
   "metadata": {},
   "source": [
    "<a id='10.0'></a>\n",
    "### Array methods:\n",
    "-push/pop\n",
    "-shift/unshift\n",
    "-indexOf\n",
    "-slice\n",
    "\n",
    "push/pop\n",
    "-use push to add to the end of an array"
   ]
  },
  {
   "cell_type": "code",
   "execution_count": null,
   "metadata": {
    "collapsed": true
   },
   "outputs": [],
   "source": [
    "var colors = [\"red\", \"orange\", \"yellow\"];\n",
    "colors.push(\"green\");\n",
    "\n",
    "-use pop to remove the last item in an array\n",
    "var colors = [\"red\", \"orange\", \"yellow\"];\n",
    "var col = colors.pop(); "
   ]
  },
  {
   "cell_type": "markdown",
   "metadata": {},
   "source": [
    "<a id='10.1'></a>\n",
    "### Shift and Unshift:\n",
    "-use unshift to add to the front of an array\n",
    "-use shift to remove the first item in an array"
   ]
  },
  {
   "cell_type": "code",
   "execution_count": null,
   "metadata": {
    "collapsed": true
   },
   "outputs": [],
   "source": [
    "var colors = [\"red\", \"orange\", \"yellow\"];\n",
    "colors.unshift(\"infrared\")\n",
    "\n",
    "var colors = [\"red\", \"orange\", \"yellow\"];\n",
    "colors.shift();\n",
    "\n",
    "var col = colors.shirt();\n",
    "\n"
   ]
  },
  {
   "cell_type": "markdown",
   "metadata": {},
   "source": [
    "<a id='10.2'></a>\n",
    "### IndexOf\n",
    "-use indesOf() to find the index of an item in an array"
   ]
  },
  {
   "cell_type": "code",
   "execution_count": null,
   "metadata": {
    "collapsed": true
   },
   "outputs": [],
   "source": [
    "var friends = [\"Charlie\", \"Liz\", \"David\", \"Mattias\", \"Liz\"];\n",
    "friends.indexOf(\"David\");\n",
    "friends.indexOf(\"Liz\");\n",
    "\n",
    "//returns -1 if the element is not present\n",
    "friends.indexOf(\"Hagrid\");"
   ]
  },
  {
   "cell_type": "markdown",
   "metadata": {},
   "source": [
    "<a id='10.3'></a>\n",
    "### Slice:\n",
    "-use slice() to copy parts of an array"
   ]
  },
  {
   "cell_type": "code",
   "execution_count": null,
   "metadata": {
    "collapsed": true
   },
   "outputs": [],
   "source": [
    "var fruits = ['Banana', 'Orange', 'Lemon', 'Apple', 'Mango'];\n",
    "//specify index where the new array starts(1) and ends(3)\n",
    "//this does not alter the original fruits array\n",
    "var citrus = fruits.slice(1,3);\n",
    "\n",
    "/you can also use slice() to copy an entire array\n",
    "var nums = [1,2,3];\n",
    "var otherNums = nums.slice();\n",
    "\n",
    "window.setTimeout(function() {\n",
    "  // put all of your JS code from the lecture here\n",
    "}, 500);"
   ]
  },
  {
   "cell_type": "markdown",
   "metadata": {},
   "source": [
    "<a id='10.4'></a>\n",
    "### Array Iteration:\n",
    "#### -use a for loop to iterate over an array\n",
    "#### -use forEach to iterate over an array\n",
    "#### -compare and contrast for loop and forEach"
   ]
  },
  {
   "cell_type": "code",
   "execution_count": 11,
   "metadata": {},
   "outputs": [
    {
     "name": "stdout",
     "output_type": "stream",
     "text": [
      "red\n",
      "orange\n",
      "yellow\n",
      "green\n"
     ]
    }
   ],
   "source": [
    "//to loop over an array using a for loop, we need to make use of the array's length property\n",
    "var colors = [\"red\", \"orange\", \"yellow\", \"green\"];\n",
    "\n",
    "for(var i=0; i < colors.length; i++) {\n",
    "\tconsole.log(colors[i]);\n",
    "}"
   ]
  },
  {
   "cell_type": "code",
   "execution_count": null,
   "metadata": {
    "collapsed": true
   },
   "outputs": [],
   "source": [
    "//ForEach: JavaScript provides an easy built-in way of iterating over an array\n",
    "//arr.forEach(someFunciton)\n",
    "\n",
    "var colors = [\"red\", \"orange\", \"yellow\", \"green\"];\n",
    "colors.forEach(function(color){\n",
    "\t//color is a placeholder, call it whatever you want\n",
    "\tconsole.log(color);\n",
    "});"
   ]
  },
  {
   "cell_type": "code",
   "execution_count": null,
   "metadata": {
    "collapsed": true
   },
   "outputs": [],
   "source": [
    "//.forEach\n",
    "\n",
    "var numbers = [1,2,3,4,5,6,7,8,9,10]\n",
    "var colors = [\"red\", \"orange\", \"yellow\", \"green\"];\n",
    "\n",
    "numbers.forEach(function(color){\n",
    "\tif(color% 3 === 0) {\n",
    "\t\tconsole.log(color);\n",
    "\t}\n",
    "});"
   ]
  },
  {
   "cell_type": "code",
   "execution_count": null,
   "metadata": {
    "collapsed": true
   },
   "outputs": [],
   "source": [
    "//For Loop:\n",
    "\n",
    "var numbers = [1,2,3,4,5,6,7,8,9,10]\n",
    "for(var i=0; i < numbers.length; i++) {\n",
    "\tif(numbers[i] % 3 === 0) {\n",
    "\tconsole.log(numbers[i]);\n",
    "\t}\n",
    "}"
   ]
  },
  {
   "cell_type": "markdown",
   "metadata": {},
   "source": [
    "<a id='10.5'></a>\n",
    "### .forEach:\n",
    "\n",
    "The arguments are in a specific order:\n",
    "- The first one represents each element in the array (per loop iteration) that .forEach was called on.\n",
    "- The second represents the index of said element.\n",
    "- The third represents the array that .forEach was called on (it will be the same for every iteration of the loop).\n",
    "\n",
    "You have a couple options when calling .forEach on an array:"
   ]
  },
  {
   "cell_type": "code",
   "execution_count": null,
   "metadata": {
    "collapsed": true
   },
   "outputs": [],
   "source": [
    "//You can pass in an anonymous function:\n",
    "\n",
    "[1,2,3].forEach(function(el, i, arr) {\n",
    "  console.log(el, i, arr);\n",
    "});\n"
   ]
  },
  {
   "cell_type": "code",
   "execution_count": null,
   "metadata": {
    "collapsed": true
   },
   "outputs": [],
   "source": [
    "//Or you can pass in a pre-written, named function.\n",
    "\n",
    "function logNums(el, i, arr) {\n",
    "  console.log(el, i, arr);\n",
    "}\n",
    " \n",
    "[1,2,3].forEach(logNums);"
   ]
  },
  {
   "cell_type": "code",
   "execution_count": 15,
   "metadata": {},
   "outputs": [
    {
     "name": "stdout",
     "output_type": "stream",
     "text": [
      "4\n",
      "3\n",
      "2\n",
      "1\n"
     ]
    }
   ],
   "source": [
    "function printReverse(array){\n",
    "\tfor(var i=array.length-1; i >= 0; i--) {\n",
    "\tconsole.log(array[i]);\n",
    "\t}\n",
    "}\n",
    "\n",
    "printReverse([1,2,3,4]);"
   ]
  },
  {
   "cell_type": "code",
   "execution_count": 24,
   "metadata": {},
   "outputs": [
    {
     "data": {
      "text/plain": [
       "false"
      ]
     },
     "execution_count": 24,
     "metadata": {},
     "output_type": "execute_result"
    }
   ],
   "source": [
    "function isUniform(array){\n",
    "\tfor(var i=0; i < array.length; i++) {\n",
    "\t\tif (array[i] !== array[i+1]) {\n",
    "\t\t\treturn false}\n",
    "        else {\n",
    "            return true\n",
    "        }\n",
    "\t\tconsole.log(array[i]);\n",
    "\t}\n",
    "}\n",
    "\n",
    "isUniform([1,2,1,1]);"
   ]
  },
  {
   "cell_type": "code",
   "execution_count": 32,
   "metadata": {},
   "outputs": [
    {
     "data": {
      "text/plain": [
       "95"
      ]
     },
     "execution_count": 32,
     "metadata": {},
     "output_type": "execute_result"
    }
   ],
   "source": [
    "function sumArray(array){\n",
    "\tvar result = 0;\n",
    "\tfor(var i=0; i < array.length; i++) {\n",
    "\t\tresult = result + array[i];\n",
    "\t}\n",
    "    return result\n",
    "}\n",
    "\n",
    "sumArray([-5,100]);"
   ]
  },
  {
   "cell_type": "markdown",
   "metadata": {
    "collapsed": true
   },
   "source": [
    "<a id='10.6'></a>\n",
    "### Array problem set"
   ]
  },
  {
   "cell_type": "code",
   "execution_count": 1,
   "metadata": {},
   "outputs": [
    {
     "name": "stdout",
     "output_type": "stream",
     "text": [
      "4\n",
      "3\n",
      "2\n",
      "1\n"
     ]
    }
   ],
   "source": [
    "function printReverse(array){\n",
    "    for(var i=array.length-1; i >= 0; i--) {\n",
    "    console.log(array[i]);\n",
    "    }\n",
    "}\n",
    "\n",
    "printReverse([1,2,3,4]);"
   ]
  },
  {
   "cell_type": "code",
   "execution_count": 2,
   "metadata": {},
   "outputs": [
    {
     "name": "stdout",
     "output_type": "stream",
     "text": [
      "1\n",
      "1\n",
      "1\n"
     ]
    },
    {
     "data": {
      "text/plain": [
       "true"
      ]
     },
     "execution_count": 2,
     "metadata": {},
     "output_type": "execute_result"
    }
   ],
   "source": [
    "function isUniform(arr){\n",
    "    var first = arr[0];\n",
    "    for(var i=1; i < arr.length; i++) {\n",
    "        if (arr[i] !== first) {\n",
    "            return false;\n",
    "            }\n",
    "        console.log(arr[i]);\n",
    "    }\n",
    "    return true;\n",
    "}\n",
    "\n",
    "isUniform([1,1,1,1]);"
   ]
  },
  {
   "cell_type": "code",
   "execution_count": 3,
   "metadata": {},
   "outputs": [
    {
     "data": {
      "text/plain": [
       "6"
      ]
     },
     "execution_count": 3,
     "metadata": {},
     "output_type": "execute_result"
    }
   ],
   "source": [
    "function sumArray(arr){\n",
    "    var total = 0;\n",
    "    arr.forEach(function(element){\n",
    "        total += element;\n",
    "    });\n",
    "    return total\n",
    "}\n",
    "\n",
    "sumArray([1,2,3]);"
   ]
  },
  {
   "cell_type": "code",
   "execution_count": 4,
   "metadata": {},
   "outputs": [
    {
     "data": {
      "text/plain": [
       "6"
      ]
     },
     "execution_count": 4,
     "metadata": {},
     "output_type": "execute_result"
    }
   ],
   "source": [
    "function sumArray(array){\n",
    "\tvar result = 0;\n",
    "\tfor(var i=0; i < array.length; i++) {\n",
    "\t\tresult = result + array[i];\n",
    "\t}\n",
    "    return result\n",
    "}\n",
    "\n",
    "sumArray([1,2,3]);"
   ]
  },
  {
   "cell_type": "code",
   "execution_count": 5,
   "metadata": {},
   "outputs": [
    {
     "data": {
      "text/plain": [
       "3"
      ]
     },
     "execution_count": 5,
     "metadata": {},
     "output_type": "execute_result"
    }
   ],
   "source": [
    "function max(arr){\n",
    "\tvar max = arr[0];\n",
    "\tfor(var i=1; i < arr.length; i++) {\n",
    "\t\tif(arr[i] > arr[0]){\n",
    "\t\t\tmax = arr[i]\n",
    "\t\t}\n",
    "\t}\n",
    "    return max\n",
    "}\n",
    "\n",
    "max([1,2,3]);"
   ]
  },
  {
   "cell_type": "code",
   "execution_count": null,
   "metadata": {
    "collapsed": true
   },
   "outputs": [],
   "source": [
    "Objects:\n",
    "\n",
    "var person = {\n",
    "\tname: \"Travis\",\n",
    "\tage: 21,\n",
    "\tcity: \"LA\"\n",
    "};\n",
    "\n"
   ]
  },
  {
   "cell_type": "code",
   "execution_count": null,
   "metadata": {
    "collapsed": true
   },
   "outputs": [],
   "source": [
    "//bracket notation\n",
    "console.log(person[\"name\"]);"
   ]
  },
  {
   "cell_type": "code",
   "execution_count": null,
   "metadata": {
    "collapsed": true
   },
   "outputs": [],
   "source": [
    "//dot.notation\n",
    "console.log(person.name);"
   ]
  },
  {
   "cell_type": "code",
   "execution_count": null,
   "metadata": {
    "collapsed": true
   },
   "outputs": [],
   "source": [
    "//you cannot use dot notation if the propety starts with a number\n",
    "someObject[\"1blah\"]"
   ]
  },
  {
   "cell_type": "code",
   "execution_count": null,
   "metadata": {
    "collapsed": true
   },
   "outputs": [],
   "source": [
    "//you can lookup using a variable with bracket notation\n",
    "var str = \"name\"\n",
    "someObject[str]"
   ]
  },
  {
   "cell_type": "code",
   "execution_count": null,
   "metadata": {
    "collapsed": true
   },
   "outputs": [],
   "source": [
    "//you cannot use dot notation for property names wiht spaces\n",
    "someObject[\"fav color\"];"
   ]
  },
  {
   "cell_type": "markdown",
   "metadata": {},
   "source": [
    "<a id='10.7'></a>\n",
    "### updating data:"
   ]
  },
  {
   "cell_type": "code",
   "execution_count": null,
   "metadata": {
    "collapsed": true
   },
   "outputs": [],
   "source": [
    "var person = {\n",
    "\tname: \"Travis\",\n",
    "\tage: 21,\n",
    "\tcity: \"LA\"\n",
    "};"
   ]
  },
  {
   "cell_type": "code",
   "execution_count": null,
   "metadata": {
    "collapsed": true
   },
   "outputs": [],
   "source": [
    "//to update age\n",
    "person[\"age\"] += 1;"
   ]
  },
  {
   "cell_type": "code",
   "execution_count": null,
   "metadata": {
    "collapsed": true
   },
   "outputs": [],
   "source": [
    "//to update city\n",
    "person.city = \"London\";"
   ]
  },
  {
   "cell_type": "markdown",
   "metadata": {},
   "source": [
    "<a id='11'></a>\n",
    "## JavaScript Basics: Objects"
   ]
  },
  {
   "cell_type": "markdown",
   "metadata": {},
   "source": [
    "**JavaScript Basics: Objects:**\n",
    "* [Creating obejcts:](#11.0)\n",
    "* [Objects can hold all sorts of data](#11.1)\n",
    "* [Array with Object:](#11.2)\n",
    "* [Make the program more concise: add a function](#11.3)\n",
    "* [Adding Methods to Objects](#11.4)\n",
    "* [The Keyword This:](#11.5)\n",
    "* [](#11.6)\n",
    "* [](#11.7)\n",
    "* [](#11.8)\n",
    "* [](#11.9)\n",
    "* [](#11.10)"
   ]
  },
  {
   "cell_type": "markdown",
   "metadata": {},
   "source": [
    "<a id='11.0'></a>\n",
    "### Creating obejcts:"
   ]
  },
  {
   "cell_type": "code",
   "execution_count": null,
   "metadata": {
    "collapsed": true
   },
   "outputs": [],
   "source": [
    "//make an empty object and then add to it\n",
    "var person = {}\n",
    "person.name = \"Travis;\n",
    "person.age = 21;\n",
    "person.city = \"LA\";"
   ]
  },
  {
   "cell_type": "code",
   "execution_count": null,
   "metadata": {
    "collapsed": true
   },
   "outputs": [],
   "source": [
    "//all at once\n",
    "var person = {\n",
    "\tname: \"Travis\",\n",
    "\tage: 21,\n",
    "\tcity: \"LA\"\n",
    "};"
   ]
  },
  {
   "cell_type": "code",
   "execution_count": null,
   "metadata": {
    "collapsed": true
   },
   "outputs": [],
   "source": [
    "//another way of initializing an Object\n",
    "var person = new Object();\n",
    "person.name = \"Travis\";\n",
    "person.age = 21;\n",
    "person.city = \"LA\";"
   ]
  },
  {
   "cell_type": "markdown",
   "metadata": {},
   "source": [
    "<a id='11.1'></a>\n",
    "### Objects can hold all sorts of data"
   ]
  },
  {
   "cell_type": "code",
   "execution_count": null,
   "metadata": {
    "collapsed": true
   },
   "outputs": [],
   "source": [
    "var junkObject = {\n",
    "\tage: 57,\n",
    "\tcolor: \"purple\",\n",
    "\tisHungry: true,\n",
    "\tfriends: [\"Horatio\", \"Hamlet\"],\n",
    "\tpet: {\n",
    "\t\tname: \"Rusty\",\n",
    "\t\tspecies: \"Dog\",\n",
    "\t\tage: 2\n",
    "\t}\n",
    "};\n",
    "\n"
   ]
  },
  {
   "cell_type": "markdown",
   "metadata": {},
   "source": [
    "<a id='11.2'></a>\n",
    "### Array with Object:"
   ]
  },
  {
   "cell_type": "code",
   "execution_count": 28,
   "metadata": {
    "collapsed": true
   },
   "outputs": [],
   "source": [
    "var posts = [\n",
    "\t{\n",
    "\t\ttitle: \"Cats are mediocre\",\n",
    "\t\tauthor: \"Colt\",\n",
    "\t\tcomments: [\"Awesome post\", \"terrible post\"]\n",
    "\t},\n",
    "\t{\n",
    "\t\ttitle: \"Cats are actually awesome\",\n",
    "\t\tauthor: \"Cat Luvr\",\n",
    "\t\tcomments: [\"<3\", \"Go to hell I hate you\"] \n",
    "\t\t}\n",
    "\t]"
   ]
  },
  {
   "cell_type": "code",
   "execution_count": 30,
   "metadata": {},
   "outputs": [
    {
     "data": {
      "text/plain": [
       "'Cats are mediocre'"
      ]
     },
     "execution_count": 30,
     "metadata": {},
     "output_type": "execute_result"
    }
   ],
   "source": [
    "posts[0].title //\"Cats are mediocre\""
   ]
  },
  {
   "cell_type": "code",
   "execution_count": 31,
   "metadata": {},
   "outputs": [
    {
     "data": {
      "text/plain": [
       "'Go to hell I hate you'"
      ]
     },
     "execution_count": 31,
     "metadata": {},
     "output_type": "execute_result"
    }
   ],
   "source": [
    "posts[1].comments[1] //\"Go to hell I hate you\""
   ]
  },
  {
   "cell_type": "code",
   "execution_count": 10,
   "metadata": {
    "collapsed": true
   },
   "outputs": [],
   "source": [
    "var someObject = {\n",
    "    friends: [\n",
    "        {name: \"Malfoy\"},\n",
    "        {name: \"Crabbe\"},\n",
    "        {name: \"Goyle\"}\n",
    "    ],\n",
    "    color: \"baby blue\",\n",
    "    isEvil: true\n",
    "};"
   ]
  },
  {
   "cell_type": "code",
   "execution_count": 18,
   "metadata": {},
   "outputs": [
    {
     "data": {
      "text/plain": [
       "'Malfoy'"
      ]
     },
     "execution_count": 18,
     "metadata": {},
     "output_type": "execute_result"
    }
   ],
   "source": [
    "someObject.friends[0].name"
   ]
  },
  {
   "cell_type": "code",
   "execution_count": 22,
   "metadata": {},
   "outputs": [
    {
     "data": {
      "text/plain": [
       "'Malfoy'"
      ]
     },
     "execution_count": 22,
     "metadata": {},
     "output_type": "execute_result"
    }
   ],
   "source": [
    "someObject[\"friends\"][0][\"name\"]"
   ]
  },
  {
   "cell_type": "code",
   "execution_count": 26,
   "metadata": {
    "collapsed": true
   },
   "outputs": [],
   "source": [
    "var movieDB = [\n",
    "\t{\n",
    "\ttitle: \"In Bruges\", \n",
    "\thasWatched:true, \n",
    "\trating:5}\n",
    "\t,\n",
    "\t{\n",
    "\ttitle: \"Frozen\",\n",
    "\thasWatched: false,\n",
    "\trating: 4.5},\n",
    "\t{\n",
    "\ttitle: \"Mad Max Fury Road\",\n",
    "\thasWatched: true,\n",
    "\trating: 5},\n",
    "\t{\n",
    "\ttitle: \"Les Miserables\",\n",
    "\thasWatched: false,\n",
    "\trating: 3.5}\n",
    "\t]"
   ]
  },
  {
   "cell_type": "code",
   "execution_count": 27,
   "metadata": {},
   "outputs": [
    {
     "name": "stdout",
     "output_type": "stream",
     "text": [
      "You have watched \"In Bruges\" - 5 stars\n",
      "You have not watched \"Frozen\" - 4.5 stars\n",
      "You have watched \"Mad Max Fury Road\" - 5 stars\n",
      "You have not watched \"Les Miserables\" - 3.5 stars\n"
     ]
    }
   ],
   "source": [
    "movieDB.forEach(function(movie){\n",
    "\tvar result = \"You have \";\n",
    "\tif(movie.hasWatched) {\n",
    "\t\tresult += \"watched \";\n",
    "\t} else {\n",
    "\t\tresult += \"not watched \";\n",
    "\t}\n",
    "\tresult += \"\\\"\" + movie.title + \"\\\" - \";\n",
    "\tresult += movie.rating + \" stars\";\n",
    "\tconsole.log(result)\n",
    "})\n"
   ]
  },
  {
   "cell_type": "markdown",
   "metadata": {},
   "source": [
    "<a id='11.3'></a>\n",
    "### Make the program more concise: add a function"
   ]
  },
  {
   "cell_type": "code",
   "execution_count": null,
   "metadata": {
    "collapsed": true
   },
   "outputs": [],
   "source": [
    "function buildString(movie){\n",
    "\t\tvar result = \"You have \";\n",
    "\tif(movie.hasWatched) {\n",
    "\t\tresult += \"watched \";\n",
    "\t} else {\n",
    "\t\tresult += \"not watched \";\n",
    "\t}\n",
    "\tresult += \"\\\"\" + movie.title + \"\\\" - \";\n",
    "\tresult += movie.rating + \" stars\";\n",
    "\treturn result;\n",
    "\t}"
   ]
  },
  {
   "cell_type": "code",
   "execution_count": null,
   "metadata": {
    "collapsed": true
   },
   "outputs": [],
   "source": [
    "movieDB.forEach(function(movie){\n",
    "\tconsole.log(buildString(movie));\n",
    "})"
   ]
  },
  {
   "cell_type": "markdown",
   "metadata": {},
   "source": [
    "<a id='11.4'></a>\n",
    "### Adding Methods to Objects"
   ]
  },
  {
   "cell_type": "code",
   "execution_count": 32,
   "metadata": {
    "collapsed": true
   },
   "outputs": [],
   "source": [
    "var obj = {\n",
    "\tname: \"Chuck\",\n",
    "\tage: 45,\n",
    "\tisCool: false,\n",
    "\tfriends: [\"bob\", \"tina\"],\n",
    "\tadd: function(x,y){\n",
    "\t\treturn x + y;\n",
    "\t\t}\n",
    "\t}"
   ]
  },
  {
   "cell_type": "code",
   "execution_count": 33,
   "metadata": {},
   "outputs": [
    {
     "data": {
      "text/plain": [
       "15"
      ]
     },
     "execution_count": 33,
     "metadata": {},
     "output_type": "execute_result"
    }
   ],
   "source": [
    "obj.add(10,5);"
   ]
  },
  {
   "cell_type": "code",
   "execution_count": 35,
   "metadata": {},
   "outputs": [
    {
     "data": {
      "text/plain": [
       "'WOOF!'"
      ]
     },
     "execution_count": 35,
     "metadata": {},
     "output_type": "execute_result"
    }
   ],
   "source": [
    "function speak(){\n",
    "\treturn \"WOOF!\";\n",
    "}\n",
    "\n",
    "speak() //WOOF!"
   ]
  },
  {
   "cell_type": "code",
   "execution_count": 36,
   "metadata": {},
   "outputs": [
    {
     "data": {
      "text/plain": [
       "[Function]"
      ]
     },
     "execution_count": 36,
     "metadata": {},
     "output_type": "execute_result"
    }
   ],
   "source": [
    "var dogSpace = {};\n",
    "\n",
    "dogSpace.speak = function(){\n",
    "\treturn \"WOOF!\";\n",
    "}\n",
    "\n",
    "var catSpace = {};\n",
    "\n",
    "catSpace.speak = function(){\n",
    "\treturn \"MEOW!\";\n",
    "}"
   ]
  },
  {
   "cell_type": "code",
   "execution_count": 37,
   "metadata": {},
   "outputs": [
    {
     "data": {
      "text/plain": [
       "'WOOF!'"
      ]
     },
     "execution_count": 37,
     "metadata": {},
     "output_type": "execute_result"
    }
   ],
   "source": [
    "dogSpace.speak()"
   ]
  },
  {
   "cell_type": "code",
   "execution_count": 38,
   "metadata": {},
   "outputs": [
    {
     "data": {
      "text/plain": [
       "'MEOW!'"
      ]
     },
     "execution_count": 38,
     "metadata": {},
     "output_type": "execute_result"
    }
   ],
   "source": [
    "catSpace.speak()"
   ]
  },
  {
   "cell_type": "markdown",
   "metadata": {
    "collapsed": true
   },
   "source": [
    "<a id='11.5'></a>\n",
    "### The Keyword This:"
   ]
  },
  {
   "cell_type": "code",
   "execution_count": 39,
   "metadata": {},
   "outputs": [
    {
     "name": "stdout",
     "output_type": "stream",
     "text": [
      "Good Job!\n",
      "Bye\n",
      "Lame...\n"
     ]
    }
   ],
   "source": [
    "var comments = {};\n",
    "\n",
    "comments.data = [\"Good Job!\", \"Bye\", \"Lame...\"];\n",
    "\n",
    "function print(arr){\n",
    "\tarr.forEach(function(el){\n",
    "\t\tconsole.log(el);\n",
    "\t});\n",
    "}\n",
    "\n",
    "print(comments.data);"
   ]
  },
  {
   "cell_type": "code",
   "execution_count": 40,
   "metadata": {},
   "outputs": [
    {
     "name": "stdout",
     "output_type": "stream",
     "text": [
      "Good Job!\n",
      "Bye\n",
      "Lame...\n"
     ]
    }
   ],
   "source": [
    "comments.print = function(){\n",
    "\tthis.data.forEach(function(el){\n",
    "\t\tconsole.log(el);\n",
    "\t});\n",
    "}\t\n",
    "\n",
    "comments.print()"
   ]
  },
  {
   "cell_type": "markdown",
   "metadata": {},
   "source": [
    "<a id='12'></a>\n",
    "## DOM: Document Object Model"
   ]
  },
  {
   "cell_type": "markdown",
   "metadata": {},
   "source": [
    "**DOM: Document Object Model:**\n",
    "* [Select and Manipulate:](#12.0)\n",
    "* [Important Selector Methods:](#12.1)\n",
    "* [getElementByClassName: takes a string argument and returns a list of elements that have a matching class](#12.2)\n",
    "* [getElementsByTagName: returns a list of all elements of a given tag name, like li or h1](#12.3)\n",
    "* [querySelector: returns the first element that matchese a given CSS-style selector](#12.4)\n",
    "* [querySelectorAll: returns a list of elements that matches a given CSS-style selector](#12.5)\n",
    "* [DOM Manipulation](#12.6)\n",
    "* [Manipulating Text and Content](#12.7)\n",
    "* [Attributes: ](#12.8)\n",
    "* [](#12.9)\n",
    "* [](#12.10)"
   ]
  },
  {
   "cell_type": "markdown",
   "metadata": {
    "collapsed": true
   },
   "source": [
    "As you begin working with the DOM you'll be writing some JavaScript code that selects HTML elements from the page and manipulates them. \n",
    "\n",
    "When doing this, be sure to include your JavaScript code at the bottom of the HTML document, right before the closing </body>  tag.\n",
    "\n",
    "The HTML will need to have loaded before the JavaScript is run, otherwise the JavaScript will throw an error because the HTML that it is trying to select and manipulate doesn't exist (yet).\n",
    "\n",
    "See example below:"
   ]
  },
  {
   "cell_type": "raw",
   "metadata": {},
   "source": [
    "<!DOCTYPE html>\n",
    "<html lang=\"en\">\n",
    "<head>\n",
    "    <meta charset=\"UTF-8\">\n",
    "    <title>Test</title>\n",
    "</head>\n",
    "<body>\n",
    "    <h1>Some HTML Code Here</h1>\n",
    " \n",
    "    <script src=\"scriptfile.js\"></script>\n",
    "</body>\n",
    "</html>"
   ]
  },
  {
   "cell_type": "markdown",
   "metadata": {},
   "source": [
    "<a id='12.0'></a>\n",
    "### Select and Manipulate:"
   ]
  },
  {
   "cell_type": "code",
   "execution_count": null,
   "metadata": {
    "collapsed": true
   },
   "outputs": [],
   "source": [
    "The Process: SELECT an element and then MANIPULATE\n",
    "\n",
    "var h1 = document.querySelector(\"h1\"); \\\\select the <h1> and save to a variable\n",
    "\n",
    "h1.style.color = \"pink\";"
   ]
  },
  {
   "cell_type": "code",
   "execution_count": null,
   "metadata": {
    "collapsed": true
   },
   "outputs": [],
   "source": [
    "one more example:\n",
    "\n",
    "var body = document.querySelector(\"body\"); //SELECT\n",
    "var isBlue = false;\n",
    "\n",
    "setInterval(function(){ //Manipulate\n",
    "\tif(isBlue) {\n",
    "\t\tbody.style.background = \"white\";\n",
    "\t} else {\n",
    "\t\tbody.style.background = \"#3498db\";\n",
    "\t}\n",
    "\tisBlue = !isBlue; //change from false to true\n",
    "}, 1000);"
   ]
  },
  {
   "cell_type": "markdown",
   "metadata": {
    "collapsed": true
   },
   "source": [
    "<a id='12.1'></a>\n",
    "### Important Selector Methods:\n",
    "#### document.getElementByld()\n",
    "#### document.getElementByClassName()\n",
    "#### document.getElementsByTagName()\n",
    "#### document.querySelector()\n",
    "#### document.querySelectorAll()"
   ]
  },
  {
   "cell_type": "code",
   "execution_count": null,
   "metadata": {
    "collapsed": true
   },
   "outputs": [],
   "source": [
    "getElementByld: takes a string argument and returns the one element with a matching ID"
   ]
  },
  {
   "cell_type": "raw",
   "metadata": {},
   "source": [
    "<html>\n",
    "\t<head>\n",
    "\t\t<title>Selectors Intro</title>\n",
    "\t</head>\n",
    "\t<body>\n",
    "\t\t<h1>Hello</h1>\n",
    "\t\t<h1>Goodbye</h1>\n",
    "\t\t<ul>\n",
    "\t\t\t<li id=\"highlight\">List Item 1</li>\n",
    "\t\t\t<li class=\"bolded\">List Item 2</li>\n",
    "\t\t\t<li class=\"bolded\">List Item 3</li>\n",
    "\t\t</ul>\n",
    "\t</body>\n",
    "</html>"
   ]
  },
  {
   "cell_type": "code",
   "execution_count": null,
   "metadata": {
    "collapsed": true
   },
   "outputs": [],
   "source": [
    "var tag = document.getElementByld(\"highlight\");\n",
    "\n",
    "tag"
   ]
  },
  {
   "cell_type": "markdown",
   "metadata": {},
   "source": [
    "<a id='12.2'></a>\n",
    "### getElementByClassName: takes a string argument and returns a list of elements that have a matching class"
   ]
  },
  {
   "cell_type": "code",
   "execution_count": null,
   "metadata": {
    "collapsed": true
   },
   "outputs": [],
   "source": [
    "var tags = document.getElementByClassName(\"bolded\");\n",
    "console.log(tags[0]);\n",
    "\n",
    "tags"
   ]
  },
  {
   "cell_type": "markdown",
   "metadata": {},
   "source": [
    "<a id='12.3'></a>\n",
    "### getElementsByTagName: returns a list of all elements of a given tag name, like li or h1"
   ]
  },
  {
   "cell_type": "code",
   "execution_count": null,
   "metadata": {
    "collapsed": true
   },
   "outputs": [],
   "source": [
    "var tags = documents.getElementsByTagName(\"li\");\n",
    "console.log(tags[0]);\n",
    "\n",
    "var tags = documents.getElementsByTagName(\"h1\");\n",
    "console.log(tags[0]);"
   ]
  },
  {
   "cell_type": "markdown",
   "metadata": {},
   "source": [
    "<a id='12.4'></a>\n",
    "### querySelector: returns the first element that matchese a given CSS-style selector"
   ]
  },
  {
   "cell_type": "code",
   "execution_count": null,
   "metadata": {
    "collapsed": true
   },
   "outputs": [],
   "source": [
    "//select by ID\n",
    "var tag = document.querySelector(\"#highlight\");\n",
    "\n",
    "//select by Class\n",
    "var tag = document.querySelector(\".bolded\");\n",
    "\n",
    "//select by tag\n",
    "var tag = document.querySelector(\"h1\");\n",
    "\n",
    "var li = document.querySelector(\"li a.special\")"
   ]
  },
  {
   "cell_type": "markdown",
   "metadata": {},
   "source": [
    "<a id='12.5'></a>\n",
    "### querySelectorAll: returns a list of elements that matches a given CSS-style selector"
   ]
  },
  {
   "cell_type": "code",
   "execution_count": null,
   "metadata": {
    "collapsed": true
   },
   "outputs": [],
   "source": [
    "//select by tag\n",
    "var tags = document.querySelectorAll(\"h1\");\n",
    "\n",
    "//select by class\n",
    "var tags = document.querySelectorAll(\".bolded);\n",
    "\n",
    "var lis = document.querySelectorAll(\"li\");"
   ]
  },
  {
   "cell_type": "raw",
   "metadata": {},
   "source": [
    "<!DOCTYPE html>\n",
    "<html lang=\"en\">\n",
    "<head>\n",
    "\t<meta charset=\"UTF-8\">\n",
    "\t<title>My Title</title>\n",
    "</head>\n",
    "<body>\n",
    "\t<h1>I am an h1!</h1>\n",
    "\t<p id=\"first\" class=\"special\">Hello</p>\n",
    "\t<p class=\"special\">Goodbye</p>\n",
    "\t<p>Hi Again</p>\n",
    "\t<p id=\"last\">Goodbye Again</p>\n",
    "</body>\n",
    "</html>"
   ]
  },
  {
   "cell_type": "markdown",
   "metadata": {},
   "source": [
    "#### select first p tag: <p>"
   ]
  },
  {
   "cell_type": "code",
   "execution_count": null,
   "metadata": {
    "collapsed": true
   },
   "outputs": [],
   "source": [
    "document.getElementByld(\"first\");\n",
    "document.querySelector(\"#first\");\n",
    "\n",
    "document.getElementByClassName(\"special\")[0];\n",
    "document.querySelector(\".special\");\n",
    "document.querySelectorAll(\".special\")[0];\n",
    "\n",
    "document.getElementsByTagName(\"p1\")[0];\n",
    "document.querySelector(\"p\");\n",
    "document.querySelectorAll(\"p\")[0];\n",
    "\n",
    "document.querySelector(\"h1 + p\");"
   ]
  },
  {
   "cell_type": "markdown",
   "metadata": {},
   "source": [
    "<a id='12.6'></a>\n",
    "### DOM Manipulation\n",
    "#### -changing an element's style\n",
    "#### -adding/removing classes\n",
    "#### -changing the content of a tag\n",
    "#### -changing attributes(src, href,etc.)"
   ]
  },
  {
   "cell_type": "markdown",
   "metadata": {},
   "source": [
    "#### Style: the style property is one way to manipulate an element's style"
   ]
  },
  {
   "cell_type": "code",
   "execution_count": null,
   "metadata": {
    "collapsed": true
   },
   "outputs": [],
   "source": [
    "//SELECT\n",
    "var tag = document.getElementById(\"highlight\");\n",
    "\n",
    "//MANIPULATE\n",
    "tag.style.color = \"blue\";\n",
    "tag.style.border = \"10px solid red\";\n",
    "tag.style.fontsize = \"70px\";\n",
    "tag.style.background = \"yellow\";\n",
    "tag.style.marginTop = \"200px\";"
   ]
  },
  {
   "cell_type": "code",
   "execution_count": null,
   "metadata": {
    "collapsed": true
   },
   "outputs": [],
   "source": [
    "var h1 = document.querySelector(\"h1\")\n",
    "h1.style\n",
    "h1.style.color = \"yellow\";\n",
    "h1.style.border = \"5px solid pink\";"
   ]
  },
  {
   "cell_type": "markdown",
   "metadata": {},
   "source": [
    "#### Alternative: rather than directly manipulating sytle with JS, we can define a CSS class and then toggle ir on or off with JS"
   ]
  },
  {
   "cell_type": "code",
   "execution_count": null,
   "metadata": {
    "collapsed": true
   },
   "outputs": [],
   "source": [
    "/*define a class in css*/\n",
    ".some-class {\n",
    "\tcolor: blue;\n",
    "\tborder: 10px solid red;\n",
    "}\n",
    "\n",
    "var tag = document.getElementById(\"highlight\");\n",
    "//Add the new class to the selected element\n",
    "tag.classList.add(\"some-class\");"
   ]
  },
  {
   "cell_type": "markdown",
   "metadata": {},
   "source": [
    "#### classList: a read-only list that contains the classes for a given element. It is not an array"
   ]
  },
  {
   "cell_type": "code",
   "execution_count": null,
   "metadata": {
    "collapsed": true
   },
   "outputs": [],
   "source": [
    "/*define a class in css*/\n",
    ".another-class {\n",
    "\tcolor: purple;\n",
    "\tfontSize: 76px;\n",
    "}"
   ]
  },
  {
   "cell_type": "code",
   "execution_count": null,
   "metadata": {
    "collapsed": true
   },
   "outputs": [],
   "source": [
    "var tag = document.querySelector(\"h1\");\n",
    "\n",
    "//add a class to the selected element\n",
    "tag.classList.add(\"another-class\");\n",
    "\n",
    "//remove a class\n",
    "tag.classList.remmove(\"another-class\");\n",
    "\n",
    "//toggle a class\n",
    "tag.classList.toggle(\"another-class\");"
   ]
  },
  {
   "cell_type": "markdown",
   "metadata": {},
   "source": [
    "<a id='12.7'></a>\n",
    "### Manipulating Text and Content"
   ]
  },
  {
   "cell_type": "raw",
   "metadata": {},
   "source": [
    "textContent: returns a string of all the text contained in a given element\n",
    "\n",
    "<p>\n",
    "\tThis is an <strong>awesome</strong> paragraph\n",
    "</p>"
   ]
  },
  {
   "cell_type": "code",
   "execution_count": null,
   "metadata": {
    "collapsed": true
   },
   "outputs": [],
   "source": [
    "//Select the <p> tag:\n",
    "var tag = document.querySelector(\"p\");"
   ]
  },
  {
   "cell_type": "code",
   "execution_count": null,
   "metadata": {
    "collapsed": true
   },
   "outputs": [],
   "source": [
    "//Retrieve the textContent:\n",
    "tag.textContent //\"This is an awesome paragraph\""
   ]
  },
  {
   "cell_type": "code",
   "execution_count": null,
   "metadata": {
    "collapsed": true
   },
   "outputs": [],
   "source": [
    "//alter the textContent:\n",
    "tag.tetxtContent = \"blah blah blah\";"
   ]
  },
  {
   "cell_type": "code",
   "execution_count": null,
   "metadata": {
    "collapsed": true
   },
   "outputs": [],
   "source": [
    "document.querySelector(\"h1\").textContent = \"END OF THIS LESSON!\""
   ]
  },
  {
   "cell_type": "markdown",
   "metadata": {},
   "source": [
    "#### innerHTML: \n",
    "\n",
    "similar to textContent, except it returns a string of all the HTML contained in a given element"
   ]
  },
  {
   "cell_type": "raw",
   "metadata": {},
   "source": [
    "<p>\n",
    "\tThis is an <strong>awesome</strong> paragraph\n",
    "</p>"
   ]
  },
  {
   "cell_type": "code",
   "execution_count": null,
   "metadata": {
    "collapsed": true
   },
   "outputs": [],
   "source": [
    "//Select the <p> tag:\n",
    "var tag = document.querySelector(\"p\");\n",
    "\n",
    "tag.innerHTML\n",
    "document.body.innerHTML = \"<h1>Goodbye!</h1>\";"
   ]
  },
  {
   "cell_type": "markdown",
   "metadata": {
    "collapsed": true
   },
   "source": [
    "<a id='12.8'></a>\n",
    "### Attributes: \n",
    "\n",
    "use getAttribute() and setAttribute() to read and write attributes like src or href"
   ]
  },
  {
   "cell_type": "code",
   "execution_count": null,
   "metadata": {
    "collapsed": true
   },
   "outputs": [],
   "source": [
    "<a href=\"www.google.com\">I am a link</a>\n",
    "<img src=\"logo.png\">"
   ]
  },
  {
   "cell_type": "code",
   "execution_count": null,
   "metadata": {
    "collapsed": true
   },
   "outputs": [],
   "source": [
    "var link = document.querySelector(\"a\");\n",
    "link.getAttribute(\"href\"); //\"www.google.com\"\n",
    "//CHANGE HREF Attributes\n",
    "link.setAttribute(\"href\",\"www.dogs.com\");\n",
    "///<a href=\"www.dogs.com\">I am a link</a>"
   ]
  },
  {
   "cell_type": "code",
   "execution_count": null,
   "metadata": {
    "collapsed": true
   },
   "outputs": [],
   "source": [
    "//TO CHANGE THE IMAGE SRC\n",
    "var img = document.querySelector(\"mg\");\n",
    "img.setAttribute(\"src\", \"corgi.png\");\n",
    "//<img src=\"corgi.png\">"
   ]
  },
  {
   "cell_type": "markdown",
   "metadata": {},
   "source": [
    "#### In the following lecture, Playing With Google Code Along, you'll be changing the logo on the google website using the src attribute. However, this method no longer works. Instead, use the srcset attribute to change the logo image."
   ]
  },
  {
   "cell_type": "code",
   "execution_count": null,
   "metadata": {
    "collapsed": true
   },
   "outputs": [],
   "source": [
    "var logo = document.querySelector(\"#hplogo\");\n",
    "logo.srcset = \"https://www.eastcottvets.co.uk/uploads/Animals/gingerkitten.jpg\";\n",
    "logo.style.width = \"200px\"\n",
    "logo.style.height = \"100px\"\n",
    "logo.style.border = \"2px solid purple\""
   ]
  },
  {
   "cell_type": "code",
   "execution_count": null,
   "metadata": {
    "collapsed": true
   },
   "outputs": [],
   "source": [
    "var links = document.getElementsByTagName(\"a\");\n",
    "\n",
    "for(var i = 0; i < links.length; i++){\n",
    "\tconsole.log(links[i].tetxtContent);\n",
    "}"
   ]
  },
  {
   "cell_type": "code",
   "execution_count": null,
   "metadata": {
    "collapsed": true
   },
   "outputs": [],
   "source": [
    "var links = document.getElementsByTagName(\"lga\");\n",
    "\n",
    "// 1\n",
    "var links = document.getElementsByTagName(\"a\");\n",
    " \n",
    "// 2\n",
    "links\n",
    " \n",
    "// 3\n",
    "for (var i = 0; i < links.length; i++ ) {\n",
    " console.log(links[i].textContent);\n",
    "}\n",
    "\n",
    "for (var i = 0; i < links.length; i++ ) {\n",
    " links[i].style.background = \"pink\";\n",
    "}\n",
    "\n",
    "for (var i = 0; i < links.length; i++ ) {\n",
    " links[i].style.bordere = \"1px dashed purple\";\n",
    " links[i].style.color = \"orange\";\n",
    "}\n",
    "\n",
    "// 4\n",
    "var arr = Array.from(links);\n",
    " \n",
    "// 5\n",
    "for (var i = 0; i < arr.length; i++ ) {\n",
    " console.log(arr[i].textContent);\n",
    "}"
   ]
  },
  {
   "cell_type": "code",
   "execution_count": null,
   "metadata": {
    "collapsed": true
   },
   "outputs": [],
   "source": [
    "for (var i = 0; i < links.length; i++ ) {\n",
    " console.log(links[i].getAttribute(\"href\"));\n",
    "}"
   ]
  },
  {
   "cell_type": "code",
   "execution_count": null,
   "metadata": {
    "collapsed": true
   },
   "outputs": [],
   "source": [
    "for (var i = 0; i < links.length; i++ ) {\n",
    " links[i].setAttribute(\"href\", \"https://www.bing.com\");\n",
    "}"
   ]
  },
  {
   "cell_type": "markdown",
   "metadata": {},
   "source": [
    "<a id='13'></a>\n",
    "## ADVANCE DOM MANIPULATION"
   ]
  },
  {
   "cell_type": "markdown",
   "metadata": {},
   "source": [
    "**ADVANCE DOM MANIPULATION:**\n",
    "* [Introduction to Events:](#13.0)\n",
    "* [Color Toggle Exercise](#13.1)\n",
    "* [](#13.2)\n",
    "* [](#13.3)\n",
    "* [](#13.4)\n",
    "* [](#13.5)\n",
    "* [](#13.6)\n",
    "* [](#13.7)\n",
    "* [](#13.8)\n",
    "* [](#13.9)\n",
    "* [](#13.10)"
   ]
  },
  {
   "cell_type": "markdown",
   "metadata": {},
   "source": [
    "<a id='13.0'></a>\n",
    "### Introduction to Events:\n",
    "\n",
    "The Process-We select an element and then add an event listener\n",
    "\n",
    "The Syntax: to add a listener, we use a method called addEventListener\n",
    "\n",
    "element.addEventListener(type, functionToCall);"
   ]
  },
  {
   "cell_type": "code",
   "execution_count": null,
   "metadata": {
    "collapsed": true
   },
   "outputs": [],
   "source": [
    "var button = document.querySelector(\"button\");\n",
    "button.addEventListener(\"click\", function() {\n",
    "\tconsole.log(\"SOMEONE CLICKED THE BUTTON!\");\n",
    "});"
   ]
  },
  {
   "cell_type": "markdown",
   "metadata": {},
   "source": [
    "#### An Example: let's display a message when a button is clicked"
   ]
  },
  {
   "cell_type": "markdown",
   "metadata": {},
   "source": [
    "<button>Click Me</button>\n",
    "<p>No One Has Clicked Me Yet</p>"
   ]
  },
  {
   "cell_type": "code",
   "execution_count": null,
   "metadata": {
    "collapsed": true
   },
   "outputs": [],
   "source": [
    "var button = document.querySelector(\"button\");\n",
    "var paragraph = document.querySelector(\"p\");\n",
    "\n",
    "//SETUP CLICK LISTENER\n",
    "button.addEventListener(\"click\", function() {\n",
    "\tparagraph.textContent = \"Someone Clicked the Button!\";\n",
    "});"
   ]
  },
  {
   "cell_type": "code",
   "execution_count": null,
   "metadata": {
    "collapsed": true
   },
   "outputs": [],
   "source": [
    "var h1 = document.querySelector(\"h1\");\n",
    "h1.addEventListener(\"click\",function() {\n",
    "\talert(\"h1 was clicked!\");\n",
    "})\n",
    "\n",
    "h1.addEventListener(\"click\",function() {\n",
    "\th1.style.background = \"orange\";\n",
    "})\n",
    "\n",
    "document.querySelector(\"ul\").addEventListener(\"click\", function(){\n",
    "\tconsole.log(\"YOU CLICKED THE UL!\");\n",
    "});"
   ]
  },
  {
   "cell_type": "code",
   "execution_count": null,
   "metadata": {
    "collapsed": true
   },
   "outputs": [],
   "source": [
    "var lis = document.querySelectorAll(\"li\");\n",
    "\n",
    "for(var i=0; i <lis.length; i++){\n",
    "\tlis[i].addEventListener(\"click\",function(){\n",
    "\t\tthis.style.color = \"pink\";\n",
    "\t});\n",
    "}"
   ]
  },
  {
   "cell_type": "markdown",
   "metadata": {},
   "source": [
    "#### An Example: We could also rewrite it using a named function"
   ]
  },
  {
   "cell_type": "code",
   "execution_count": null,
   "metadata": {
    "collapsed": true
   },
   "outputs": [],
   "source": [
    "var button = document.querySelector(\"button\");\n",
    "var paragraph = document.querySelector(\"p\");\n",
    "\n",
    "function changeText() {\n",
    "\tparagraph.textContent = \"Someone Clicked the Button!\");\n",
    "}\n",
    "\n",
    "button.addEventListener(\"click\", changeText);"
   ]
  },
  {
   "cell_type": "markdown",
   "metadata": {},
   "source": [
    "<a id='13.1'></a>\n",
    "### Color Toggle Exercise"
   ]
  },
  {
   "cell_type": "raw",
   "metadata": {},
   "source": [
    "<!DOCTYPE html>\n",
    "<html>\n",
    "<head>\n",
    "\t<title>Color Change</title>\n",
    "</head>\n",
    "<body>\n",
    "\n",
    "\t<style type=\"text/css\">\n",
    "\tbackground: \"white\";\n",
    "\t</style>\n",
    "\t<h1>Color Change</h1>\n",
    "\t<button>CLICK ME</button>\n",
    "\t<script type=\"text/javascript\" src=\"color_change.js\"></script>\n",
    "\n",
    "</body>\n",
    "</html>"
   ]
  },
  {
   "cell_type": "code",
   "execution_count": null,
   "metadata": {
    "collapsed": true
   },
   "outputs": [],
   "source": [
    "var button = document.querySelector(\"button\");\n",
    "var isPurple = false;\n",
    "\n",
    "//SETUP CLICK LISTENER\n",
    "// button.addEventListener(\"click\", function() {\n",
    "// \tif (isPurple){\n",
    "// \t\tdocument.body.style.background = \"white\";\n",
    "// \t\tisPurple = false;\n",
    "// \t} else {\n",
    "// \t\tdocument.body.style.background = \"purple\";\n",
    "// \t\tisPurple = true\n",
    "// \t}\t\n",
    "// });\n",
    "\n",
    "button.addEventListener(\"click\", function() {\n",
    "\tif (isPurple){\n",
    "\t\tdocument.body.style.background = \"white\";\n",
    "\t} else {\n",
    "\t\tdocument.body.style.background = \"purple\";\n",
    "\t}\t\n",
    "\tisPurple = !isPurple\n",
    "});"
   ]
  },
  {
   "cell_type": "raw",
   "metadata": {
    "collapsed": true
   },
   "source": [
    "<!DOCTYPE html>\n",
    "<html>\n",
    "<head>\n",
    "\t<title>Color Change</title>\n",
    "</head>\n",
    "<body>\n",
    "\n",
    "\t<style type=\"text/css\">\n",
    "\t.purple{\n",
    "\t\tbackground: \"purple\";\n",
    "\t}\n",
    "\t\n",
    "\t</style>\n",
    "\t<h1>Color Change</h1>\n",
    "\t<button>CLICK ME</button>\n",
    "\t<script type=\"text/javascript\" src=\"color_change.js\"></script>\n",
    "\n",
    "</body>\n",
    "</html>"
   ]
  },
  {
   "cell_type": "code",
   "execution_count": null,
   "metadata": {
    "collapsed": true
   },
   "outputs": [],
   "source": [
    "var button = document.querySelector(\"button\");\n",
    "// var isPurple = false;\n",
    "\n",
    "button.addEventListener(\"click\", function() {\n",
    "\tdocument.body.classList.toggle(\"purple\");\n",
    "});"
   ]
  },
  {
   "cell_type": "code",
   "execution_count": null,
   "metadata": {
    "collapsed": true
   },
   "outputs": [],
   "source": []
  },
  {
   "cell_type": "code",
   "execution_count": null,
   "metadata": {
    "collapsed": true
   },
   "outputs": [],
   "source": []
  },
  {
   "cell_type": "code",
   "execution_count": null,
   "metadata": {
    "collapsed": true
   },
   "outputs": [],
   "source": []
  },
  {
   "cell_type": "code",
   "execution_count": null,
   "metadata": {
    "collapsed": true
   },
   "outputs": [],
   "source": []
  },
  {
   "cell_type": "code",
   "execution_count": null,
   "metadata": {
    "collapsed": true
   },
   "outputs": [],
   "source": []
  },
  {
   "cell_type": "code",
   "execution_count": null,
   "metadata": {
    "collapsed": true
   },
   "outputs": [],
   "source": []
  },
  {
   "cell_type": "code",
   "execution_count": null,
   "metadata": {
    "collapsed": true
   },
   "outputs": [],
   "source": []
  },
  {
   "cell_type": "code",
   "execution_count": null,
   "metadata": {
    "collapsed": true
   },
   "outputs": [],
   "source": []
  },
  {
   "cell_type": "code",
   "execution_count": null,
   "metadata": {
    "collapsed": true
   },
   "outputs": [],
   "source": []
  },
  {
   "cell_type": "code",
   "execution_count": null,
   "metadata": {
    "collapsed": true
   },
   "outputs": [],
   "source": []
  },
  {
   "cell_type": "code",
   "execution_count": null,
   "metadata": {
    "collapsed": true
   },
   "outputs": [],
   "source": []
  },
  {
   "cell_type": "code",
   "execution_count": null,
   "metadata": {
    "collapsed": true
   },
   "outputs": [],
   "source": []
  },
  {
   "cell_type": "code",
   "execution_count": null,
   "metadata": {
    "collapsed": true
   },
   "outputs": [],
   "source": []
  },
  {
   "cell_type": "code",
   "execution_count": null,
   "metadata": {
    "collapsed": true
   },
   "outputs": [],
   "source": []
  },
  {
   "cell_type": "code",
   "execution_count": null,
   "metadata": {
    "collapsed": true
   },
   "outputs": [],
   "source": []
  },
  {
   "cell_type": "code",
   "execution_count": null,
   "metadata": {
    "collapsed": true
   },
   "outputs": [],
   "source": []
  },
  {
   "cell_type": "code",
   "execution_count": null,
   "metadata": {
    "collapsed": true
   },
   "outputs": [],
   "source": []
  },
  {
   "cell_type": "code",
   "execution_count": null,
   "metadata": {
    "collapsed": true
   },
   "outputs": [],
   "source": []
  },
  {
   "cell_type": "code",
   "execution_count": null,
   "metadata": {
    "collapsed": true
   },
   "outputs": [],
   "source": []
  },
  {
   "cell_type": "code",
   "execution_count": null,
   "metadata": {
    "collapsed": true
   },
   "outputs": [],
   "source": []
  },
  {
   "cell_type": "code",
   "execution_count": null,
   "metadata": {
    "collapsed": true
   },
   "outputs": [],
   "source": []
  },
  {
   "cell_type": "code",
   "execution_count": null,
   "metadata": {
    "collapsed": true
   },
   "outputs": [],
   "source": []
  },
  {
   "cell_type": "code",
   "execution_count": null,
   "metadata": {
    "collapsed": true
   },
   "outputs": [],
   "source": []
  }
 ],
 "metadata": {
  "kernelspec": {
   "display_name": "Javascript (Node.js)",
   "language": "javascript",
   "name": "javascript"
  },
  "language_info": {
   "file_extension": ".js",
   "mimetype": "application/javascript",
   "name": "javascript",
   "version": "8.11.3"
  }
 },
 "nbformat": 4,
 "nbformat_minor": 2
}
