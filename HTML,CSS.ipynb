{
 "cells": [
  {
   "cell_type": "code",
   "execution_count": null,
   "metadata": {
    "collapsed": true
   },
   "outputs": [],
   "source": []
  },
  {
   "cell_type": "markdown",
   "metadata": {},
   "source": [
    "## HTML"
   ]
  },
  {
   "cell_type": "markdown",
   "metadata": {},
   "source": [
    "**The General Rule**\n",
    "\n",
    "<tagName> Some content </tagName>"
   ]
  },
  {
   "cell_type": "markdown",
   "metadata": {},
   "source": [
    "**Common Tags:**\n",
    "\n",
    "<h1>I'm a header </h1>\n",
    "<h2>I'm a slightly smaller header </h2>\n",
    "<h6>I'm the smallest header </h6>\n",
    "\n",
    "<p>I'm a paragraph</p>\n",
    "\n",
    "<button>I'm a button!</button>\n",
    "\n",
    "<ul>\n",
    "\t<li>List Item 1</li>\n",
    "\t<li>List Item 2</li>\n",
    "</ul>\n",
    "\n",
    "\n",
    "<ol>\n",
    "\t<li>List Item 1</li>\n",
    "\t<li>List Item 2</li>\n",
    "</ol>"
   ]
  },
  {
   "cell_type": "markdown",
   "metadata": {},
   "source": [
    "**Closing tags:**\n",
    "\n",
    "<h1>I need a closing tag </h1>\n",
    "\n",
    "<p>Me too!</p>"
   ]
  },
  {
   "cell_type": "markdown",
   "metadata": {},
   "source": [
    "**Self-closing tags:**\n",
    "\n",
    "<!-- No closing tag or inner text needed -->\n",
    "\n",
    "<img src=\"corgi.png\">\n",
    "\n",
    "<link href=\"style.css\">\n",
    "\n",
    "<!-- Don't worry about what these tags do yet -->"
   ]
  },
  {
   "cell_type": "markdown",
   "metadata": {},
   "source": [
    "**Attributes:**\n",
    "\n",
    "Adding Additional Information To Tags\n",
    "\n",
    "<tag name=\"value\"></tag>\n",
    "\n",
    "Image:\n",
    "<img src=\"corgi.png\">\n",
    "\n",
    "Paragraph:\n",
    "<p class=\"selected\">woof woof</p>\n",
    "\n",
    "Link:\n",
    "<a href=\"www.google.com\">Click me to go to Google</a>\n",
    "\n",
    "<link rel=\"stylesheet\" type=\"text/css\" href=\"style.css\">\n"
   ]
  },
  {
   "cell_type": "markdown",
   "metadata": {},
   "source": [
    "**HTML Boilerplate and Comments:**\n",
    "\n",
    "<!DOCTYPE html>\n",
    "<html>\n",
    "<head>\n",
    "\n",
    "<!-- This is a comment.-->\n",
    "<!-- metadata goes in head -->\n",
    "\n",
    "\t<title>My first page.</title>\n",
    "</head>\n",
    "<body>\n",
    "\n",
    "<!-- content goes in the body -->\n",
    "\t<h1>This is my first tag!!!</h1>\n",
    "\n",
    "</body>\n",
    "</html>\n",
    "\n",
    "\n"
   ]
  },
  {
   "cell_type": "markdown",
   "metadata": {},
   "source": [
    "**Common Tags**\n",
    "\n",
    "<!DOCTYPE html>\n",
    "<html>\n",
    "<head>\n",
    "\n",
    "<!-- This is a comment.-->\n",
    "<!-- metadata goes in head -->\n",
    "\n",
    "\t<title>My first page.</title>\n",
    "</head>\n",
    "<body>\n",
    "\n",
    "<!-- content goes in the body -->\n",
    "\t<h1>This is my first tag!!!</h1>\n",
    "\t<h2>This is an h2!!!</h2>\n",
    "\t<h3>This is an h3!!!</h3>\n",
    "\t<h4>This is an h4!!!</h4>\n",
    "\t<h5>This is an h5!!!</h5>\n",
    "\t<h6>This is an h6!!!</h6>\n",
    "\n",
    "\t<p>This is some text blah blah</p>\n",
    "\t<p>blah blah</p>\n",
    "</body>\n",
    "</html>"
   ]
  },
  {
   "cell_type": "markdown",
   "metadata": {},
   "source": [
    "**Divs & Spans**\n",
    "\n",
    "<!DOCTYPE html>\n",
    "<html>\n",
    "<head>\n",
    "\t<title></title>\n",
    "</head>\n",
    "<body>\n",
    "\n",
    "<div>\n",
    "\n",
    "<h1>fadkkjfndkl</h1>\n",
    "\n",
    "<p>Lorem <span>ipsum dolor sit</span> amet, consectetur adipisicing elit, sed do eiusmod\n",
    "tempor incididunt ut labore et dolore magna aliqua. Ut enim ad minim veniam,\n",
    "quis nostrud exercitation ullamco laboris nisi ut aliquip ex ea commodo\n",
    "consequat. Duis aute irure dolor in reprehenderit in voluptate velit esse\n",
    "cillum dolore eu fugiat nulla pariatur. Excepteur sint occaecat cupidatat non\n",
    "proident, sunt in culpa qui officia deserunt mollit anim id est laborum.</p>\n",
    "\n",
    "</div>\n",
    "\n",
    "Lorem ipsum dolor sit amet, consectetur adipisicing elit, sed do eiusmod\n",
    "tempor incididunt ut labore et dolore magna aliqua. Ut enim ad minim veniam,\n",
    "quis nostrud exercitation ullamco laboris nisi ut aliquip ex ea commodo\n",
    "consequat. Duis aute irure dolor in reprehenderit in voluptate velit esse\n",
    "cillum dolore eu fugiat nulla pariatur. Excepteur sint occaecat cupidatat non\n",
    "proident, sunt in culpa qui officia deserunt mollit anim id est laborum.\n",
    "</body>\n",
    "</html>"
   ]
  },
  {
   "cell_type": "markdown",
   "metadata": {},
   "source": [
    "**Images:**\n",
    "\n",
    "<img src=\"corgi.png\">"
   ]
  },
  {
   "cell_type": "markdown",
   "metadata": {},
   "source": [
    "**Links:**\n",
    "\n",
    "<tagName> Some Content </tagName>\n",
    "\n",
    "<a href=\"url\">Link Text</a>\n",
    "\n",
    "<a  href=\"www.google.com\">Click me to go to Google</a>\n",
    "\n",
    "<a href=\"www.reddit.com\">Click me to go to Reddit</a>\n",
    "\n",
    "<h1>I'm a header </h1>\n",
    "<h2>I'm a slightly smaller header </h2>\n",
    "<h6>I'm the smallest header </h6>\n",
    "\n",
    "<p>I'm a paragraph</p>\n",
    "\n",
    "<button>I'm a button!</button>\n",
    "\n",
    "<ul>\n",
    "\t<li>List Item 1</li>\n",
    "\t<li>List Item 2</li>\n",
    "</ul>\n",
    "\n",
    "\n",
    "<ol>\n",
    "\t<li>List Item 1</li>\n",
    "\t<li>List Item 2</li>\n",
    "</ol>\n",
    "\n",
    "Closing tags:\n",
    "\n",
    "<h1>I need a closing tag </h1>\n",
    "\n",
    "<p>Me too!</p>\n",
    "\n",
    "Self-Closing Tags:\n",
    "\n",
    "<!-- No closing tag or inner text needed -->\n",
    "\n",
    "<img src=\"corgi.png\">\n",
    "\n",
    "<link href=\"style.css\">\n",
    "\n",
    "<!-- Don't worry about what these tags do yet -->"
   ]
  },
  {
   "cell_type": "markdown",
   "metadata": {},
   "source": [
    "<!DOCTYPE html>\n",
    "<html>\n",
    "<head>\n",
    "\t<title>pokemon chart</title>\n",
    "</head>\n",
    "<body>\n",
    "\n",
    "<h2>First Gen Pokemon Chart</h2>\n",
    "\n",
    "</head>\n",
    "<body>\n",
    "<table border=\"1\">\n",
    "<thead>\n",
    "\t<tr>\n",
    "\t\t<th>Image</th>\n",
    "\t\t<th>Name</th>\n",
    "\t\t<th>Type</th>\n",
    "\t\t<th>Evovles to</th>\n",
    "\t</tr>\n",
    "</thead>\n",
    "\n",
    "<tbody>\n",
    "<!-- Bulbaseur -->\n",
    "\t<tr>\n",
    "\t\t<td><img width=\"50\" src=\"http://img4.wikia.nocookie.net/__cb20140328190757/pokemon/images/thumb/2/21/001Bulbasaur.png/200px-001Bulbasaur.png\"></td>\n",
    "\t\t<td>Bulbasaur</td>\n",
    "\t\t<td>Grass/Poison</td>\n",
    "\t\t<td><a href=\"http://pokemon.wikia.com/wiki/Ivysaur\">Ivysaur</a></td>\n",
    "\t\t\n",
    "\t</tr>\n",
    "<!-- Charmander -->\n",
    "\t<tr>\n",
    "\t\t<td><img width=\"50\" src=\"http://img4.wikia.nocookie.net/__cb20140724195345/pokemon/images/thumb/7/73/004Charmander.png/200px-004Charmander.png\"></td>\n",
    "\t\t<td>Charmander</td>\n",
    "\t\t<td>Fire</td>\n",
    "\t\t<td><a href=\"http://pokemon.wikia.com/wiki/Charmeleon\">Charmeleon</a></td>\n",
    "\t</tr>\n",
    "<!-- Squirtle -->\n",
    "\t<tr>\n",
    "\t\t<td><img width=\"50\" src=\"http://img1.wikia.nocookie.net/__cb20140328191525/pokemon/images/thumb/3/39/007Squirtle.png/200px-007Squirtle.png\"></td>\n",
    "\t\t<td>Squirtle</td>\n",
    "\t\t<td>Water</td>\n",
    "\t\t<td><a href=\"http://pokemon.wikia.com/wiki/Wartortle\">Wartortle</a></td>\n",
    "\t</tr>\n",
    "</tbody>\n",
    "</table>\n",
    "\n",
    "</body>\n",
    "</html>"
   ]
  },
  {
   "cell_type": "markdown",
   "metadata": {},
   "source": [
    "## Form Tag"
   ]
  },
  {
   "cell_type": "markdown",
   "metadata": {},
   "source": [
    "<!DOCTYPE html>\n",
    "<html>\n",
    "<head>\n",
    "\t<title>Form Demo</title>\n",
    "</head>\n",
    "<body>\n",
    "\n",
    "<h1>Login</h1>\n",
    "\n",
    "<!-- action - where the form send data to -->\n",
    "<!-- method - what HTTP method (get/post) -->\n",
    "\n",
    "<form action=\"http://wikipedia.org\" method=\"GET\">\n",
    "\t<input name=\"username\" type=\"text\" placeholder=\"username\">\n",
    "\t<input name=\"passwor\td\" type=\"password\" placeholder=\"password\">\n",
    "\t<input type=\"submit\">\n",
    "\t<!-- <button>Submit</button> -->\n",
    "</form>\n",
    "</body>\n",
    "</html>"
   ]
  },
  {
   "cell_type": "markdown",
   "metadata": {},
   "source": [
    "## Form Validations"
   ]
  },
  {
   "cell_type": "markdown",
   "metadata": {},
   "source": [
    "<!DOCTYPE html>\n",
    "<html>\n",
    "<head>\n",
    "\t<title>Form Demo</title>\n",
    "</head>\n",
    "<body>\n",
    "\n",
    "<h1>Login</h1>\n",
    "\n",
    "<!-- action - where the form send data to -->\n",
    "<!-- method - what HTTP method (get/post) -->\n",
    "\n",
    "<form action=\"http://wikipedia.org\" method=\"GET\">\n",
    "\t<label>\n",
    "\t\tUsername:\n",
    "\t<input name=\"username\" type=\"email\" placeholder=\"username\" required>\n",
    "\t</label>\n",
    "\n",
    "\t<label>\n",
    "\t\tPassword:\n",
    "\t<input name=\"passwor\td\" type=\"password\" placeholder=\"password\" required>\n",
    "\t</label>\n",
    "\n",
    "\t<input type=\"submit\">\n",
    "\t<!-- <button>Submit</button> -->\n",
    "\n",
    "</form>\n",
    "\n",
    "<!-- <form action=\"http://www.wikipedia.org\">\n",
    "\t<label for=\"username\">Username:</label>\n",
    "\t<input id=\"username\" name=\"username\" type=\"text\" placeholder=\"username\">\n",
    "\n",
    "\t<label>Password:</label>\n",
    "\t<input id=\"password\" name=\"password\" type=\"password\" placeholder=\"password\">\n",
    "\t\n",
    "\t<input type=\"submit\">\n",
    "</form> -->\n",
    "\n",
    "</body>\n",
    "</html>"
   ]
  },
  {
   "cell_type": "markdown",
   "metadata": {},
   "source": [
    "## Form Exercise"
   ]
  },
  {
   "cell_type": "markdown",
   "metadata": {},
   "source": [
    "<!DOCTYPE html>\n",
    "<html>\n",
    "<head>\n",
    "\t<title>Register</title>\n",
    "</head>\n",
    "<body>\n",
    "\n",
    "<h1>Register</h1>\n",
    "\n",
    "<form >\n",
    "\t<label>\n",
    "\t\tFirst Name:\n",
    "\t<input name=\"first_name\" type=\"text\" placeholder=\"John\" required>\n",
    "\t</label>\n",
    "\t<label>\n",
    "\t\tLast Name:\n",
    "\t<input name=\"last_name\" type=\"text\" placeholder=\"Smith\" required>\n",
    "\t</label>\n",
    "<div>\n",
    "\t<label for=\"Female\">Female:</label>\n",
    "\t<input name=\"gender\" id=\"Female\" type=\"radio\" value=\"female\">\n",
    "\t<label for=\"Male\">Male:</label>\n",
    "\t<input name=\"gender\" id=\"Male\" type=\"radio\" value=\"male\">\n",
    "\t<label for=\"Other\">Other:</label>\n",
    "\t<input name=\"gender\" id=\"Other\" type=\"radio\" value=\"other\">\n",
    "</div>\n",
    "<div>\n",
    "\t<label>\n",
    "\t\tEmail:\n",
    "\t<input name=\"email\" type=\"email\" placeholder=\"your email\" required>\n",
    "\t</label>\n",
    "\n",
    "\t<label>\n",
    "\t\tPassword:\n",
    "\t<input name=\"password\" type=\"password\" placeholder=\"your password\" pattern=\".{5,10}\" rquired title=\"Password must be betweetn 5 and 10 characters\"required>\n",
    "\t</label>\n",
    "</div>\n",
    "<div>\n",
    "\t<p>Birthday:</p>\n",
    "\t<select name=\"Month\">\n",
    "\t\t<option>Month</option>\n",
    "\t\t<option value=1>January</option>\n",
    "\t\t<option value=2>February</option>\n",
    "\t\t<option value=3>March</option>\n",
    "\t</select>\n",
    "\t<select name=\"Day\">\n",
    "\t\t<option>Day</option>\n",
    "\t\t<option value=1>1</option>\n",
    "\t\t<option value=2>2</option>\n",
    "\t\t<option value=3>3</option>\n",
    "\t</select>\n",
    "\t\t<select name=\"Year\">\n",
    "\t\t<option>Year</option>\n",
    "\t\t<option value=2018>2018</option>\n",
    "\t\t<option value=2017>2017</option>\n",
    "\t\t<option value=2016>2016</option>\n",
    "\t</select>\n",
    "</div>\n",
    "<div>\n",
    "\t<label for=\"agreed\">I agree to the terms and conditions: </label>\n",
    "\t<input id=\"agreed\" name=\"agreed\" type=\"checkbox\">\n",
    "</div>\n",
    "\n",
    "\n",
    "\t<input type=\"submit\">\n",
    "\t<!-- <button>Submit</button> -->\n",
    "\n",
    "</form>\n",
    "\n",
    "\n",
    "\n",
    "</body>\n",
    "</html>"
   ]
  },
  {
   "cell_type": "markdown",
   "metadata": {},
   "source": [
    "## CSS:\n",
    "\n",
    "selector {\n",
    "\tproperty: value;\n",
    "\tanotherProperty: value;\n",
    "}\n",
    "\n",
    "/*Make All h1's purple and 56px font*/\n",
    "h1 {\n",
    "\tcolor: purple;\n",
    "\tfont-size: 56px;\n",
    "}\n",
    "\n",
    "/*Give All img's a 3px red border*/\n",
    "\n",
    "img {\n",
    "\tborder-color: red;\n",
    "\tborder-width: 3px;\n",
    "}\n",
    "\n"
   ]
  },
  {
   "cell_type": "markdown",
   "metadata": {},
   "source": [
    "## CSS Colors:\n",
    "\n",
    "colours.neilorangepeal.com\n",
    "\n",
    "#_ _ _ _ _ _ _\n",
    "1st 2#s how much red in the color\n",
    "2nd 2#s how much green in the color\n",
    "3rd 2#s how much blue in the color\n",
    "\n",
    "www.colorpicker.com\n",
    "\n",
    "RGB: 3 channels: Red, Green, & Blue. Each ranges from 0 - 255\n",
    "\n",
    "h1 {\n",
    "\tcolor: rgb(0,255,0);\n",
    "}\n",
    "\n",
    "h2 {\n",
    "\tcolor: rgb(100, 0, 100);\n",
    "}\n",
    "\n",
    "h3 {\n",
    "\tcolor: rgb(11, 99, 150);\n",
    "}\n",
    "\n",
    "RGBA: Just like RGB, but with an alpah(transparency) channel ranges from 0.0 - 1.0\n",
    "\n"
   ]
  },
  {
   "cell_type": "markdown",
   "metadata": {},
   "source": [
    "## Color and Background:\n",
    "use 'color' to set text color and 'background' for background color\n",
    "\n",
    "body {\n",
    "\tbackground: #951516;\n",
    "}\n",
    "\n",
    "div{\n",
    "\tbackground: #3498db;\n",
    "}\n",
    "\n",
    "p{\n",
    "\tcolor: #ecf0f1;\n",
    "}"
   ]
  },
  {
   "cell_type": "markdown",
   "metadata": {},
   "source": [
    "## Selectors Basics Todo list:\n",
    "\n",
    "selector {\n",
    "\tproperty: value;\n",
    "}\n",
    "\n",
    "## todollst.html:\n",
    "\n",
    "<!DOCTYPE html>\n",
    "<html>\n",
    "<head>\n",
    "\t<title>Todo List</title>\n",
    "\t<link rel=\"stylesheet\" type=\"text/css\" href=\"todos.css\">\n",
    "</head>\n",
    "<body>\n",
    "\n",
    "<h1>Todo List</h1>\n",
    "\n",
    "<ul>\n",
    "\t<li class=\"completed\">\n",
    "\t\t<input type=\"checkbox\" checked>\n",
    "\t\tWalk Rusty\n",
    "\t</li>\n",
    "\t<li class=\"completed\" >\n",
    "\t\t<input type=\"checkbox\" checked>\n",
    "\t\tBuy Groceries\n",
    "\t</li>\n",
    "\t<li id=\"special\">\n",
    "\t\t<input type=\"checkbox\">\n",
    "\t\tFinish Recording CSS Videos\n",
    "\t</li>\n",
    "</ul>\n",
    "\n",
    "</body>\n",
    "</html>\n",
    "\n",
    "## todos.css\n",
    "\n",
    "body {\n",
    "\tbackground: orange;\n",
    "}\n",
    "\n",
    "li {\n",
    "\tborder: 2px solid red;\n",
    "}\n",
    "\n",
    "#special{\n",
    "\tbackground: yellow\n",
    "}\n",
    "\n",
    ".completed{\n",
    "\ttext-decoration: line-through;\n",
    "}"
   ]
  },
  {
   "cell_type": "markdown",
   "metadata": {},
   "source": [
    "## More Advanced Selectors:\n",
    "\n",
    "Elements\n",
    "li {\n",
    "}\n",
    "\n",
    "class\n",
    ".hello {\n",
    "}\n",
    "\n",
    "#name {\n",
    "}\n",
    "\n",
    "Star-apply to all elements on the page\n",
    "* {\n",
    "\tborder: 1px solid lightgrey;\n",
    "}\n",
    "\n",
    "Descendant Selector: two or more selectors\n",
    "select everything that has an a tag inside an li that is inside a ul\n",
    "ul li a {\n",
    "\tcolor: red;\n",
    "}\n",
    "\n",
    "Adjacent Selector: sibling\n",
    "\n",
    "h4 + ul{\n",
    "\tborder: 4px solid red;\n",
    "}\n",
    "\n",
    "Attribute Selector\n",
    "\n",
    "a[href=\"http://google.com\"] {\n",
    "\tbackground: blue;\n",
    "}\n",
    "\n",
    "inputp[type=\"text\"] {\n",
    "\tbackground: blue;\n",
    "}\n",
    "\n",
    "nth of type\n",
    "\n",
    "ul:nth-of-type(3){\n",
    "\tbackground: purple;\n",
    "}\n",
    "\n",
    "li:nth-of-type(even){\n",
    "\tbackground: purple;\n",
    "}\n",
    "\n",
    "## DEMO.html:\n",
    "\n",
    "<!DOCTYPE html>\n",
    "<html>\n",
    "<head>\n",
    "\t<title>Selectors Demo</title>\n",
    "\t<link rel=\"stylesheet\" type=\"text/css\" href=\"selectors.css\">\n",
    "</head>\n",
    "<body>\n",
    "\n",
    "<h1>Selector Demo</h1>\n",
    "<a href=\"http://www.google.com\">Click Me For Google</a>\n",
    "\n",
    "<ul>\n",
    "\t<li>Apples</li>\n",
    "\t<li>Oranges</li>\n",
    "\t<li>Bananas</li>\n",
    "</ul>\n",
    "\n",
    "<h4>Popular Sites</h4>\n",
    "\n",
    "<ul>\n",
    "\t<li>Carrots</li>\n",
    "\t<li>Peas</li>\n",
    "\t<li>Asparagus</li>\n",
    "\t\t<li>Carrots</li>\n",
    "\t<li>Peas</li>\n",
    "\t<li>Asparagus</li>\n",
    "\t\t<li>Carrots</li>\n",
    "\t<li>Peas</li>\n",
    "\t<li>Asparagus</li>\n",
    "</ul>\n",
    "\n",
    "<h4>Popular Sites</h4>\n",
    "\n",
    "\n",
    "<ul>\n",
    "\t<li>\n",
    "\t\t<a href=\"http://www.google.com\">Google</a>\n",
    "\t</li>\n",
    "\t<li>\n",
    "\t\t<a href=\"http://www.facebook.com\">Facebook</a>\n",
    "\t</li>\n",
    "\t<li>\n",
    "\t\t<a href=\"http://www.reddit.com\">Reddit</a>\n",
    "\t</li>\n",
    "</ul>\n",
    "\n",
    "</body>\n",
    "</html>\n",
    "\n",
    "## SELECTORS.CSS\n",
    "\n",
    "/*Element*/\n",
    "li {\n",
    "\n",
    "}\n",
    "/*class*/\n",
    ".hello {\n",
    "\n",
    "}\n",
    "/*id*/\n",
    "#name {\n",
    "\n",
    "}\n",
    "\n",
    "/*Star*/\n",
    "\n",
    "* {\n",
    "\tborder: 1px solid lightgrey;\n",
    "}\n",
    "\n",
    "/*Descendant Selector*/\n",
    "\n",
    "li a {\n",
    "\tcolor: red;\n",
    "}\n",
    "\n",
    "/*Adjacent Selector*/\n",
    "\n",
    "h4 + ul {\n",
    "\tborder: 4px solid red;\n",
    "}\n",
    "\n",
    "\n",
    "/*Attribute Selector*/\n",
    "\n",
    "a[href=\"http://www.google.com\"] {\n",
    "\tbackground: blue;\n",
    "}\n",
    "\n",
    "/*nth of type*/\n",
    "\n",
    "li:nth-of-type(odd){\n",
    "\tbackground: purple;\n",
    "}\n"
   ]
  },
  {
   "cell_type": "markdown",
   "metadata": {},
   "source": [
    "## Specificity and the Cascade\n",
    "\n",
    "specificity.keegan.st\n",
    "\n",
    "Type Selectors: least specificity\n",
    "\n",
    "li {\n",
    "}\n",
    "\n",
    "li a{\n",
    "}\n",
    "\n",
    "most specific\n",
    "li+a{\n",
    "}\n",
    "\n",
    "Class, Attribute, and Pseudo-Clas Selectors-10* more specific\n",
    "\n",
    "Class:\n",
    ".hello{\n",
    "}\n",
    "\n",
    "Attribute:\n",
    "input[type=\"text\"]{\n",
    "}\n",
    "\n",
    "Pseudo-Clas Selectors:\n",
    "a:hover\n",
    "\n",
    "input:checked\n",
    "\n",
    "ID Selectors:(most specific)\n",
    "\n",
    "#hello\n"
   ]
  },
  {
   "cell_type": "markdown",
   "metadata": {},
   "source": [
    "## Selectors Practice Exercise\n",
    "\n",
    "**CSS Code:**\n",
    "\n",
    "/* Style the HTML elements according to the following instructions. \n",
    "DO NOT ALTER THE EXISTING HTML TO DO THIS.  WRITE ONLY CSS!\n",
    "\n",
    "/* Give the <body> element a background of #bdc3c7*/\n",
    "body {\n",
    "\tbackground: #bdc3c7;\n",
    "}\n",
    "\n",
    "/* Make the <h1> element #9b59b6*/\n",
    "h1 {\n",
    "\tcolor: #9b59b6;\n",
    "}\n",
    "\n",
    "/* Make all <h2> elements orange */\n",
    "h2 {\n",
    "\tcolor: orange;\n",
    "}\n",
    "\n",
    "/* Make all <li> elements blue(pick your own hexadecimal blue)*/ \n",
    "li {\n",
    "\tcolor: #0000ff;\n",
    "}\n",
    "\n",
    "/*Change the background on every paragraph to be yellow*/\n",
    "p {\n",
    "\tbackground: yellow;\n",
    "}\n",
    "\n",
    "/*Make all inputs have a 3px red border*/\n",
    "input {\n",
    "\tborder: 3px solid red ;\n",
    "}\n",
    "\n",
    "/* Give everything with the class 'hello' a white background*/\n",
    ".hello {\n",
    "\tbackground: white;\n",
    "}\n",
    "\n",
    "/* Give the element with id 'special' a 2px solid blue border(pick your own rgb blue)*/\n",
    "#special {\n",
    "\tborder: 2px solid rgb(0,100,200);\n",
    "}\n",
    "\n",
    "/*Make all the <p>'s that are nested inside of divs 25px font(font-size: 25px)*/\n",
    "div p {\n",
    "\tfont-size: 25px;\n",
    "}\n",
    "\n",
    "/*Make only inputs with type 'text' have a gray background*/\n",
    "input[type=\"text\"] {\n",
    "\tbackground: gray;\n",
    "}\n",
    "\n",
    "/* Give both <p>'s inside the 3rd <div> a pink background*/\n",
    "div:nth-of-type(3) p{\n",
    "\tbackground: pink;\n",
    "}\n",
    "\n",
    "/* Give the 2nd <p> inside the 3rd <div> a 5px white border*/\n",
    "div:nth-of-type(3) p:nth-of-type(2){\n",
    "\tborder: 5px solid white;\n",
    "}\n",
    "\n",
    "/* Make the <em> in the 3rd <div> element white and 20px font(font-size:20px)*/\n",
    "div:nth-of-type(3) em{\n",
    "\tcolor: white;\n",
    "\tfont-size:20px;\n",
    "}\n",
    "\n",
    "\n",
    "/*BONUS CHALLENGES*/\n",
    "/*You may need to research some other selectors and properties*/\n",
    "\n",
    "/*Make all \"checked\" checkboxes have a left margin of 50px(margin-left: 50px)*/\n",
    "input:checked{\n",
    "\tmargin-left: 50px\n",
    "}\n",
    "\n",
    "/* Make the <label> elements all UPPERCASE without changing the HTML(definitely look this one up*/\n",
    "label {\n",
    "\ttext-transform: uppercase;\n",
    "}\n",
    "\n",
    "/*Make the first letter of the element with id 'special' green and 100px font size(font-size: 100)*/\n",
    "#special:first-letter{\n",
    "\tcolor: green;\n",
    "\tfont-size: 100px;\n",
    "}\n",
    "\n",
    "/*Make the <h1> element's color change to blue when hovered over */\n",
    "\n",
    "h1:hover {\n",
    "\tcolor:blue;\n",
    "} \n",
    "\n",
    "/*Make the <a> element's that have been visited gray */\n",
    "a:visited {\n",
    "\tcolor:gray;\n",
    "}\n",
    "\n",
    "**HTML:**\n",
    "<html>\n",
    "<head>\n",
    "  <meta charset=\"UTF-8\">\n",
    "  <title>Selectors Exercise</title>\n",
    "  <link rel=\"stylesheet\" type=\"text/css\" href=\"selectors.css\">\n",
    "</head>\n",
    "<body>\n",
    "  <h1>Selectors Exercise</h1>\n",
    "\n",
    "<p>PARAGRAPH NOT INSIDE A DIV</p>\n",
    "\n",
    "<div>\n",
    "  <p class=\"hello\">I am a paragraph with a class</p>\n",
    "  <p id=\"special\">I am a paragraph with an ID</p>\n",
    "\n",
    "  <h2>I am an awesome h2</h2>\n",
    "  \n",
    "  \n",
    "  <p>Roof party yr hella synth, Wes Anderson narwhal four dollar toast before they sold out retro lo-fi. Austin iPhone pop-up farm-to-table, PBR&B McSweeney's ennui messenger bag distillery before they sold out Portland wolf fanny pack YOLO. Locavore slow-carb trust fund farm-to-table. Pinterest gastropub lo-fi, McSweeney's trust fund VHS shabby chic ugh Austin twee. Messenger bag banjo lumbersexual, whatever 3 wolf moon XOXO normcore. Pug fanny pack 3 wolf moon, typewriter organic chia mustache scenester seitan shabby chic Blue Bottle salvia ugh iPhone. Fanny pack Williamsburg direct trade, cold-pressed disrupt flannel listicle health goth asymmetrical freegan mixtape street art pour-over whatever.</p>\n",
    "\n",
    "</div>\n",
    "\n",
    "<div>\n",
    "  <h2>Things I need to do</h2>\n",
    "\n",
    "  <ul>\n",
    "    <li>Walk Dog <input type=\"checkbox\" checked> </li>\n",
    "    <li>Feed Dog <input type=\"checkbox\" checked> </li>\n",
    "    <li>Wash Dog <input type=\"checkbox\"></li>\n",
    "  </ul>\n",
    "</div>\n",
    "\n",
    "<div>\n",
    "  <h2>I am another awesome h2</h2>\n",
    "\n",
    "  <p>Cardigan Tumblr mlkshk, fap tilde 3 wolf moon Portland. Heirloom health goth taxidermy blog lo-fi selfies, post-ironic master cleanse fingerstache normcore. Kickstarter plaid twee, bespoke single-origin coffee sustainable lo-fi vinyl Pinterest pork belly <em>cronut skateboard</em> 3 wolf moon. Normcore single-origin coffee salvia, bespoke Austin swag Godard before they sold out kogi disrupt locavore. Lumbersexual Shoreditch Vice, artisan American Apparel master cleanse yr salvia vegan. Bespoke letterpress heirloom kale chips deep v four loko. Lomo sustainable put a bird on it trust fund post-ironic</p>\n",
    "\n",
    "  <p>I'm the second paragraph inside this div!</p>\n",
    "</div>\n",
    "\n",
    "<p>PARAGRAPH NOT INSIDE A DIV</p>\n",
    "\n",
    "\n",
    "<div>\n",
    "  <h2>A less awesome h2</h2>\n",
    "\n",
    "  <p>Roof party yr hella synth, Wes Anderson narwhal four dollar toast before they sold out retro lo-fi. Austin iPhone pop-up farm-to-table, PBR&B McSweeney's ennui messenger bag distillery before they sold out Portland wolf fanny pack YOLO. Locavore slow-carb trust fund farm-to-table. Pinterest gastropub lo-fi, McSweeney's trust fund VHS shabby chic ugh Austin twee. Messenger bag banjo lumbersexual, whatever 3 wolf moon XOXO normcore. Pug fanny pack 3 wolf moon, typewriter organic chia mustache scenester seitan shabby chic Blue Bottle salvia ugh iPhone. Fanny pack Williamsburg direct trade, cold-pressed disrupt flannel listicle health goth asymmetrical freegan mixtape street art pour-over whatever</p>\n",
    "\n",
    "  <p>One last paragraph here!</p>\n",
    "\n",
    "  <a href=\"http://www.facebook.com\">I am a link to facebook</a>\n",
    "  <a href=\"http://www.facebook.com\">I am another link to facebook</a>\n",
    "  <br>\n",
    "\n",
    "  <input type=\"text\" name=\"name\" /><label> Name</label><br/>\n",
    "  <input type=\"password\" name=\"password\" /><label> Password</label><br/>\n",
    "\n",
    "</div>\n",
    "\n",
    "<p>PARAGRAPH NOT INSIDE A DIV</p>\n",
    "\n",
    "</body>\n",
    "</html>"
   ]
  },
  {
   "cell_type": "markdown",
   "metadata": {},
   "source": [
    "## Useful Built-In Methods"
   ]
  },
  {
   "cell_type": "code",
   "execution_count": null,
   "metadata": {
    "collapsed": true
   },
   "outputs": [],
   "source": [
    "clear() /clears console"
   ]
  },
  {
   "cell_type": "code",
   "execution_count": null,
   "metadata": {
    "collapsed": true
   },
   "outputs": [],
   "source": [
    "alert(\"Hello there!!\");\n",
    "alert(123456);\n",
    "alert(198 * 345);"
   ]
  },
  {
   "cell_type": "code",
   "execution_count": null,
   "metadata": {
    "collapsed": true
   },
   "outputs": [],
   "source": [
    "console.log(\"hello from the console!\");"
   ]
  },
  {
   "cell_type": "code",
   "execution_count": null,
   "metadata": {
    "collapsed": true
   },
   "outputs": [],
   "source": [
    "var userName = prompt(\"what is your name?\");"
   ]
  },
  {
   "cell_type": "code",
   "execution_count": null,
   "metadata": {
    "collapsed": true
   },
   "outputs": [],
   "source": [
    "<!DOCTYPE html>\n",
    "<html>\n",
    "<head>\n",
    "\t<title>Script Demo</title>\n",
    "\t<script src=\"script.js\"></script>\n",
    "</head>\n",
    "<body>\n",
    "<h1>Including JS Files</h1>\n",
    "\n",
    "</body>\n",
    "<html>\t"
   ]
  },
  {
   "cell_type": "markdown",
   "metadata": {},
   "source": [
    "https://baconipsum.com/\n",
    "https://www.cssfontstack.com/\n",
    "\n",
    "Text and Fonts:\n",
    "\n",
    "fonts.html:\n",
    "\n",
    "<!DOCTYPE html>\n",
    "<html>\n",
    "<head>\n",
    "\t<title>Fonts</title>\n",
    "\t<link rel=\"stylesheet\" type=\"text/css\" href=\"styles.css\">\n",
    "\t<link href=\"https://fonts.googleapis.com/css?family=Roboto|Shrikhand\" rel=\"stylesheet\">\n",
    "</head>\n",
    "<body>\n",
    "\n",
    "<h1>Fonts Demo Page</h1>\n",
    "\n",
    "khjkjljlkjl;j jlkjlkjk\n",
    "\n",
    "<p>Bacon ipsum dolor amet doner landjaeger flank buffalo boudin venison, brisket beef ribs meatloaf ground round shankle spare ribs bresaola kevin. Venison tail chicken salami, swine sirloin rump <span>strip steak</span> pork loin pork ground round meatball fatback burgdoggen. Flank shankle short loin leberkas pork belly shank frankfurter, brisket swine. Shankle pig tail pork chop turkey, ham alcatra andouille t-bone short loin salami. Bacon frankfurter alcatra tail, shoulder meatball porchetta kevin rump andouille chicken boudin.\n",
    "</p>\n",
    "\n",
    "<p>\n",
    "Cupim bacon hamburger, corned beef swine buffalo picanha chicken flank spare ribs meatball sirloin biltong. Landjaeger turkey chuck t-bone beef prosciutto shoulder cow turducken frankfurter. Filet mignon porchetta boudin flank meatball kevin. Cow ham short ribs tenderloin jerky, jowl ball tip cupim alcatra bresaola capicola brisket. Sirloin leberkas buffalo swine, rump picanha meatloaf burgdoggen hamburger corned beef jerky. Prosciutto rump tenderloin hamburger venison. Short ribs pig spare ribs sausage brisket ribeye prosciutto boudin pork belly.</p>\n",
    "\n",
    "</body>\n",
    "</html>\n",
    "\n",
    "style.css:\n",
    "\n",
    "/*font-family*/\n",
    "\n",
    "\n",
    "p {\n",
    "\tfont-family: Shrikhand;\n",
    "}\n",
    "\n",
    "h1 {\n",
    "\tfont-family: Roboto;\n",
    "}\n",
    "\n",
    "/*font-size*/\n",
    "\n",
    "body {\n",
    "\tfont-size: 10px\n",
    "}\n",
    "\n",
    "h1 {\n",
    "\tfont-size: 5.0em;\n",
    "}\n",
    "\n",
    "p {\n",
    "\tfont-size: 2.0em;\n",
    "}\n",
    "\n",
    "span {\n",
    "\tfont-size: 2.0em /*relative size*/\n",
    "}\n",
    "\n",
    "/*font-weight*/\n",
    "\n",
    "p{\n",
    "\tfont-weight: bold;\n",
    "}\n",
    "\n",
    "/*line-height*/\n",
    "\n",
    "p {\n",
    "\tline-height: 1.5;\n",
    "}\n",
    "\n",
    "/*text-align*/\n",
    "\n",
    "h1 {\n",
    "\ttext-align: right;\n",
    "}\n",
    "\n",
    "p {\n",
    "\ttext-align: center;\n",
    "}\n",
    "\n",
    "/*text-decoration*/\n",
    "\n",
    "p {\n",
    "\ttext-decoration: underline;\n",
    "}\n",
    "\n",
    "h1 {\n",
    "\ttext-decoration: line-through;\n",
    "}"
   ]
  },
  {
   "cell_type": "markdown",
   "metadata": {},
   "source": [
    "Intro to Box Model:\n",
    "-content\n",
    "-padding\n",
    "-border\n",
    "-margin\n",
    "\n",
    "boxmodel.html\n",
    "\n",
    "<!DOCTYPE html>\n",
    "<html>\n",
    "<head>\n",
    "\t<title>Box Model</title>\n",
    "\t<link rel=\"stylesheet\" type=\"text/css\" href=\"style.css\">\n",
    "</head>\n",
    "<body>\n",
    "<p>I am a paragraph</p>\n",
    "<p>I am a paragraph</p>\n",
    "</body>\n",
    "</html>\n",
    "\n",
    "style.css:\n",
    "\n",
    "p {\n",
    "/*Content - Width and Heights*/\n",
    "\n",
    "/*width: 200px;*/\n",
    "width: 50%;\n",
    "/*height: 300px;*/\n",
    "\n",
    "/*Borders*/\n",
    "\n",
    "border: 2px solid blue;\n",
    "\n",
    "/*Paddings*/\n",
    "\n",
    "/*padding: 10px;*/\n",
    "/*padding-right: 40px;*/\n",
    "padding-left: 40px;\n",
    "\n",
    "/*Margin*/\n",
    "/*margin: 100px;*/\n",
    "/*margin-top: 500px;*/\n",
    "/*margin: 20px, 40px, 500px, 100px; /*top, right, bottom, left*/*/\n",
    "margin: 0 auto 0 auto;\n",
    "}"
   ]
  },
  {
   "cell_type": "markdown",
   "metadata": {},
   "source": [
    "## Blog:\n",
    "\n",
    "https://css-tricks.com/examples/hrs/\n",
    "\n",
    "**Blog.html:**\n",
    "\n",
    "<!DOCTYPE html>\n",
    "<html>\n",
    "<head>\n",
    "\t<title>Blog</title>\n",
    "\n",
    "\t<link href=\"https://fonts.googleapis.com/css?family=Source+Sans+Pro:400,700\" rel=\"stylesheet\">\n",
    "\n",
    "\t<link rel=\"stylesheet\" type=\"text/css\" href=\"blog.css\">\n",
    "\n",
    "</head>\n",
    "<body>\n",
    "\n",
    "<div class=\"post\">\n",
    "\n",
    "\t<div class=\"date\">November 23 2015  </div>\n",
    "\t\n",
    "\t<h2>This Is My First Article</h2>\n",
    "\n",
    "\t<p class=\"quote\">Shoulder swine beef ribs strip steak bacon hamburger pancetta venison pig shankle buffalo jerky capicola pork doner. Boudin ribeye pancetta fatback shoulder bresaola leberkas landjaeger pork sausage burgdoggen. Pig boudin cow picanha. Sausage leberkas tail pork chop, shankle swine corned beef beef ribs sirloin bacon boudin strip steak. Strip steak kevin shank, jowl pig tri-tip flank. Salami kielbasa rump sirloin capicola leberkas. Pork chop hamburger landjaeger tri-tip tail flank.</p>\n",
    "\n",
    "\t<p>Bacon ipsum dolor amet cupim short loin bacon biltong leberkas, pancetta ground round landjaeger ham alcatra pork belly cow. Pork loin picanha pork doner t-bone. Tenderloin cow salami, pork loin andouille shankle ribeye. Tri-tip prosciutto ribeye chicken flank landjaeger pork chop sausage picanha venison kevin salami swine shoulder meatball. Ribeye pork chop rump chicken ground round shoulder. Leberkas ball tip porchetta pork loin, short loin drumstick chuck bacon bresaola biltong filet mignon short ribs andouille.</p>\n",
    "\n",
    "\t<p>Spare ribs porchetta leberkas turducken cow, shankle pancetta fatback pig filet mignon chuck. Pig kielbasa ribeye jowl ham meatball bresaola bacon. Short ribs beef ribs flank, pork loin t-bone tail sausage ham hock boudin alcatra meatloaf kevin. Venison kevin picanha hamburger chuck, ribeye meatball andouille short loin fatback bacon porchetta short ribs. Tenderloin alcatra drumstick porchetta beef andouille.</p>\n",
    "\n",
    "\t<hr>\n",
    "</div>\n",
    "\n",
    "\n",
    "\n",
    "<div class=\"post\">\n",
    "\t<div class=\"date\">December 11, 2015</div>\n",
    "\n",
    "\t<h2>This is another article</h2>\n",
    "\n",
    "\t<p class=\"quote\">\n",
    "\t\tShoulder swine beef ribs strip steak bacon hamburger pancetta venison pig shankle buffalo jerky capicola pork doner. Boudin ribeye pancetta fatback shoulder bresaola leberkas landjaeger pork sausage burgdoggen. Pig boudin cow picanha. Sausage leberkas tail pork chop, shankle swine corned beef beef ribs sirloin bacon boudin strip steak. Strip steak kevin shank, jowl pig tri-tip flank. Salami kielbasa rump sirloin capicola leberkas. Pork chop hamburger landjaeger tri-tip tail flank.\n",
    "\t</p>\n",
    "\n",
    "\t<p>Bacon ipsum dolor amet cupim short loin bacon biltong leberkas, pancetta ground round landjaeger ham alcatra pork belly cow. Pork loin picanha pork doner t-bone. Tenderloin cow salami, pork loin andouille shankle ribeye. Tri-tip prosciutto ribeye chicken flank landjaeger pork chop sausage picanha venison kevin salami swine shoulder meatball. Ribeye pork chop rump chicken ground round shoulder. Leberkas ball tip porchetta pork loin, short loin drumstick chuck bacon bresaola biltong filet mignon short ribs andouille.</p>\n",
    "\n",
    "\t<p>Spare ribs porchetta leberkas turducken cow, shankle pancetta fatback pig filet mignon chuck. Pig kielbasa ribeye jowl ham meatball bresaola bacon. Short ribs beef ribs flank, pork loin t-bone tail sausage ham hock boudin alcatra meatloaf kevin. Venison kevin picanha hamburger chuck, ribeye meatball andouille short loin fatback bacon porchetta short ribs. Tenderloin alcatra drumstick porchetta beef andouille.</p>\n",
    "\n",
    "</div>\n",
    "\n",
    "</body>\n",
    "</html>\n",
    "\n",
    "**blog.css:**\n",
    "\n",
    "body {\n",
    "\tborder: 20px solid #bdc3c7;\n",
    "\tpadding: 20px;\n",
    "\tmax-width: 700px;\n",
    "\twidth: 80%;\n",
    "\tmargin: 20px auto;\n",
    "\tfont-family: Source Sans Pro;\n",
    "}\n",
    "\n",
    ".quote {\n",
    "\tborder-left: 5px solid #bdc3c7;\n",
    "\tpadding-left: 5px;\n",
    "}\n",
    "\n",
    ".date{\n",
    "\tcolor: #3498db;\n",
    "\ttext-transform: uppercase;\n",
    "\tletter-spacing: .2rem;\n",
    "}\n",
    "\n",
    "h2 {\n",
    "\tcolor: #2c3e50;\n",
    "\tfont-size: 2.0rem;\n",
    "}\n",
    "\n",
    "\n",
    "hr {\n",
    "    border: 0;\n",
    "    height: 1px;\n",
    "    background-image: linear-gradient(to right, rgba(0, 0, 0, 0), rgba(0, 0, 0, 0.75), rgba(0, 0, 0, 0));\n",
    "}\n",
    "\n",
    ".post {\n",
    "\tmargin-bottom: 20px;\n",
    "}"
   ]
  },
  {
   "cell_type": "markdown",
   "metadata": {},
   "source": [
    "## Forms & Inputs:\n",
    "\n",
    "**Basic.html:\n",
    "<!DOCTYPE html>\n",
    "<html>\n",
    "<head>\n",
    "\t<title>Bootstrap Basics</title>\n",
    "\t<link rel=\"stylesheet\" type=\"text/css\" href=\"bootstrap.css\">\n",
    "\t<style type=\"text/css\">\n",
    "\t\t.btn-danger {\n",
    "\t\t\tbackground: orange;\n",
    "\t\t}\n",
    "\t</style>\n",
    "</head>\n",
    "<body>\n",
    "\n",
    "\n",
    "\n",
    "<div class=\"container\">\n",
    "\t<div class=\"jumbotron\">\n",
    "\t\t<h1>This is a jumbotron</h1>\n",
    "\t\t<p>afjdlafjdlakfjdk fjdlskfjd dflkjadkfjdl dlafjdlkfj fldkfjdlk nlfkdjlkf ljkjkl</p>\n",
    "\t\t<button class=\"btn btn-success btn-lg\">Hi there</button>\n",
    "\t</div>\n",
    "\n",
    "\t<h1>Bootstrap Basics</h1>\n",
    "<button class=\"btn btn-danger btn-xs\">CLICK ME</button>\n",
    "<button class=\"btn btn-success btn-xs active\">CLICK ME</button>\n",
    "<button class=\"btn btn-success btn-xs disabled = \"disabled\">CLICK ME</button>\n",
    "\n",
    "<a href=\"http://www.getboostrap.com\" class=\"btn btn-info btn-lg\">Boostrap Docs</a>\n",
    "\n",
    "<form>\n",
    "  <div class=\"form-group\">\n",
    "    <label for=\"exampleInputEmail1\">Email address</label>\n",
    "    <input type=\"email\" class=\"form-control\" id=\"exampleInputEmail1\" placeholder=\"Email\">\n",
    "  </div>\n",
    "  <div class=\"form-group\">\n",
    "    <label for=\"exampleInputPassword1\">Password</label>\n",
    "    <input type=\"password\" class=\"form-control\" id=\"exampleInputPassword1\" placeholder=\"Password\">\n",
    "  </div>\n",
    "  <div class=\"form-group\">\n",
    "    <label for=\"exampleInputFile\">File input</label>\n",
    "    <input type=\"file\" id=\"exampleInputFile\">\n",
    "    <p class=\"help-block\">Example block-level help text here.</p>\n",
    "  </div>\n",
    "  <div class=\"checkbox\">\n",
    "    <label>\n",
    "      <input type=\"checkbox\"> Check me out\n",
    "    </label>\n",
    "  </div>\n",
    "  <button type=\"submit\" class=\"btn btn-default\">Submit</button>\n",
    "</form>\n",
    "\n",
    "</div>\n",
    "\n",
    "\n",
    "</body>\n",
    "</html>\n"
   ]
  },
  {
   "cell_type": "code",
   "execution_count": null,
   "metadata": {
    "collapsed": true
   },
   "outputs": [],
   "source": []
  },
  {
   "cell_type": "code",
   "execution_count": null,
   "metadata": {
    "collapsed": true
   },
   "outputs": [],
   "source": []
  },
  {
   "cell_type": "code",
   "execution_count": null,
   "metadata": {
    "collapsed": true
   },
   "outputs": [],
   "source": []
  },
  {
   "cell_type": "code",
   "execution_count": null,
   "metadata": {
    "collapsed": true
   },
   "outputs": [],
   "source": []
  },
  {
   "cell_type": "code",
   "execution_count": null,
   "metadata": {
    "collapsed": true
   },
   "outputs": [],
   "source": []
  },
  {
   "cell_type": "code",
   "execution_count": null,
   "metadata": {
    "collapsed": true
   },
   "outputs": [],
   "source": []
  },
  {
   "cell_type": "code",
   "execution_count": null,
   "metadata": {
    "collapsed": true
   },
   "outputs": [],
   "source": []
  },
  {
   "cell_type": "code",
   "execution_count": null,
   "metadata": {
    "collapsed": true
   },
   "outputs": [],
   "source": []
  },
  {
   "cell_type": "code",
   "execution_count": null,
   "metadata": {
    "collapsed": true
   },
   "outputs": [],
   "source": []
  },
  {
   "cell_type": "markdown",
   "metadata": {},
   "source": [
    "## Variables"
   ]
  },
  {
   "cell_type": "code",
   "execution_count": null,
   "metadata": {
    "collapsed": true
   },
   "outputs": [],
   "source": [
    "//Variables are simply the containers that store values\n",
    "//They follow this pattern:\n",
    "var yourVariableName = yourValue;\n",
    "\n"
   ]
  },
  {
   "cell_type": "code",
   "execution_count": 2,
   "metadata": {
    "collapsed": true
   },
   "outputs": [],
   "source": [
    "//They can store all of the values we've seen\n",
    "var name = \"Rusty\";\n",
    "var secretName = 73;\n",
    "var isAdorable = true;"
   ]
  },
  {
   "cell_type": "code",
   "execution_count": 5,
   "metadata": {},
   "outputs": [
    {
     "data": {
      "text/plain": [
       "'hello there Rusty'"
      ]
     },
     "execution_count": 5,
     "metadata": {},
     "output_type": "execute_result"
    }
   ],
   "source": [
    "//Recall the stored value by calling the variable name\n",
    "var name = \"Rusty\";\n",
    "\"hello there \" + name"
   ]
  },
  {
   "cell_type": "code",
   "execution_count": 6,
   "metadata": {},
   "outputs": [
    {
     "data": {
      "text/plain": [
       "50"
      ]
     },
     "execution_count": 6,
     "metadata": {},
     "output_type": "execute_result"
    }
   ],
   "source": [
    "var num = 37;\n",
    "num + 3 + 10"
   ]
  },
  {
   "cell_type": "code",
   "execution_count": 7,
   "metadata": {},
   "outputs": [
    {
     "data": {
      "text/plain": [
       "'Bob'"
      ]
     },
     "execution_count": 7,
     "metadata": {},
     "output_type": "execute_result"
    }
   ],
   "source": [
    "//We can also update existing variables\n",
    "var name = \"Robert\";\n",
    "name = \"Bob\";"
   ]
  },
  {
   "cell_type": "markdown",
   "metadata": {},
   "source": [
    "## Null and Undefined"
   ]
  },
  {
   "cell_type": "code",
   "execution_count": 8,
   "metadata": {
    "collapsed": true
   },
   "outputs": [],
   "source": [
    "//The two other primitives are null and undefined\n",
    "\n",
    "//Variables that are declared but not \n",
    "//initialized are undefined\n",
    "//The following variables are undefined:\n",
    "var name;\n",
    "var age;"
   ]
  },
  {
   "cell_type": "code",
   "execution_count": 9,
   "metadata": {},
   "outputs": [
    {
     "data": {
      "text/plain": [
       "null"
      ]
     },
     "execution_count": 9,
     "metadata": {},
     "output_type": "execute_result"
    }
   ],
   "source": [
    "//null is \"explicitly nothin\"\n",
    "var currentPlayer = \"charlie\";\n",
    "currentPlayer = null;"
   ]
  },
  {
   "cell_type": "markdown",
   "metadata": {},
   "source": [
    "## Writing JavaScript in a Separate File\n",
    "\n",
    "console.log(\"text\"): print something to the console\n",
    "prompt(\"text\"): ask user for input\n",
    "alert(\"text\"): pop up text"
   ]
  },
  {
   "cell_type": "markdown",
   "metadata": {},
   "source": [
    "## Age Calculator\n",
    "\n",
    "**age_calc.html\n",
    "\n",
    "<!DOCTYPE html>\n",
    "<html>\n",
    "<head>\n",
    "\t<title>Age Calculator</title>\n",
    "\t<script type=\"text/javascript\" src=\"calc.js\"></script>\n",
    "</head>\n",
    "<body>\n",
    "\n",
    "<h1>Age Calculator</h1>\n",
    "\n",
    "<h3>Enter your age and find out how many days you've been alive</h3>\n",
    "\n",
    "</body>\n",
    "</html>\n",
    "\n",
    "**calc.js\n",
    "\n",
    "var age = prompt(\"How old are you\");\n",
    "var days = age*365.25;\n",
    "alert(age + \" years is roughly \" + days + \" days\");"
   ]
  },
  {
   "cell_type": "markdown",
   "metadata": {},
   "source": [
    "Javascript Basics: Control Flow\n",
    "\n",
    "Boolean Logic:\n",
    "== value\n",
    "=== value & type\n",
    "\n",
    "Logical Operators:\n",
    "&& AND\n",
    "|| OR\n",
    "\n",
    "Falsy Values:\n",
    "-false\n",
    "-0\n",
    "-\"\"\n",
    "null\n",
    "-undefined\n",
    "-NAN"
   ]
  },
  {
   "cell_type": "markdown",
   "metadata": {},
   "source": [
    "Conditionals:\n",
    "if\n",
    "else if\n",
    "else"
   ]
  },
  {
   "cell_type": "code",
   "execution_count": 3,
   "metadata": {},
   "outputs": [
    {
     "name": "stdout",
     "output_type": "stream",
     "text": [
      "count is: 1\n",
      "count is: 2\n",
      "count is: 3\n",
      "count is: 4\n",
      "count is: 5\n"
     ]
    },
    {
     "data": {
      "text/plain": [
       "6"
      ]
     },
     "execution_count": 3,
     "metadata": {},
     "output_type": "execute_result"
    }
   ],
   "source": [
    "// While Loops:\n",
    "\n",
    "var count = 1;\n",
    "\n",
    "while(count <6) {\n",
    "\tconsole.log(\"count is: \" + count);\n",
    "\tcount+=1;\n",
    "}"
   ]
  },
  {
   "cell_type": "code",
   "execution_count": 2,
   "metadata": {},
   "outputs": [
    {
     "name": "stdout",
     "output_type": "stream",
     "text": [
      "h\n",
      "e\n",
      "l\n",
      "l\n",
      "o\n"
     ]
    },
    {
     "data": {
      "text/plain": [
       "5"
      ]
     },
     "execution_count": 2,
     "metadata": {},
     "output_type": "execute_result"
    }
   ],
   "source": [
    "var str = \"hello\";\n",
    "var count = 0;\n",
    "\n",
    "while(count < str.length) {\n",
    "\tconsole.log(str[count]);\n",
    "\tcount +=1;\n",
    "}"
   ]
  },
  {
   "cell_type": "code",
   "execution_count": 4,
   "metadata": {},
   "outputs": [
    {
     "name": "stdout",
     "output_type": "stream",
     "text": [
      "1\n",
      "3\n",
      "5\n",
      "7\n",
      "9\n"
     ]
    },
    {
     "data": {
      "text/plain": [
       "11"
      ]
     },
     "execution_count": 4,
     "metadata": {},
     "output_type": "execute_result"
    }
   ],
   "source": [
    "var num = 1;\n",
    "\n",
    "while(num <= 10) {\n",
    "\tconsole.log(num);\n",
    "\tnum += 2;\n",
    "}"
   ]
  },
  {
   "cell_type": "code",
   "execution_count": 5,
   "metadata": {},
   "outputs": [
    {
     "name": "stdout",
     "output_type": "stream",
     "text": [
      "4\n",
      "8\n",
      "12\n",
      "16\n",
      "20\n"
     ]
    },
    {
     "data": {
      "text/plain": [
       "21"
      ]
     },
     "execution_count": 5,
     "metadata": {},
     "output_type": "execute_result"
    }
   ],
   "source": [
    "var num = 1\n",
    "\n",
    "while(num <= 20) {\n",
    "\tif(num % 4 === 0){\n",
    "\tconsole.log(num);\n",
    "\t}\n",
    "\tnum +=1;\n",
    "}"
   ]
  },
  {
   "cell_type": "code",
   "execution_count": null,
   "metadata": {
    "collapsed": true
   },
   "outputs": [],
   "source": [
    "var number = -10\n",
    "\n",
    "while (number <20) {\n",
    "\tconsole.log(num)\n",
    "\tnum +=1\n",
    "}"
   ]
  },
  {
   "cell_type": "markdown",
   "metadata": {},
   "source": [
    "## For loops\n",
    "\n",
    "for(init; condition; step) {\n",
    "\t//run some code\n",
    "}"
   ]
  },
  {
   "cell_type": "code",
   "execution_count": null,
   "metadata": {
    "collapsed": true
   },
   "outputs": [],
   "source": [
    "for(var count = 0; count<6; count++){\n",
    "\tconsole.log(count);\n",
    "}"
   ]
  },
  {
   "cell_type": "code",
   "execution_count": null,
   "metadata": {
    "collapsed": true
   },
   "outputs": [],
   "source": [
    "var str = \"hello\";\n",
    "\n",
    "for(var i=0; i < str.length; i++{\n",
    "\tconsole.log(str[i]);\n",
    "\t"
   ]
  },
  {
   "cell_type": "code",
   "execution_count": null,
   "metadata": {
    "collapsed": true
   },
   "outputs": [],
   "source": [
    "console.log(\"Print all numbers between -10 and 19\");\n",
    "for(var i = -10; i<20; i++){\n",
    "\tconsole.log(i);\n",
    "}"
   ]
  },
  {
   "cell_type": "code",
   "execution_count": null,
   "metadata": {
    "collapsed": true
   },
   "outputs": [],
   "source": [
    "// i+=2 method\n",
    "console.log(\"Print all odd numbers between 10 and 40\");\n",
    " for(var i = 10; i<=40; i+=2){\n",
    " \tconsole.log(i);\n",
    "}\n",
    "\n",
    "// if method\n",
    "console.log(\"Print all odd numbers between 10 and 40\");\n",
    " for(var i = 10; i<=40; i+=1){\n",
    " \tif(i % 2 !== 0){\n",
    " \t\tconsole.log(i)\n",
    " \t}\n",
    "}"
   ]
  },
  {
   "cell_type": "code",
   "execution_count": null,
   "metadata": {
    "collapsed": true
   },
   "outputs": [],
   "source": [
    "console.log(\"Print all odd numbers between 300 and 333\");\n",
    "for(var i = 300; i <=333; i+=1){\n",
    "\tif(i % 2 !== 0){\n",
    "\t\tconsole.log(i)\n",
    "\t}\n",
    "}"
   ]
  },
  {
   "cell_type": "code",
   "execution_count": null,
   "metadata": {
    "collapsed": true
   },
   "outputs": [],
   "source": [
    "console.log(\"Print all numbers divisible by 5 AND 3 between 5 and 50\");\n",
    " for(var i = 5; i<=50; i+=1){\n",
    " \tif (i%5 === 0 && i%3 ===0){\n",
    " \tconsole.log(i);\n",
    " \t}\n",
    "}"
   ]
  },
  {
   "cell_type": "markdown",
   "metadata": {},
   "source": [
    "## Functions"
   ]
  },
  {
   "cell_type": "code",
   "execution_count": null,
   "metadata": {
    "collapsed": true
   },
   "outputs": [],
   "source": [
    "function doSomething() {\n",
    "\tconsole.log(\"HELLO WORLD\");\n",
    "}\n",
    "\n",
    "doSomething()"
   ]
  },
  {
   "cell_type": "code",
   "execution_count": null,
   "metadata": {
    "collapsed": true
   },
   "outputs": [],
   "source": [
    "function singSong() {\n",
    "\tconsole.log(\"Twinkle, twinkle, little star,\");\n",
    "\tconsole.log(\"How I wonder what you are!\");\n",
    "\tconsole.log(\"Up above the world so high,\");\n",
    "\tconsole.log(\"Like a diamond in the sky\");\n",
    "}\n",
    "\n",
    "singSong()"
   ]
  },
  {
   "cell_type": "markdown",
   "metadata": {},
   "source": [
    "## Arguments"
   ]
  },
  {
   "cell_type": "code",
   "execution_count": null,
   "metadata": {
    "collapsed": true
   },
   "outputs": [],
   "source": [
    "function square(num) {\n",
    "    console.log(num*num);\n",
    "}\n",
    "\n",
    "square(10);\n",
    "square(3);"
   ]
  },
  {
   "cell_type": "code",
   "execution_count": null,
   "metadata": {
    "collapsed": true
   },
   "outputs": [],
   "source": [
    "function sayHello(name) {\n",
    "\tconsole.log(\"Hello there \" + name +\"!\")\n",
    "}\n",
    "\n",
    "sayHello(\"Rusty\")"
   ]
  },
  {
   "cell_type": "markdown",
   "metadata": {},
   "source": [
    "## The Return Keyword"
   ]
  },
  {
   "cell_type": "code",
   "execution_count": null,
   "metadata": {
    "collapsed": true
   },
   "outputs": [],
   "source": [
    "//this function capitalizes the first char in a string:\n",
    "\n",
    "function capitalize(str) {\n",
    "    if(typeof str === \"number\") {\n",
    "        return \"that's not a string!\"\n",
    "    }\n",
    "    return str.charAt(0).toUpperCase() + str.slice(1);\n",
    "}\n",
    "\n",
    "var num = 37;\n",
    "var capital = capitalize(num)"
   ]
  },
  {
   "cell_type": "code",
   "execution_count": 4,
   "metadata": {},
   "outputs": [
    {
     "data": {
      "text/plain": [
       "'Paris'"
      ]
     },
     "execution_count": 4,
     "metadata": {},
     "output_type": "execute_result"
    }
   ],
   "source": [
    "function capitalize(str) {\n",
    "    if(typeof str === \"number\") {\n",
    "        return \"that's not a string!\"\n",
    "    }\n",
    "    return str.charAt(0).toUpperCase() + str.slice(1);\n",
    "}\n",
    "\n",
    "var city = \"paris\";\n",
    "var capital = capitalize(city);\n",
    "capital;"
   ]
  },
  {
   "cell_type": "code",
   "execution_count": 3,
   "metadata": {},
   "outputs": [
    {
     "data": {
      "text/plain": [
       "'Hello'"
      ]
     },
     "execution_count": 3,
     "metadata": {},
     "output_type": "execute_result"
    }
   ],
   "source": [
    "//function expression\n",
    "var capitalize = function(str) {\n",
    "    return str.charAt(0).toUpperCase() + str.slice(1);\n",
    "}\n",
    "\n",
    "capitalize(\"hello\")"
   ]
  },
  {
   "cell_type": "code",
   "execution_count": 2,
   "metadata": {
    "collapsed": true
   },
   "outputs": [],
   "source": [
    "//function declaration\n",
    "function capitalize(str) {\n",
    "    return str.charAt(0).toUpperCase() + str.slice(1);\n",
    "}"
   ]
  },
  {
   "cell_type": "code",
   "execution_count": 1,
   "metadata": {},
   "outputs": [
    {
     "data": {
      "text/plain": [
       "30"
      ]
     },
     "execution_count": 1,
     "metadata": {},
     "output_type": "execute_result"
    }
   ],
   "source": [
    "function test(x,y) {\n",
    "    return y - x;\n",
    "}\n",
    "\n",
    "test(10,40)"
   ]
  },
  {
   "cell_type": "code",
   "execution_count": 5,
   "metadata": {},
   "outputs": [
    {
     "data": {
      "text/plain": [
       "80"
      ]
     },
     "execution_count": 5,
     "metadata": {},
     "output_type": "execute_result"
    }
   ],
   "source": [
    "function test(x) {\n",
    "\treturn x*2;\n",
    "\tconsole.log(x);\n",
    "\treturn x/2;\n",
    "}\n",
    "\n",
    "test(40);"
   ]
  },
  {
   "cell_type": "code",
   "execution_count": 13,
   "metadata": {},
   "outputs": [
    {
     "data": {
      "text/plain": [
       "true"
      ]
     },
     "execution_count": 13,
     "metadata": {},
     "output_type": "execute_result"
    }
   ],
   "source": [
    "function isEven(num) {\n",
    "    if (num%2 === 0) {\n",
    "        return true; \n",
    "    } else {\n",
    "        return false;\n",
    "    }\n",
    "}\n",
    "\n",
    "isEven(4)"
   ]
  },
  {
   "cell_type": "code",
   "execution_count": 14,
   "metadata": {},
   "outputs": [
    {
     "data": {
      "text/plain": [
       "false"
      ]
     },
     "execution_count": 14,
     "metadata": {},
     "output_type": "execute_result"
    }
   ],
   "source": [
    "isEven(21)"
   ]
  },
  {
   "cell_type": "code",
   "execution_count": 17,
   "metadata": {
    "collapsed": true
   },
   "outputs": [],
   "source": [
    "function isEven(num){\n",
    "    return num%2 === 0;\n",
    "}"
   ]
  },
  {
   "cell_type": "code",
   "execution_count": 28,
   "metadata": {},
   "outputs": [
    {
     "data": {
      "text/plain": [
       "24"
      ]
     },
     "execution_count": 28,
     "metadata": {},
     "output_type": "execute_result"
    }
   ],
   "source": [
    "function factorial(num){\n",
    "\tvar result =1;\n",
    "\tfor (var i=1; i <= num; i++){\n",
    "\t\tresult = result*i\n",
    "\t}\n",
    "    return result\n",
    "}\n",
    "\n",
    "factorial(4)"
   ]
  },
  {
   "cell_type": "code",
   "execution_count": 2,
   "metadata": {},
   "outputs": [
    {
     "data": {
      "text/plain": [
       "1"
      ]
     },
     "execution_count": 2,
     "metadata": {},
     "output_type": "execute_result"
    }
   ],
   "source": [
    "factorial(0)"
   ]
  },
  {
   "cell_type": "code",
   "execution_count": 1,
   "metadata": {
    "collapsed": true
   },
   "outputs": [],
   "source": [
    "function factorial(num){\n",
    "    if (num === 0){\n",
    "        return 1;\n",
    "    }\n",
    "\tvar result =num;\n",
    "\tfor (var i=num-1; i >= 1; i--){\n",
    "\t\tresult = result*i\n",
    "\t}\n",
    "\treturn result;\n",
    "}"
   ]
  },
  {
   "cell_type": "code",
   "execution_count": 4,
   "metadata": {},
   "outputs": [
    {
     "data": {
      "text/plain": [
       "'hello_world'"
      ]
     },
     "execution_count": 4,
     "metadata": {},
     "output_type": "execute_result"
    }
   ],
   "source": [
    "function kebabToSnake(string){\n",
    "\tvar newStr = string.replace(/-/g, \"_\");\n",
    "\treturn newStr;\n",
    "}    \n",
    "kebabToSnake(\"hello-world\")"
   ]
  },
  {
   "cell_type": "markdown",
   "metadata": {},
   "source": [
    "## JS Scope"
   ]
  },
  {
   "cell_type": "code",
   "execution_count": 7,
   "metadata": {},
   "outputs": [
    {
     "data": {
      "text/plain": [
       "true"
      ]
     },
     "execution_count": 7,
     "metadata": {},
     "output_type": "execute_result"
    }
   ],
   "source": [
    "var num = 8;\n",
    "function doMathMath() {\n",
    "\tnum += 1\n",
    "\tif(num % 5 == 0) {\n",
    "\t\treturn true\n",
    "\t} else {\n",
    "\t\treturn false\n",
    "\t}\n",
    "}\n",
    "\n",
    "num += 1\n",
    "doMath()"
   ]
  },
  {
   "cell_type": "markdown",
   "metadata": {},
   "source": [
    "High Order Functions Code Along:\n",
    "\n",
    "setInterval(anotherFunc, interval in miliseconds)"
   ]
  },
  {
   "cell_type": "code",
   "execution_count": null,
   "metadata": {
    "collapsed": true
   },
   "outputs": [],
   "source": [
    "function sing(){\n",
    "\tconsole.log(\"twinkle twinkle...\");\n",
    "\tconsole.log(\"how i wonder...\");\n",
    "}\n",
    "\n",
    "setInterval(sing, 1000);\n",
    "\n",
    "clearInterval(#);"
   ]
  },
  {
   "cell_type": "markdown",
   "metadata": {},
   "source": [
    "## Array"
   ]
  },
  {
   "cell_type": "code",
   "execution_count": null,
   "metadata": {
    "collapsed": true
   },
   "outputs": [],
   "source": [
    "var friends = [\"Charlie\", \"Liz\", \"David\", \"Mattias\"];"
   ]
  },
  {
   "cell_type": "code",
   "execution_count": null,
   "metadata": {
    "collapsed": true
   },
   "outputs": [],
   "source": [
    "//We can initialize an empty array two ways:\n",
    "var friends = []; //no friends\n",
    "var friends = new Array() //uncommon"
   ]
  },
  {
   "cell_type": "code",
   "execution_count": null,
   "metadata": {
    "collapsed": true
   },
   "outputs": [],
   "source": [
    "//Arrays can hold any type of data\n",
    "var random_collection = [49, true, \"Hermione\", null];"
   ]
  },
  {
   "cell_type": "code",
   "execution_count": null,
   "metadata": {
    "collapsed": true
   },
   "outputs": [],
   "source": [
    "//Arrays have a length property\n",
    "var nums = [45, 37, 89, 24];\n",
    "nums.length"
   ]
  },
  {
   "cell_type": "markdown",
   "metadata": {},
   "source": [
    "## Array methods:\n",
    "-push/pop\n",
    "-shift/unshift\n",
    "-indexOf\n",
    "-slice\n",
    "\n",
    "push/pop\n",
    "-use push to add to the end of an array"
   ]
  },
  {
   "cell_type": "code",
   "execution_count": null,
   "metadata": {
    "collapsed": true
   },
   "outputs": [],
   "source": [
    "var colors = [\"red\", \"orange\", \"yellow\"];\n",
    "colors.push(\"green\");\n",
    "\n",
    "-use pop to remove the last item in an array\n",
    "var colors = [\"red\", \"orange\", \"yellow\"];\n",
    "var col = colors.pop(); "
   ]
  },
  {
   "cell_type": "markdown",
   "metadata": {},
   "source": [
    "## Shift and Unshift:\n",
    "-use unshift to add to the front of an array\n",
    "-use shift to remove the first item in an array"
   ]
  },
  {
   "cell_type": "code",
   "execution_count": null,
   "metadata": {
    "collapsed": true
   },
   "outputs": [],
   "source": [
    "var colors = [\"red\", \"orange\", \"yellow\"];\n",
    "colors.unshift(\"infrared\")\n",
    "\n",
    "var colors = [\"red\", \"orange\", \"yellow\"];\n",
    "colors.shift();\n",
    "\n",
    "var col = colors.shirt();\n",
    "\n"
   ]
  },
  {
   "cell_type": "markdown",
   "metadata": {},
   "source": [
    "## IndexOf\n",
    "-use indesOf() to find the index of an item in an array"
   ]
  },
  {
   "cell_type": "code",
   "execution_count": null,
   "metadata": {
    "collapsed": true
   },
   "outputs": [],
   "source": [
    "var friends = [\"Charlie\", \"Liz\", \"David\", \"Mattias\", \"Liz\"];\n",
    "friends.indexOf(\"David\");\n",
    "friends.indexOf(\"Liz\");\n",
    "\n",
    "//returns -1 if the element is not present\n",
    "friends.indexOf(\"Hagrid\");"
   ]
  },
  {
   "cell_type": "markdown",
   "metadata": {},
   "source": [
    "## Slice:\n",
    "-use slice() to copy parts of an array"
   ]
  },
  {
   "cell_type": "code",
   "execution_count": null,
   "metadata": {
    "collapsed": true
   },
   "outputs": [],
   "source": [
    "var fruits = ['Banana', 'Orange', 'Lemon', 'Apple', 'Mango'];\n",
    "//specify index where the new array starts(1) and ends(3)\n",
    "//this does not alter the original fruits array\n",
    "var citrus = fruits.slice(1,3);\n",
    "\n",
    "/you can also use slice() to copy an entire array\n",
    "var nums = [1,2,3];\n",
    "var otherNums = nums.slice();\n",
    "\n",
    "window.setTimeout(function() {\n",
    "  // put all of your JS code from the lecture here\n",
    "}, 500);"
   ]
  },
  {
   "cell_type": "markdown",
   "metadata": {},
   "source": [
    "## Array Iteration:\n",
    "-use a for loop to iterate over an array\n",
    "-use forEach to iterate over an array\n",
    "-compare and contrast for loop and forEach"
   ]
  },
  {
   "cell_type": "code",
   "execution_count": 11,
   "metadata": {},
   "outputs": [
    {
     "name": "stdout",
     "output_type": "stream",
     "text": [
      "red\n",
      "orange\n",
      "yellow\n",
      "green\n"
     ]
    }
   ],
   "source": [
    "//to loop over an array using a for loop, we need to make use of the array's length property\n",
    "var colors = [\"red\", \"orange\", \"yellow\", \"green\"];\n",
    "\n",
    "for(var i=0; i < colors.length; i++) {\n",
    "\tconsole.log(colors[i]);\n",
    "}"
   ]
  },
  {
   "cell_type": "code",
   "execution_count": null,
   "metadata": {
    "collapsed": true
   },
   "outputs": [],
   "source": [
    "//ForEach: JavaScript provides an easy built-in way of iterating over an array\n",
    "//arr.forEach(someFunciton)\n",
    "\n",
    "var colors = [\"red\", \"orange\", \"yellow\", \"green\"];\n",
    "colors.forEach(function(color){\n",
    "\t//color is a placeholder, call it whatever you want\n",
    "\tconsole.log(color);\n",
    "});"
   ]
  },
  {
   "cell_type": "code",
   "execution_count": null,
   "metadata": {
    "collapsed": true
   },
   "outputs": [],
   "source": [
    "//.forEach\n",
    "\n",
    "var numbers = [1,2,3,4,5,6,7,8,9,10]\n",
    "var colors = [\"red\", \"orange\", \"yellow\", \"green\"];\n",
    "\n",
    "numbers.forEach(function(color){\n",
    "\tif(color% 3 === 0) {\n",
    "\t\tconsole.log(color);\n",
    "\t}\n",
    "});"
   ]
  },
  {
   "cell_type": "code",
   "execution_count": null,
   "metadata": {
    "collapsed": true
   },
   "outputs": [],
   "source": [
    "//For Loop:\n",
    "\n",
    "var numbers = [1,2,3,4,5,6,7,8,9,10]\n",
    "for(var i=0; i < numbers.length; i++) {\n",
    "\tif(numbers[i] % 3 === 0) {\n",
    "\tconsole.log(numbers[i]);\n",
    "\t}\n",
    "}"
   ]
  },
  {
   "cell_type": "markdown",
   "metadata": {},
   "source": [
    "## .forEach:\n",
    "\n",
    "The arguments are in a specific order:\n",
    "- The first one represents each element in the array (per loop iteration) that .forEach was called on.\n",
    "- The second represents the index of said element.\n",
    "- The third represents the array that .forEach was called on (it will be the same for every iteration of the loop).\n",
    "\n",
    "You have a couple options when calling .forEach on an array:"
   ]
  },
  {
   "cell_type": "code",
   "execution_count": null,
   "metadata": {
    "collapsed": true
   },
   "outputs": [],
   "source": [
    "//You can pass in an anonymous function:\n",
    "\n",
    "[1,2,3].forEach(function(el, i, arr) {\n",
    "  console.log(el, i, arr);\n",
    "});\n"
   ]
  },
  {
   "cell_type": "code",
   "execution_count": null,
   "metadata": {
    "collapsed": true
   },
   "outputs": [],
   "source": [
    "//Or you can pass in a pre-written, named function.\n",
    "\n",
    "function logNums(el, i, arr) {\n",
    "  console.log(el, i, arr);\n",
    "}\n",
    " \n",
    "[1,2,3].forEach(logNums);"
   ]
  },
  {
   "cell_type": "code",
   "execution_count": 15,
   "metadata": {},
   "outputs": [
    {
     "name": "stdout",
     "output_type": "stream",
     "text": [
      "4\n",
      "3\n",
      "2\n",
      "1\n"
     ]
    }
   ],
   "source": [
    "function printReverse(array){\n",
    "\tfor(var i=array.length-1; i >= 0; i--) {\n",
    "\tconsole.log(array[i]);\n",
    "\t}\n",
    "}\n",
    "\n",
    "printReverse([1,2,3,4]);"
   ]
  },
  {
   "cell_type": "code",
   "execution_count": 24,
   "metadata": {},
   "outputs": [
    {
     "data": {
      "text/plain": [
       "false"
      ]
     },
     "execution_count": 24,
     "metadata": {},
     "output_type": "execute_result"
    }
   ],
   "source": [
    "function isUniform(array){\n",
    "\tfor(var i=0; i < array.length; i++) {\n",
    "\t\tif (array[i] !== array[i+1]) {\n",
    "\t\t\treturn false}\n",
    "        else {\n",
    "            return true\n",
    "        }\n",
    "\t\tconsole.log(array[i]);\n",
    "\t}\n",
    "}\n",
    "\n",
    "isUniform([1,2,1,1]);"
   ]
  },
  {
   "cell_type": "code",
   "execution_count": 32,
   "metadata": {},
   "outputs": [
    {
     "data": {
      "text/plain": [
       "95"
      ]
     },
     "execution_count": 32,
     "metadata": {},
     "output_type": "execute_result"
    }
   ],
   "source": [
    "function sumArray(array){\n",
    "\tvar result = 0;\n",
    "\tfor(var i=0; i < array.length; i++) {\n",
    "\t\tresult = result + array[i];\n",
    "\t}\n",
    "    return result\n",
    "}\n",
    "\n",
    "sumArray([-5,100]);"
   ]
  },
  {
   "cell_type": "markdown",
   "metadata": {
    "collapsed": true
   },
   "source": [
    "## Array problem set"
   ]
  },
  {
   "cell_type": "code",
   "execution_count": 1,
   "metadata": {},
   "outputs": [
    {
     "name": "stdout",
     "output_type": "stream",
     "text": [
      "4\n",
      "3\n",
      "2\n",
      "1\n"
     ]
    }
   ],
   "source": [
    "function printReverse(array){\n",
    "    for(var i=array.length-1; i >= 0; i--) {\n",
    "    console.log(array[i]);\n",
    "    }\n",
    "}\n",
    "\n",
    "printReverse([1,2,3,4]);"
   ]
  },
  {
   "cell_type": "code",
   "execution_count": 2,
   "metadata": {},
   "outputs": [
    {
     "name": "stdout",
     "output_type": "stream",
     "text": [
      "1\n",
      "1\n",
      "1\n"
     ]
    },
    {
     "data": {
      "text/plain": [
       "true"
      ]
     },
     "execution_count": 2,
     "metadata": {},
     "output_type": "execute_result"
    }
   ],
   "source": [
    "function isUniform(arr){\n",
    "    var first = arr[0];\n",
    "    for(var i=1; i < arr.length; i++) {\n",
    "        if (arr[i] !== first) {\n",
    "            return false;\n",
    "            }\n",
    "        console.log(arr[i]);\n",
    "    }\n",
    "    return true;\n",
    "}\n",
    "\n",
    "isUniform([1,1,1,1]);"
   ]
  },
  {
   "cell_type": "code",
   "execution_count": 3,
   "metadata": {},
   "outputs": [
    {
     "data": {
      "text/plain": [
       "6"
      ]
     },
     "execution_count": 3,
     "metadata": {},
     "output_type": "execute_result"
    }
   ],
   "source": [
    "function sumArray(arr){\n",
    "    var total = 0;\n",
    "    arr.forEach(function(element){\n",
    "        total += element;\n",
    "    });\n",
    "    return total\n",
    "}\n",
    "\n",
    "sumArray([1,2,3]);"
   ]
  },
  {
   "cell_type": "code",
   "execution_count": 4,
   "metadata": {},
   "outputs": [
    {
     "data": {
      "text/plain": [
       "6"
      ]
     },
     "execution_count": 4,
     "metadata": {},
     "output_type": "execute_result"
    }
   ],
   "source": [
    "function sumArray(array){\n",
    "\tvar result = 0;\n",
    "\tfor(var i=0; i < array.length; i++) {\n",
    "\t\tresult = result + array[i];\n",
    "\t}\n",
    "    return result\n",
    "}\n",
    "\n",
    "sumArray([1,2,3]);"
   ]
  },
  {
   "cell_type": "code",
   "execution_count": 5,
   "metadata": {},
   "outputs": [
    {
     "data": {
      "text/plain": [
       "3"
      ]
     },
     "execution_count": 5,
     "metadata": {},
     "output_type": "execute_result"
    }
   ],
   "source": [
    "function max(arr){\n",
    "\tvar max = arr[0];\n",
    "\tfor(var i=1; i < arr.length; i++) {\n",
    "\t\tif(arr[i] > arr[0]){\n",
    "\t\t\tmax = arr[i]\n",
    "\t\t}\n",
    "\t}\n",
    "    return max\n",
    "}\n",
    "\n",
    "max([1,2,3]);"
   ]
  },
  {
   "cell_type": "code",
   "execution_count": null,
   "metadata": {
    "collapsed": true
   },
   "outputs": [],
   "source": []
  },
  {
   "cell_type": "code",
   "execution_count": null,
   "metadata": {
    "collapsed": true
   },
   "outputs": [],
   "source": []
  },
  {
   "cell_type": "code",
   "execution_count": null,
   "metadata": {
    "collapsed": true
   },
   "outputs": [],
   "source": []
  },
  {
   "cell_type": "code",
   "execution_count": null,
   "metadata": {
    "collapsed": true
   },
   "outputs": [],
   "source": []
  },
  {
   "cell_type": "code",
   "execution_count": null,
   "metadata": {
    "collapsed": true
   },
   "outputs": [],
   "source": []
  },
  {
   "cell_type": "code",
   "execution_count": null,
   "metadata": {
    "collapsed": true
   },
   "outputs": [],
   "source": []
  },
  {
   "cell_type": "code",
   "execution_count": null,
   "metadata": {
    "collapsed": true
   },
   "outputs": [],
   "source": []
  },
  {
   "cell_type": "code",
   "execution_count": null,
   "metadata": {
    "collapsed": true
   },
   "outputs": [],
   "source": []
  },
  {
   "cell_type": "code",
   "execution_count": null,
   "metadata": {
    "collapsed": true
   },
   "outputs": [],
   "source": []
  },
  {
   "cell_type": "code",
   "execution_count": null,
   "metadata": {
    "collapsed": true
   },
   "outputs": [],
   "source": []
  },
  {
   "cell_type": "code",
   "execution_count": null,
   "metadata": {
    "collapsed": true
   },
   "outputs": [],
   "source": []
  },
  {
   "cell_type": "code",
   "execution_count": null,
   "metadata": {
    "collapsed": true
   },
   "outputs": [],
   "source": []
  },
  {
   "cell_type": "code",
   "execution_count": null,
   "metadata": {
    "collapsed": true
   },
   "outputs": [],
   "source": []
  },
  {
   "cell_type": "code",
   "execution_count": null,
   "metadata": {
    "collapsed": true
   },
   "outputs": [],
   "source": []
  },
  {
   "cell_type": "code",
   "execution_count": null,
   "metadata": {
    "collapsed": true
   },
   "outputs": [],
   "source": []
  },
  {
   "cell_type": "code",
   "execution_count": null,
   "metadata": {
    "collapsed": true
   },
   "outputs": [],
   "source": []
  },
  {
   "cell_type": "code",
   "execution_count": null,
   "metadata": {
    "collapsed": true
   },
   "outputs": [],
   "source": []
  },
  {
   "cell_type": "code",
   "execution_count": null,
   "metadata": {
    "collapsed": true
   },
   "outputs": [],
   "source": []
  },
  {
   "cell_type": "code",
   "execution_count": null,
   "metadata": {
    "collapsed": true
   },
   "outputs": [],
   "source": []
  },
  {
   "cell_type": "code",
   "execution_count": null,
   "metadata": {
    "collapsed": true
   },
   "outputs": [],
   "source": []
  },
  {
   "cell_type": "code",
   "execution_count": null,
   "metadata": {
    "collapsed": true
   },
   "outputs": [],
   "source": []
  },
  {
   "cell_type": "code",
   "execution_count": null,
   "metadata": {
    "collapsed": true
   },
   "outputs": [],
   "source": []
  }
 ],
 "metadata": {
  "kernelspec": {
   "display_name": "Javascript (Node.js)",
   "language": "javascript",
   "name": "javascript"
  },
  "language_info": {
   "file_extension": ".js",
   "mimetype": "application/javascript",
   "name": "javascript",
   "version": "8.11.3"
  }
 },
 "nbformat": 4,
 "nbformat_minor": 2
}
